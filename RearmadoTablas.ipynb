{
 "cells": [
  {
   "cell_type": "markdown",
   "metadata": {},
   "source": [
    "### Se modifican las tablas para optimizar espacio y legibilidad de los datos"
   ]
  },
  {
   "cell_type": "code",
   "execution_count": 1,
   "metadata": {},
   "outputs": [],
   "source": [
    "#se importan las librerias a utilizar\n",
    "import pandas as pd\n",
    "import numpy as np"
   ]
  },
  {
   "cell_type": "code",
   "execution_count": 2,
   "metadata": {},
   "outputs": [],
   "source": [
    "#Se importan las tablas a modificar:\n",
    "\n",
    "SalesDetail = pd.read_csv (\"SalesFINAL12312016.csv\", sep=\",\")\n",
    "Sales = pd.read_csv (\"SalesFINAL12312016.csv\", sep=\",\")\n",
    "Inventory = pd.read_csv (\"ComienzoInv2016.csv\", sep=\",\")\n",
    "Purchases = pd.read_csv (\"PurchasesFINAL12312016.csv\", sep= \",\")\n",
    "InvoicePurchases = pd.read_csv (\"InvoicePurchases12312016.csv\", sep=\",\")\n",
    "Suppliers = pd.read_csv (\"InvoicePurchases12312016.csv\", sep=\",\")\n",
    "\n"
   ]
  },
  {
   "cell_type": "markdown",
   "metadata": {},
   "source": [
    "### SalesDetails"
   ]
  },
  {
   "cell_type": "code",
   "execution_count": 3,
   "metadata": {},
   "outputs": [
    {
     "name": "stdout",
     "output_type": "stream",
     "text": [
      "                 InventoryId  Store  Brand                 Description  \\\n",
      "0        1_HARDERSFIELD_1004      1   1004  Jim Beam w/2 Rocks Glasses   \n",
      "1        1_HARDERSFIELD_1004      1   1004  Jim Beam w/2 Rocks Glasses   \n",
      "2        1_HARDERSFIELD_1004      1   1004  Jim Beam w/2 Rocks Glasses   \n",
      "3        1_HARDERSFIELD_1004      1   1004  Jim Beam w/2 Rocks Glasses   \n",
      "4        1_HARDERSFIELD_1005      1   1005     Maker's Mark Combo Pack   \n",
      "...                      ...    ...    ...                         ...   \n",
      "1048570  19_WINTERVALE_39384     19  39384    F Coppola Diamond Pnt Nr   \n",
      "1048571  19_WINTERVALE_39384     19  39384    F Coppola Diamond Pnt Nr   \n",
      "1048572  19_WINTERVALE_39384     19  39384    F Coppola Diamond Pnt Nr   \n",
      "1048573  19_WINTERVALE_39384     19  39384    F Coppola Diamond Pnt Nr   \n",
      "1048574  19_WINTERVALE_39384     19  39384    F Coppola Diamond Pnt Nr   \n",
      "\n",
      "               Size  SalesQuantity  SalesDollars  SalesPrice  SalesDate  \\\n",
      "0             750mL              1         16.49       16.49   1/1/2016   \n",
      "1             750mL              2         32.98       16.49   1/2/2016   \n",
      "2             750mL              1         16.49       16.49   1/3/2016   \n",
      "3             750mL              1         14.49       14.49   1/8/2016   \n",
      "4        375mL 2 Pk              2         69.98       34.99   1/9/2016   \n",
      "...             ...            ...           ...         ...        ...   \n",
      "1048570       750mL              4         51.80       12.95  2/12/2016   \n",
      "1048571       750mL              8        103.60       12.95  2/13/2016   \n",
      "1048572       750mL              1         12.95       12.95  2/19/2016   \n",
      "1048573       750mL              3         38.85       12.95  2/22/2016   \n",
      "1048574       750mL              2         25.90       12.95  2/24/2016   \n",
      "\n",
      "         Volume  Classification  ExciseTax  VendorNo  \\\n",
      "0           750               1       0.79     12546   \n",
      "1           750               1       1.57     12546   \n",
      "2           750               1       0.79     12546   \n",
      "3           750               1       0.79     12546   \n",
      "4           375               1       0.79     12546   \n",
      "...         ...             ...        ...       ...   \n",
      "1048570     750               2       0.45      2000   \n",
      "1048571     750               2       0.90      2000   \n",
      "1048572     750               2       0.11      2000   \n",
      "1048573     750               2       0.34      2000   \n",
      "1048574     750               2       0.22      2000   \n",
      "\n",
      "                          VendorName  \n",
      "0        JIM BEAM BRANDS COMPANY      \n",
      "1        JIM BEAM BRANDS COMPANY      \n",
      "2        JIM BEAM BRANDS COMPANY      \n",
      "3        JIM BEAM BRANDS COMPANY      \n",
      "4        JIM BEAM BRANDS COMPANY      \n",
      "...                              ...  \n",
      "1048570  SOUTHERN WINE & SPIRITS NE   \n",
      "1048571  SOUTHERN WINE & SPIRITS NE   \n",
      "1048572  SOUTHERN WINE & SPIRITS NE   \n",
      "1048573  SOUTHERN WINE & SPIRITS NE   \n",
      "1048574  SOUTHERN WINE & SPIRITS NE   \n",
      "\n",
      "[1048575 rows x 14 columns]\n"
     ]
    }
   ],
   "source": [
    "#Se ven las columnas para analizar cuales quedan segun el diagrama entidad relacion hecho.\n",
    "print (SalesDetail)"
   ]
  },
  {
   "cell_type": "code",
   "execution_count": 4,
   "metadata": {},
   "outputs": [],
   "source": [
    "#Se pasan a eliminar las columnas que no son necesarias en esta tabla\n",
    "# Especificar las columnas que quieres eliminar\n",
    "columns_to_drop = ['InventoryId', 'Store', 'Brand', 'Description',  'SalesDate', 'Volume', 'Classification', 'ExciseTax', 'VendorName','VendorNo']\n",
    "\n",
    "# Verificar si las columnas a eliminar existen en el DataFrame\n",
    "existing_columns_to_drop = [col for col in columns_to_drop if col in SalesDetail.columns]\n",
    "\n",
    "# Imprimir advertencia para las columnas no encontradas\n",
    "for col in columns_to_drop:\n",
    "    if col not in SalesDetail.columns:\n",
    "        print(f\"Advertencia: La columna '{col}' no existe en el DataFrame y no se puede eliminar.\")\n",
    "\n",
    "# Eliminar las columnas especificadas que existen\n",
    "SalesDetail.drop(columns=existing_columns_to_drop, axis=1, inplace=True)\n"
   ]
  },
  {
   "cell_type": "code",
   "execution_count": 5,
   "metadata": {},
   "outputs": [
    {
     "name": "stdout",
     "output_type": "stream",
     "text": [
      "               Size  SalesQuantity  SalesDollars  SalesPrice\n",
      "0             750mL              1         16.49       16.49\n",
      "1             750mL              2         32.98       16.49\n",
      "2             750mL              1         16.49       16.49\n",
      "3             750mL              1         14.49       14.49\n",
      "4        375mL 2 Pk              2         69.98       34.99\n",
      "...             ...            ...           ...         ...\n",
      "1048570       750mL              4         51.80       12.95\n",
      "1048571       750mL              8        103.60       12.95\n",
      "1048572       750mL              1         12.95       12.95\n",
      "1048573       750mL              3         38.85       12.95\n",
      "1048574       750mL              2         25.90       12.95\n",
      "\n",
      "[1048575 rows x 4 columns]\n"
     ]
    }
   ],
   "source": [
    "#Se ven las columnas para analizar cuales quedan segun el diagrama entidad/relacion hecho.\n",
    "print (SalesDetail)"
   ]
  },
  {
   "cell_type": "code",
   "execution_count": 6,
   "metadata": {},
   "outputs": [],
   "source": [
    "#Se crea la columna indice con el nombre correspondiente\n",
    "SalesDetail['DetailSalesID'] = range(1, len(SalesDetail) + 1)\n",
    "SalesDetail['IDSales'] = range(1, len(SalesDetail) + 1)"
   ]
  },
  {
   "cell_type": "code",
   "execution_count": 7,
   "metadata": {},
   "outputs": [
    {
     "name": "stdout",
     "output_type": "stream",
     "text": [
      "               Size  SalesQuantity  SalesDollars  SalesPrice  DetailSalesID  \\\n",
      "0             750mL              1         16.49       16.49              1   \n",
      "1             750mL              2         32.98       16.49              2   \n",
      "2             750mL              1         16.49       16.49              3   \n",
      "3             750mL              1         14.49       14.49              4   \n",
      "4        375mL 2 Pk              2         69.98       34.99              5   \n",
      "...             ...            ...           ...         ...            ...   \n",
      "1048570       750mL              4         51.80       12.95        1048571   \n",
      "1048571       750mL              8        103.60       12.95        1048572   \n",
      "1048572       750mL              1         12.95       12.95        1048573   \n",
      "1048573       750mL              3         38.85       12.95        1048574   \n",
      "1048574       750mL              2         25.90       12.95        1048575   \n",
      "\n",
      "         IDSales  \n",
      "0              1  \n",
      "1              2  \n",
      "2              3  \n",
      "3              4  \n",
      "4              5  \n",
      "...          ...  \n",
      "1048570  1048571  \n",
      "1048571  1048572  \n",
      "1048572  1048573  \n",
      "1048573  1048574  \n",
      "1048574  1048575  \n",
      "\n",
      "[1048575 rows x 6 columns]\n"
     ]
    }
   ],
   "source": [
    "print (SalesDetail)"
   ]
  },
  {
   "cell_type": "markdown",
   "metadata": {},
   "source": [
    "### Sales"
   ]
  },
  {
   "cell_type": "code",
   "execution_count": 8,
   "metadata": {},
   "outputs": [
    {
     "name": "stdout",
     "output_type": "stream",
     "text": [
      "                 InventoryId  Store  Brand                 Description  \\\n",
      "0        1_HARDERSFIELD_1004      1   1004  Jim Beam w/2 Rocks Glasses   \n",
      "1        1_HARDERSFIELD_1004      1   1004  Jim Beam w/2 Rocks Glasses   \n",
      "2        1_HARDERSFIELD_1004      1   1004  Jim Beam w/2 Rocks Glasses   \n",
      "3        1_HARDERSFIELD_1004      1   1004  Jim Beam w/2 Rocks Glasses   \n",
      "4        1_HARDERSFIELD_1005      1   1005     Maker's Mark Combo Pack   \n",
      "...                      ...    ...    ...                         ...   \n",
      "1048570  19_WINTERVALE_39384     19  39384    F Coppola Diamond Pnt Nr   \n",
      "1048571  19_WINTERVALE_39384     19  39384    F Coppola Diamond Pnt Nr   \n",
      "1048572  19_WINTERVALE_39384     19  39384    F Coppola Diamond Pnt Nr   \n",
      "1048573  19_WINTERVALE_39384     19  39384    F Coppola Diamond Pnt Nr   \n",
      "1048574  19_WINTERVALE_39384     19  39384    F Coppola Diamond Pnt Nr   \n",
      "\n",
      "               Size  SalesQuantity  SalesDollars  SalesPrice  SalesDate  \\\n",
      "0             750mL              1         16.49       16.49   1/1/2016   \n",
      "1             750mL              2         32.98       16.49   1/2/2016   \n",
      "2             750mL              1         16.49       16.49   1/3/2016   \n",
      "3             750mL              1         14.49       14.49   1/8/2016   \n",
      "4        375mL 2 Pk              2         69.98       34.99   1/9/2016   \n",
      "...             ...            ...           ...         ...        ...   \n",
      "1048570       750mL              4         51.80       12.95  2/12/2016   \n",
      "1048571       750mL              8        103.60       12.95  2/13/2016   \n",
      "1048572       750mL              1         12.95       12.95  2/19/2016   \n",
      "1048573       750mL              3         38.85       12.95  2/22/2016   \n",
      "1048574       750mL              2         25.90       12.95  2/24/2016   \n",
      "\n",
      "         Volume  Classification  ExciseTax  VendorNo  \\\n",
      "0           750               1       0.79     12546   \n",
      "1           750               1       1.57     12546   \n",
      "2           750               1       0.79     12546   \n",
      "3           750               1       0.79     12546   \n",
      "4           375               1       0.79     12546   \n",
      "...         ...             ...        ...       ...   \n",
      "1048570     750               2       0.45      2000   \n",
      "1048571     750               2       0.90      2000   \n",
      "1048572     750               2       0.11      2000   \n",
      "1048573     750               2       0.34      2000   \n",
      "1048574     750               2       0.22      2000   \n",
      "\n",
      "                          VendorName  \n",
      "0        JIM BEAM BRANDS COMPANY      \n",
      "1        JIM BEAM BRANDS COMPANY      \n",
      "2        JIM BEAM BRANDS COMPANY      \n",
      "3        JIM BEAM BRANDS COMPANY      \n",
      "4        JIM BEAM BRANDS COMPANY      \n",
      "...                              ...  \n",
      "1048570  SOUTHERN WINE & SPIRITS NE   \n",
      "1048571  SOUTHERN WINE & SPIRITS NE   \n",
      "1048572  SOUTHERN WINE & SPIRITS NE   \n",
      "1048573  SOUTHERN WINE & SPIRITS NE   \n",
      "1048574  SOUTHERN WINE & SPIRITS NE   \n",
      "\n",
      "[1048575 rows x 14 columns]\n"
     ]
    }
   ],
   "source": [
    "print (Sales)"
   ]
  },
  {
   "cell_type": "code",
   "execution_count": 9,
   "metadata": {},
   "outputs": [],
   "source": [
    "#Se pasan a eliminar las columnas que no son necesarias en esta tabla\n",
    "# Especificar las columnas que quieres eliminar\n",
    "columns_to_drop = ['InventoryId', 'Brand', 'Description', 'Size', 'SalesQuantity', 'SalesDollars', 'SalesPrice', 'Volume', 'Classification', 'VendorName','VendorNo']\n",
    "\n",
    "# Verificar si las columnas a eliminar existen en el DataFrame\n",
    "existing_columns_to_drop = [col for col in columns_to_drop if col in Sales.columns]\n",
    "\n",
    "# Imprimir advertencia para las columnas no encontradas\n",
    "for col in columns_to_drop:\n",
    "    if col not in Sales.columns:\n",
    "        print(f\"Advertencia: La columna '{col}' no existe en el DataFrame y no se puede eliminar.\")\n",
    "\n",
    "# Eliminar las columnas especificadas que existen\n",
    "Sales.drop(columns=existing_columns_to_drop, axis=1, inplace=True)"
   ]
  },
  {
   "cell_type": "code",
   "execution_count": 10,
   "metadata": {},
   "outputs": [
    {
     "name": "stdout",
     "output_type": "stream",
     "text": [
      "         Store  SalesDate  ExciseTax\n",
      "0            1   1/1/2016       0.79\n",
      "1            1   1/2/2016       1.57\n",
      "2            1   1/3/2016       0.79\n",
      "3            1   1/8/2016       0.79\n",
      "4            1   1/9/2016       0.79\n",
      "...        ...        ...        ...\n",
      "1048570     19  2/12/2016       0.45\n",
      "1048571     19  2/13/2016       0.90\n",
      "1048572     19  2/19/2016       0.11\n",
      "1048573     19  2/22/2016       0.34\n",
      "1048574     19  2/24/2016       0.22\n",
      "\n",
      "[1048575 rows x 3 columns]\n"
     ]
    }
   ],
   "source": [
    "print (Sales)"
   ]
  },
  {
   "cell_type": "code",
   "execution_count": 11,
   "metadata": {},
   "outputs": [],
   "source": [
    "#Se crea la columna indice con el nombre correspondiente\n",
    "Sales['IDSales'] = range(1, len(Sales) + 1)"
   ]
  },
  {
   "cell_type": "code",
   "execution_count": 12,
   "metadata": {},
   "outputs": [
    {
     "name": "stdout",
     "output_type": "stream",
     "text": [
      "         Store  SalesDate  ExciseTax  IDSales\n",
      "0            1   1/1/2016       0.79        1\n",
      "1            1   1/2/2016       1.57        2\n",
      "2            1   1/3/2016       0.79        3\n",
      "3            1   1/8/2016       0.79        4\n",
      "4            1   1/9/2016       0.79        5\n",
      "...        ...        ...        ...      ...\n",
      "1048570     19  2/12/2016       0.45  1048571\n",
      "1048571     19  2/13/2016       0.90  1048572\n",
      "1048572     19  2/19/2016       0.11  1048573\n",
      "1048573     19  2/22/2016       0.34  1048574\n",
      "1048574     19  2/24/2016       0.22  1048575\n",
      "\n",
      "[1048575 rows x 4 columns]\n"
     ]
    }
   ],
   "source": [
    "print (Sales)"
   ]
  },
  {
   "cell_type": "markdown",
   "metadata": {},
   "source": [
    "### Inventory"
   ]
  },
  {
   "cell_type": "code",
   "execution_count": 13,
   "metadata": {},
   "outputs": [
    {
     "name": "stdout",
     "output_type": "stream",
     "text": [
      "                    Brand1  Store          City  InventoryId1  \\\n",
      "0        1_HARDERSFIELD_58      1  HARDERSFIELD            58   \n",
      "1        1_HARDERSFIELD_60      1  HARDERSFIELD            60   \n",
      "2        1_HARDERSFIELD_62      1  HARDERSFIELD            62   \n",
      "3        1_HARDERSFIELD_63      1  HARDERSFIELD            63   \n",
      "4        1_HARDERSFIELD_72      1  HARDERSFIELD            72   \n",
      "...                    ...    ...           ...           ...   \n",
      "206524  79_BALLYMENA_46985     79     BALLYMENA         46985   \n",
      "206525  79_BALLYMENA_47014     79     BALLYMENA         47014   \n",
      "206526  79_BALLYMENA_47090     79     BALLYMENA         47090   \n",
      "206527  79_BALLYMENA_90011     79     BALLYMENA         90011   \n",
      "206528  79_BALLYMENA_90089     79     BALLYMENA         90089   \n",
      "\n",
      "                         Description   Size  onHand   Price   startDate  \n",
      "0        Gekkeikan Black & Gold Sake  750mL       8   12.99  2016-01-01  \n",
      "1             Canadian Club 1858 VAP  750mL       7   10.99  2016-01-01  \n",
      "2           Herradura Silver Tequila  750mL       6   36.99  2016-01-01  \n",
      "3         Herradura Reposado Tequila  750mL       3   38.99  2016-01-01  \n",
      "4               No. 3 London Dry Gin  750mL       6   34.99  2016-01-01  \n",
      "...                              ...    ...     ...     ...         ...  \n",
      "206524  Rodney Strong Cab Svgn Alexa  750mL      13   22.99  2016-01-01  \n",
      "206525           Juan Gil Jumilla Rd  750mL      13   13.99  2016-01-01  \n",
      "206526    Napa Cellars Cab Svgn Napa  750mL      19   23.99  2016-01-01  \n",
      "206527  Ch Pichon Longville 12 Pauil  750mL      12  144.99  2016-01-01  \n",
      "206528    Ch Lynch Bages 12 Pauillac  750mL      24  119.99  2016-01-01  \n",
      "\n",
      "[206529 rows x 9 columns]\n"
     ]
    }
   ],
   "source": [
    "#Se ven las columnas para analizar cuales quedan segun el diagrama entidad relacion hecho.\n",
    "print (Inventory)"
   ]
  },
  {
   "cell_type": "code",
   "execution_count": 14,
   "metadata": {},
   "outputs": [
    {
     "name": "stdout",
     "output_type": "stream",
     "text": [
      "Advertencia: La columna 'Brand' no existe en el DataFrame y no se puede eliminar.\n"
     ]
    }
   ],
   "source": [
    "#Se pasan a eliminar las columnas que no son necesarias en esta tabla\n",
    "# Especificar las columnas que quieres eliminar\n",
    "columns_to_drop = ['Brand']\n",
    "\n",
    "# Verificar si las columnas a eliminar existen en el DataFrame\n",
    "existing_columns_to_drop = [col for col in columns_to_drop if col in Inventory.columns]\n",
    "\n",
    "# Imprimir advertencia para las columnas no encontradas\n",
    "for col in columns_to_drop:\n",
    "    if col not in Inventory.columns:\n",
    "        print(f\"Advertencia: La columna '{col}' no existe en el DataFrame y no se puede eliminar.\")\n",
    "\n",
    "# Eliminar las columnas especificadas que existen\n",
    "Inventory.drop(columns=existing_columns_to_drop, axis=1, inplace=True)"
   ]
  },
  {
   "cell_type": "code",
   "execution_count": 15,
   "metadata": {},
   "outputs": [
    {
     "name": "stdout",
     "output_type": "stream",
     "text": [
      "                    Brand1  Store          City  InventoryId1  \\\n",
      "0        1_HARDERSFIELD_58      1  HARDERSFIELD            58   \n",
      "1        1_HARDERSFIELD_60      1  HARDERSFIELD            60   \n",
      "2        1_HARDERSFIELD_62      1  HARDERSFIELD            62   \n",
      "3        1_HARDERSFIELD_63      1  HARDERSFIELD            63   \n",
      "4        1_HARDERSFIELD_72      1  HARDERSFIELD            72   \n",
      "...                    ...    ...           ...           ...   \n",
      "206524  79_BALLYMENA_46985     79     BALLYMENA         46985   \n",
      "206525  79_BALLYMENA_47014     79     BALLYMENA         47014   \n",
      "206526  79_BALLYMENA_47090     79     BALLYMENA         47090   \n",
      "206527  79_BALLYMENA_90011     79     BALLYMENA         90011   \n",
      "206528  79_BALLYMENA_90089     79     BALLYMENA         90089   \n",
      "\n",
      "                         Description   Size  onHand   Price   startDate  \n",
      "0        Gekkeikan Black & Gold Sake  750mL       8   12.99  2016-01-01  \n",
      "1             Canadian Club 1858 VAP  750mL       7   10.99  2016-01-01  \n",
      "2           Herradura Silver Tequila  750mL       6   36.99  2016-01-01  \n",
      "3         Herradura Reposado Tequila  750mL       3   38.99  2016-01-01  \n",
      "4               No. 3 London Dry Gin  750mL       6   34.99  2016-01-01  \n",
      "...                              ...    ...     ...     ...         ...  \n",
      "206524  Rodney Strong Cab Svgn Alexa  750mL      13   22.99  2016-01-01  \n",
      "206525           Juan Gil Jumilla Rd  750mL      13   13.99  2016-01-01  \n",
      "206526    Napa Cellars Cab Svgn Napa  750mL      19   23.99  2016-01-01  \n",
      "206527  Ch Pichon Longville 12 Pauil  750mL      12  144.99  2016-01-01  \n",
      "206528    Ch Lynch Bages 12 Pauillac  750mL      24  119.99  2016-01-01  \n",
      "\n",
      "[206529 rows x 9 columns]\n"
     ]
    }
   ],
   "source": [
    "print (Inventory)"
   ]
  },
  {
   "cell_type": "markdown",
   "metadata": {},
   "source": [
    "### Purchases"
   ]
  },
  {
   "cell_type": "code",
   "execution_count": 16,
   "metadata": {},
   "outputs": [
    {
     "name": "stdout",
     "output_type": "stream",
     "text": [
      "                  InventoryId  Store  Brand                   Description  \\\n",
      "0           69_MOUNTMEND_8412     69   8412     Tequila Ocho Plata Fresno   \n",
      "1            30_CULCHETH_5255     30   5255  TGI Fridays Ultimte Mudslide   \n",
      "2           34_PITMERDEN_5215     34   5215  TGI Fridays Long Island Iced   \n",
      "3         1_HARDERSFIELD_5255      1   5255  TGI Fridays Ultimte Mudslide   \n",
      "4           76_DONCASTER_2034     76   2034     Glendalough Double Barrel   \n",
      "...                       ...    ...    ...                           ...   \n",
      "2372469     49_GARIGILL_22298     49  22298       Zorvino Vyds Sangiovese   \n",
      "2372470  1_HARDERSFIELD_19556      1  19556    Zorvino Bacca Z Blackberry   \n",
      "2372471   66_EANVERNESS_22297     66  22297            Zorvino Vyds Pearz   \n",
      "2372472    69_MOUNTMEND_19557     69  19557  Zorvino Fragole Z Strawberry   \n",
      "2372473    55_DRY GULCH_22298     55  22298       Zorvino Vyds Sangiovese   \n",
      "\n",
      "          Size  VendorNumber                   VendorName  PONumber  \\\n",
      "0        750mL           105  ALTAMAR BRANDS LLC               8124   \n",
      "1        1.75L          4466  AMERICAN VINTAGE BEVERAGE        8137   \n",
      "2        1.75L          4466  AMERICAN VINTAGE BEVERAGE        8137   \n",
      "3        1.75L          4466  AMERICAN VINTAGE BEVERAGE        8137   \n",
      "4        750mL           388  ATLANTIC IMPORTING COMPANY       8169   \n",
      "...        ...           ...                          ...       ...   \n",
      "2372469  750mL         90058  ZORVINO VINEYARDS               13593   \n",
      "2372470  750mL         90058  ZORVINO VINEYARDS               13593   \n",
      "2372471  750mL         90058  ZORVINO VINEYARDS               13593   \n",
      "2372472  750mL         90058  ZORVINO VINEYARDS               13593   \n",
      "2372473  750mL         90058  ZORVINO VINEYARDS               13593   \n",
      "\n",
      "             PODate ReceivingDate InvoiceDate     PayDate  PurchasePrice  \\\n",
      "0        2015-12-21    2016-01-02  2016-01-04  2016-02-16          35.71   \n",
      "1        2015-12-22    2016-01-01  2016-01-07  2016-02-21           9.35   \n",
      "2        2015-12-22    2016-01-02  2016-01-07  2016-02-21           9.41   \n",
      "3        2015-12-22    2016-01-01  2016-01-07  2016-02-21           9.35   \n",
      "4        2015-12-24    2016-01-02  2016-01-09  2016-02-16          21.32   \n",
      "...             ...           ...         ...         ...            ...   \n",
      "2372469  2016-12-19    2016-12-28  2017-01-09  2017-02-06           8.06   \n",
      "2372470  2016-12-19    2016-12-27  2017-01-09  2017-02-06           9.39   \n",
      "2372471  2016-12-19    2016-12-26  2017-01-09  2017-02-06           6.75   \n",
      "2372472  2016-12-19    2016-12-26  2017-01-09  2017-02-06           9.39   \n",
      "2372473  2016-12-19    2016-12-28  2017-01-09  2017-02-06           8.06   \n",
      "\n",
      "         Quantity  Dollars  Classification  \n",
      "0               6   214.26               1  \n",
      "1               4    37.40               1  \n",
      "2               5    47.05               1  \n",
      "3               6    56.10               1  \n",
      "4               5   106.60               1  \n",
      "...           ...      ...             ...  \n",
      "2372469        12    96.72               2  \n",
      "2372470        12   112.68               2  \n",
      "2372471        12    81.00               2  \n",
      "2372472        12   112.68               2  \n",
      "2372473        12    96.72               2  \n",
      "\n",
      "[2372474 rows x 16 columns]\n"
     ]
    }
   ],
   "source": [
    "#Se ven las columnas para analizar cuales quedan segun el diagrama entidad/relacion hecho.\n",
    "print (Purchases)"
   ]
  },
  {
   "cell_type": "code",
   "execution_count": 17,
   "metadata": {},
   "outputs": [
    {
     "name": "stdout",
     "output_type": "stream",
     "text": [
      "Advertencia: La columna 'InventoryId1' no existe en el DataFrame y no se puede eliminar.\n"
     ]
    }
   ],
   "source": [
    "#Se pasa a eliminar las columnas que no son necesarias en esta tabla\n",
    "# Especificar las columnas que quieres eliminar\n",
    "columns_to_drop = ['Store', 'InventoryId1', 'Description', 'Size', 'VendorNumber', 'VendorName', 'InvoiceDate', 'PayDate']\n",
    "\n",
    "# Verificar si las columnas a eliminar existen en el DataFrame\n",
    "existing_columns_to_drop = [col for col in columns_to_drop if col in Purchases.columns]\n",
    "\n",
    "# Imprimir advertencia para las columnas no encontradas\n",
    "for col in columns_to_drop:\n",
    "    if col not in Purchases.columns:\n",
    "        print(f\"Advertencia: La columna '{col}' no existe en el DataFrame y no se puede eliminar.\")\n",
    "\n",
    "# Eliminar las columnas especificadas que existen\n",
    "Purchases.drop(columns=existing_columns_to_drop, axis=1, inplace=True)"
   ]
  },
  {
   "cell_type": "code",
   "execution_count": 18,
   "metadata": {},
   "outputs": [
    {
     "name": "stdout",
     "output_type": "stream",
     "text": [
      "                  InventoryId  Brand  PONumber      PODate ReceivingDate  \\\n",
      "0           69_MOUNTMEND_8412   8412      8124  2015-12-21    2016-01-02   \n",
      "1            30_CULCHETH_5255   5255      8137  2015-12-22    2016-01-01   \n",
      "2           34_PITMERDEN_5215   5215      8137  2015-12-22    2016-01-02   \n",
      "3         1_HARDERSFIELD_5255   5255      8137  2015-12-22    2016-01-01   \n",
      "4           76_DONCASTER_2034   2034      8169  2015-12-24    2016-01-02   \n",
      "...                       ...    ...       ...         ...           ...   \n",
      "2372469     49_GARIGILL_22298  22298     13593  2016-12-19    2016-12-28   \n",
      "2372470  1_HARDERSFIELD_19556  19556     13593  2016-12-19    2016-12-27   \n",
      "2372471   66_EANVERNESS_22297  22297     13593  2016-12-19    2016-12-26   \n",
      "2372472    69_MOUNTMEND_19557  19557     13593  2016-12-19    2016-12-26   \n",
      "2372473    55_DRY GULCH_22298  22298     13593  2016-12-19    2016-12-28   \n",
      "\n",
      "         PurchasePrice  Quantity  Dollars  Classification  \n",
      "0                35.71         6   214.26               1  \n",
      "1                 9.35         4    37.40               1  \n",
      "2                 9.41         5    47.05               1  \n",
      "3                 9.35         6    56.10               1  \n",
      "4                21.32         5   106.60               1  \n",
      "...                ...       ...      ...             ...  \n",
      "2372469           8.06        12    96.72               2  \n",
      "2372470           9.39        12   112.68               2  \n",
      "2372471           6.75        12    81.00               2  \n",
      "2372472           9.39        12   112.68               2  \n",
      "2372473           8.06        12    96.72               2  \n",
      "\n",
      "[2372474 rows x 9 columns]\n"
     ]
    }
   ],
   "source": [
    "print (Purchases)"
   ]
  },
  {
   "cell_type": "code",
   "execution_count": 19,
   "metadata": {},
   "outputs": [],
   "source": [
    "#Se crea la columna indice con el nombre correspondiente\n",
    "Purchases['IDPurchases'] = range(1, len(Purchases) + 1)"
   ]
  },
  {
   "cell_type": "code",
   "execution_count": 20,
   "metadata": {},
   "outputs": [
    {
     "name": "stdout",
     "output_type": "stream",
     "text": [
      "                  InventoryId  Brand  PONumber      PODate ReceivingDate  \\\n",
      "0           69_MOUNTMEND_8412   8412      8124  2015-12-21    2016-01-02   \n",
      "1            30_CULCHETH_5255   5255      8137  2015-12-22    2016-01-01   \n",
      "2           34_PITMERDEN_5215   5215      8137  2015-12-22    2016-01-02   \n",
      "3         1_HARDERSFIELD_5255   5255      8137  2015-12-22    2016-01-01   \n",
      "4           76_DONCASTER_2034   2034      8169  2015-12-24    2016-01-02   \n",
      "...                       ...    ...       ...         ...           ...   \n",
      "2372469     49_GARIGILL_22298  22298     13593  2016-12-19    2016-12-28   \n",
      "2372470  1_HARDERSFIELD_19556  19556     13593  2016-12-19    2016-12-27   \n",
      "2372471   66_EANVERNESS_22297  22297     13593  2016-12-19    2016-12-26   \n",
      "2372472    69_MOUNTMEND_19557  19557     13593  2016-12-19    2016-12-26   \n",
      "2372473    55_DRY GULCH_22298  22298     13593  2016-12-19    2016-12-28   \n",
      "\n",
      "         PurchasePrice  Quantity  Dollars  Classification  IDPurchases  \n",
      "0                35.71         6   214.26               1            1  \n",
      "1                 9.35         4    37.40               1            2  \n",
      "2                 9.41         5    47.05               1            3  \n",
      "3                 9.35         6    56.10               1            4  \n",
      "4                21.32         5   106.60               1            5  \n",
      "...                ...       ...      ...             ...          ...  \n",
      "2372469           8.06        12    96.72               2      2372470  \n",
      "2372470           9.39        12   112.68               2      2372471  \n",
      "2372471           6.75        12    81.00               2      2372472  \n",
      "2372472           9.39        12   112.68               2      2372473  \n",
      "2372473           8.06        12    96.72               2      2372474  \n",
      "\n",
      "[2372474 rows x 10 columns]\n"
     ]
    }
   ],
   "source": [
    "print (Purchases)"
   ]
  },
  {
   "cell_type": "markdown",
   "metadata": {},
   "source": [
    "### InvoicePurchases"
   ]
  },
  {
   "cell_type": "code",
   "execution_count": 21,
   "metadata": {},
   "outputs": [
    {
     "name": "stdout",
     "output_type": "stream",
     "text": [
      "      VendorNumber                   VendorName InvoiceDate  PONumber  \\\n",
      "0              105  ALTAMAR BRANDS LLC           2016-01-04      8124   \n",
      "1             4466  AMERICAN VINTAGE BEVERAGE    2016-01-07      8137   \n",
      "2              388  ATLANTIC IMPORTING COMPANY   2016-01-09      8169   \n",
      "3              480  BACARDI USA INC              2016-01-12      8106   \n",
      "4              516  BANFI PRODUCTS CORP          2016-01-07      8170   \n",
      "...            ...                          ...         ...       ...   \n",
      "5538          9622  WEIN BAUER INC               2017-01-06     13626   \n",
      "5539          9625  WESTERN SPIRITS BEVERAGE CO  2017-01-10     13661   \n",
      "5540          3664  WILLIAM GRANT & SONS INC     2017-01-02     13643   \n",
      "5541          9815  WINE GROUP INC               2017-01-03     13602   \n",
      "5542         90058  ZORVINO VINEYARDS            2017-01-05     13574   \n",
      "\n",
      "          PODate     PayDate  Quantity    Dollars  Freight Approval  \n",
      "0     2015-12-21  2016-02-16         6     214.26     3.47      NaN  \n",
      "1     2015-12-22  2016-02-21        15     140.55     8.57      NaN  \n",
      "2     2015-12-24  2016-02-16         5     106.60     4.61      NaN  \n",
      "3     2015-12-20  2016-02-05     10100  137483.78  2935.20      NaN  \n",
      "4     2015-12-24  2016-02-12      1935   15527.25   429.20      NaN  \n",
      "...          ...         ...       ...        ...      ...      ...  \n",
      "5538  2016-12-21  2017-02-10        90    1563.00     8.60      NaN  \n",
      "5539  2016-12-23  2017-02-18      4617   37300.48   186.50      NaN  \n",
      "5540  2016-12-22  2017-02-04      9848  202815.78   932.95      NaN  \n",
      "5541  2016-12-20  2017-02-08     24747  149007.56   819.54      NaN  \n",
      "5542  2016-12-18  2017-02-12       437    3608.11    16.60      NaN  \n",
      "\n",
      "[5543 rows x 10 columns]\n"
     ]
    }
   ],
   "source": [
    "print (InvoicePurchases)"
   ]
  },
  {
   "cell_type": "code",
   "execution_count": 22,
   "metadata": {},
   "outputs": [],
   "source": [
    "#Se pasa a eliminar las columnas que no son necesarias en esta tabla\n",
    "# Especificar las columnas que quieres eliminar\n",
    "columns_to_drop = ['VendorName', 'PONumber', 'Quantity', 'Dollars']\n",
    "\n",
    "# Verificar si las columnas a eliminar existen en el DataFrame\n",
    "existing_columns_to_drop = [col for col in columns_to_drop if col in InvoicePurchases.columns]\n",
    "\n",
    "# Imprimir advertencia para las columnas no encontradas\n",
    "for col in columns_to_drop:\n",
    "    if col not in InvoicePurchases.columns:\n",
    "        print(f\"Advertencia: La columna '{col}' no existe en el DataFrame y no se puede eliminar.\")\n",
    "\n",
    "# Eliminar las columnas especificadas que existen\n",
    "InvoicePurchases.drop(columns=existing_columns_to_drop, axis=1, inplace=True)"
   ]
  },
  {
   "cell_type": "code",
   "execution_count": 23,
   "metadata": {},
   "outputs": [
    {
     "name": "stdout",
     "output_type": "stream",
     "text": [
      "      VendorNumber InvoiceDate      PODate     PayDate  Freight Approval\n",
      "0              105  2016-01-04  2015-12-21  2016-02-16     3.47      NaN\n",
      "1             4466  2016-01-07  2015-12-22  2016-02-21     8.57      NaN\n",
      "2              388  2016-01-09  2015-12-24  2016-02-16     4.61      NaN\n",
      "3              480  2016-01-12  2015-12-20  2016-02-05  2935.20      NaN\n",
      "4              516  2016-01-07  2015-12-24  2016-02-12   429.20      NaN\n",
      "...            ...         ...         ...         ...      ...      ...\n",
      "5538          9622  2017-01-06  2016-12-21  2017-02-10     8.60      NaN\n",
      "5539          9625  2017-01-10  2016-12-23  2017-02-18   186.50      NaN\n",
      "5540          3664  2017-01-02  2016-12-22  2017-02-04   932.95      NaN\n",
      "5541          9815  2017-01-03  2016-12-20  2017-02-08   819.54      NaN\n",
      "5542         90058  2017-01-05  2016-12-18  2017-02-12    16.60      NaN\n",
      "\n",
      "[5543 rows x 6 columns]\n"
     ]
    }
   ],
   "source": [
    "print (InvoicePurchases)"
   ]
  },
  {
   "cell_type": "code",
   "execution_count": 24,
   "metadata": {},
   "outputs": [],
   "source": [
    "#Se crea la columna indice con el nombre correspondiente\n",
    "InvoicePurchases['IDInvoicePurchases'] = range(1, len(InvoicePurchases) + 1)\n",
    "InvoicePurchases['IDPurchases'] = range(1, len(InvoicePurchases) + 1)"
   ]
  },
  {
   "cell_type": "code",
   "execution_count": 25,
   "metadata": {},
   "outputs": [
    {
     "name": "stdout",
     "output_type": "stream",
     "text": [
      "      VendorNumber InvoiceDate      PODate     PayDate  Freight Approval  \\\n",
      "0              105  2016-01-04  2015-12-21  2016-02-16     3.47      NaN   \n",
      "1             4466  2016-01-07  2015-12-22  2016-02-21     8.57      NaN   \n",
      "2              388  2016-01-09  2015-12-24  2016-02-16     4.61      NaN   \n",
      "3              480  2016-01-12  2015-12-20  2016-02-05  2935.20      NaN   \n",
      "4              516  2016-01-07  2015-12-24  2016-02-12   429.20      NaN   \n",
      "...            ...         ...         ...         ...      ...      ...   \n",
      "5538          9622  2017-01-06  2016-12-21  2017-02-10     8.60      NaN   \n",
      "5539          9625  2017-01-10  2016-12-23  2017-02-18   186.50      NaN   \n",
      "5540          3664  2017-01-02  2016-12-22  2017-02-04   932.95      NaN   \n",
      "5541          9815  2017-01-03  2016-12-20  2017-02-08   819.54      NaN   \n",
      "5542         90058  2017-01-05  2016-12-18  2017-02-12    16.60      NaN   \n",
      "\n",
      "      IDInvoicePurchases  IDPurchases  \n",
      "0                      1            1  \n",
      "1                      2            2  \n",
      "2                      3            3  \n",
      "3                      4            4  \n",
      "4                      5            5  \n",
      "...                  ...          ...  \n",
      "5538                5539         5539  \n",
      "5539                5540         5540  \n",
      "5540                5541         5541  \n",
      "5541                5542         5542  \n",
      "5542                5543         5543  \n",
      "\n",
      "[5543 rows x 8 columns]\n"
     ]
    }
   ],
   "source": [
    "print (InvoicePurchases)"
   ]
  },
  {
   "cell_type": "markdown",
   "metadata": {},
   "source": [
    "### Suppliers"
   ]
  },
  {
   "cell_type": "code",
   "execution_count": 26,
   "metadata": {},
   "outputs": [
    {
     "name": "stdout",
     "output_type": "stream",
     "text": [
      "      VendorNumber                   VendorName InvoiceDate  PONumber  \\\n",
      "0              105  ALTAMAR BRANDS LLC           2016-01-04      8124   \n",
      "1             4466  AMERICAN VINTAGE BEVERAGE    2016-01-07      8137   \n",
      "2              388  ATLANTIC IMPORTING COMPANY   2016-01-09      8169   \n",
      "3              480  BACARDI USA INC              2016-01-12      8106   \n",
      "4              516  BANFI PRODUCTS CORP          2016-01-07      8170   \n",
      "...            ...                          ...         ...       ...   \n",
      "5538          9622  WEIN BAUER INC               2017-01-06     13626   \n",
      "5539          9625  WESTERN SPIRITS BEVERAGE CO  2017-01-10     13661   \n",
      "5540          3664  WILLIAM GRANT & SONS INC     2017-01-02     13643   \n",
      "5541          9815  WINE GROUP INC               2017-01-03     13602   \n",
      "5542         90058  ZORVINO VINEYARDS            2017-01-05     13574   \n",
      "\n",
      "          PODate     PayDate  Quantity    Dollars  Freight Approval  \n",
      "0     2015-12-21  2016-02-16         6     214.26     3.47      NaN  \n",
      "1     2015-12-22  2016-02-21        15     140.55     8.57      NaN  \n",
      "2     2015-12-24  2016-02-16         5     106.60     4.61      NaN  \n",
      "3     2015-12-20  2016-02-05     10100  137483.78  2935.20      NaN  \n",
      "4     2015-12-24  2016-02-12      1935   15527.25   429.20      NaN  \n",
      "...          ...         ...       ...        ...      ...      ...  \n",
      "5538  2016-12-21  2017-02-10        90    1563.00     8.60      NaN  \n",
      "5539  2016-12-23  2017-02-18      4617   37300.48   186.50      NaN  \n",
      "5540  2016-12-22  2017-02-04      9848  202815.78   932.95      NaN  \n",
      "5541  2016-12-20  2017-02-08     24747  149007.56   819.54      NaN  \n",
      "5542  2016-12-18  2017-02-12       437    3608.11    16.60      NaN  \n",
      "\n",
      "[5543 rows x 10 columns]\n"
     ]
    }
   ],
   "source": [
    "print (Suppliers)"
   ]
  },
  {
   "cell_type": "code",
   "execution_count": 27,
   "metadata": {},
   "outputs": [],
   "source": [
    "#Se pasa a eliminar las columnas que no son necesarias en esta tabla\n",
    "# Especificar las columnas que quieres eliminar\n",
    "columns_to_drop = ['Approval', 'Freight', 'Dollars', 'Quantity', 'PayDate', 'PODate', 'PONumber', 'InvoiceDate']\n",
    "\n",
    "# Verificar si las columnas a eliminar existen en el DataFrame\n",
    "existing_columns_to_drop = [col for col in columns_to_drop if col in Suppliers.columns]\n",
    "\n",
    "# Imprimir advertencia para las columnas no encontradas\n",
    "for col in columns_to_drop:\n",
    "    if col not in Suppliers.columns:\n",
    "        print(f\"Advertencia: La columna '{col}' no existe en el DataFrame y no se puede eliminar.\")\n",
    "\n",
    "# Eliminar las columnas especificadas que existen\n",
    "Suppliers.drop(columns=existing_columns_to_drop, axis=1, inplace=True)"
   ]
  },
  {
   "cell_type": "code",
   "execution_count": 36,
   "metadata": {},
   "outputs": [
    {
     "name": "stdout",
     "output_type": "stream",
     "text": [
      "      VendorNumber                   VendorName\n",
      "0              105  ALTAMAR BRANDS LLC         \n",
      "1             4466  AMERICAN VINTAGE BEVERAGE  \n",
      "2              388  ATLANTIC IMPORTING COMPANY \n",
      "3              480  BACARDI USA INC            \n",
      "4              516  BANFI PRODUCTS CORP        \n",
      "...            ...                          ...\n",
      "5538          9622  WEIN BAUER INC             \n",
      "5539          9625  WESTERN SPIRITS BEVERAGE CO\n",
      "5540          3664  WILLIAM GRANT & SONS INC   \n",
      "5541          9815  WINE GROUP INC             \n",
      "5542         90058  ZORVINO VINEYARDS          \n",
      "\n",
      "[5543 rows x 2 columns]\n"
     ]
    }
   ],
   "source": [
    "print (Suppliers)"
   ]
  },
  {
   "cell_type": "markdown",
   "metadata": {},
   "source": [
    "### InventorySale"
   ]
  },
  {
   "cell_type": "code",
   "execution_count": 28,
   "metadata": {},
   "outputs": [],
   "source": [
    "# Se crear el nuevo DataFrame InventorySale\n",
    "InventorySale = pd.DataFrame({\n",
    "    'Brand': Inventory ['Brand1'],\n",
    "    'IDSales': Sales ['IDSales']\n",
    "})"
   ]
  },
  {
   "cell_type": "code",
   "execution_count": 29,
   "metadata": {},
   "outputs": [
    {
     "name": "stdout",
     "output_type": "stream",
     "text": [
      "                     Brand  IDSales\n",
      "0        1_HARDERSFIELD_58        1\n",
      "1        1_HARDERSFIELD_60        2\n",
      "2        1_HARDERSFIELD_62        3\n",
      "3        1_HARDERSFIELD_63        4\n",
      "4        1_HARDERSFIELD_72        5\n",
      "...                    ...      ...\n",
      "1048570                NaN  1048571\n",
      "1048571                NaN  1048572\n",
      "1048572                NaN  1048573\n",
      "1048573                NaN  1048574\n",
      "1048574                NaN  1048575\n",
      "\n",
      "[1048575 rows x 2 columns]\n"
     ]
    }
   ],
   "source": [
    "print (InventorySale)"
   ]
  },
  {
   "cell_type": "markdown",
   "metadata": {},
   "source": [
    "### Limpieza"
   ]
  },
  {
   "cell_type": "code",
   "execution_count": 30,
   "metadata": {},
   "outputs": [],
   "source": [
    "# Lista de DataFrames\n",
    "dataframes = [SalesDetail, Sales, Inventory, Purchases, InvoicePurchases, Suppliers]\n",
    "\n",
    "# Cambiar el nombre de la columna si existe\n",
    "for df in dataframes:\n",
    "    if 'InventoryId' in df.columns:\n",
    "        df.rename(columns={'InventoryId': 'Brand'}, inplace=True)"
   ]
  },
  {
   "cell_type": "code",
   "execution_count": 31,
   "metadata": {},
   "outputs": [
    {
     "name": "stdout",
     "output_type": "stream",
     "text": [
      "               Size  SalesQuantity  SalesDollars  SalesPrice  DetailSalesID  \\\n",
      "0             750mL              1         16.49       16.49              1   \n",
      "1             750mL              2         32.98       16.49              2   \n",
      "2             750mL              1         16.49       16.49              3   \n",
      "3             750mL              1         14.49       14.49              4   \n",
      "4        375mL 2 Pk              2         69.98       34.99              5   \n",
      "...             ...            ...           ...         ...            ...   \n",
      "1048570       750mL              4         51.80       12.95        1048571   \n",
      "1048571       750mL              8        103.60       12.95        1048572   \n",
      "1048572       750mL              1         12.95       12.95        1048573   \n",
      "1048573       750mL              3         38.85       12.95        1048574   \n",
      "1048574       750mL              2         25.90       12.95        1048575   \n",
      "\n",
      "         IDSales  \n",
      "0              1  \n",
      "1              2  \n",
      "2              3  \n",
      "3              4  \n",
      "4              5  \n",
      "...          ...  \n",
      "1048570  1048571  \n",
      "1048571  1048572  \n",
      "1048572  1048573  \n",
      "1048573  1048574  \n",
      "1048574  1048575  \n",
      "\n",
      "[1048575 rows x 6 columns]          Store  SalesDate  ExciseTax  IDSales\n",
      "0            1   1/1/2016       0.79        1\n",
      "1            1   1/2/2016       1.57        2\n",
      "2            1   1/3/2016       0.79        3\n",
      "3            1   1/8/2016       0.79        4\n",
      "4            1   1/9/2016       0.79        5\n",
      "...        ...        ...        ...      ...\n",
      "1048570     19  2/12/2016       0.45  1048571\n",
      "1048571     19  2/13/2016       0.90  1048572\n",
      "1048572     19  2/19/2016       0.11  1048573\n",
      "1048573     19  2/22/2016       0.34  1048574\n",
      "1048574     19  2/24/2016       0.22  1048575\n",
      "\n",
      "[1048575 rows x 4 columns]                     Brand1  Store          City  InventoryId1  \\\n",
      "0        1_HARDERSFIELD_58      1  HARDERSFIELD            58   \n",
      "1        1_HARDERSFIELD_60      1  HARDERSFIELD            60   \n",
      "2        1_HARDERSFIELD_62      1  HARDERSFIELD            62   \n",
      "3        1_HARDERSFIELD_63      1  HARDERSFIELD            63   \n",
      "4        1_HARDERSFIELD_72      1  HARDERSFIELD            72   \n",
      "...                    ...    ...           ...           ...   \n",
      "206524  79_BALLYMENA_46985     79     BALLYMENA         46985   \n",
      "206525  79_BALLYMENA_47014     79     BALLYMENA         47014   \n",
      "206526  79_BALLYMENA_47090     79     BALLYMENA         47090   \n",
      "206527  79_BALLYMENA_90011     79     BALLYMENA         90011   \n",
      "206528  79_BALLYMENA_90089     79     BALLYMENA         90089   \n",
      "\n",
      "                         Description   Size  onHand   Price   startDate  \n",
      "0        Gekkeikan Black & Gold Sake  750mL       8   12.99  2016-01-01  \n",
      "1             Canadian Club 1858 VAP  750mL       7   10.99  2016-01-01  \n",
      "2           Herradura Silver Tequila  750mL       6   36.99  2016-01-01  \n",
      "3         Herradura Reposado Tequila  750mL       3   38.99  2016-01-01  \n",
      "4               No. 3 London Dry Gin  750mL       6   34.99  2016-01-01  \n",
      "...                              ...    ...     ...     ...         ...  \n",
      "206524  Rodney Strong Cab Svgn Alexa  750mL      13   22.99  2016-01-01  \n",
      "206525           Juan Gil Jumilla Rd  750mL      13   13.99  2016-01-01  \n",
      "206526    Napa Cellars Cab Svgn Napa  750mL      19   23.99  2016-01-01  \n",
      "206527  Ch Pichon Longville 12 Pauil  750mL      12  144.99  2016-01-01  \n",
      "206528    Ch Lynch Bages 12 Pauillac  750mL      24  119.99  2016-01-01  \n",
      "\n",
      "[206529 rows x 9 columns]                         Brand  Brand  PONumber      PODate ReceivingDate  \\\n",
      "0           69_MOUNTMEND_8412   8412      8124  2015-12-21    2016-01-02   \n",
      "1            30_CULCHETH_5255   5255      8137  2015-12-22    2016-01-01   \n",
      "2           34_PITMERDEN_5215   5215      8137  2015-12-22    2016-01-02   \n",
      "3         1_HARDERSFIELD_5255   5255      8137  2015-12-22    2016-01-01   \n",
      "4           76_DONCASTER_2034   2034      8169  2015-12-24    2016-01-02   \n",
      "...                       ...    ...       ...         ...           ...   \n",
      "2372469     49_GARIGILL_22298  22298     13593  2016-12-19    2016-12-28   \n",
      "2372470  1_HARDERSFIELD_19556  19556     13593  2016-12-19    2016-12-27   \n",
      "2372471   66_EANVERNESS_22297  22297     13593  2016-12-19    2016-12-26   \n",
      "2372472    69_MOUNTMEND_19557  19557     13593  2016-12-19    2016-12-26   \n",
      "2372473    55_DRY GULCH_22298  22298     13593  2016-12-19    2016-12-28   \n",
      "\n",
      "         PurchasePrice  Quantity  Dollars  Classification  IDPurchases  \n",
      "0                35.71         6   214.26               1            1  \n",
      "1                 9.35         4    37.40               1            2  \n",
      "2                 9.41         5    47.05               1            3  \n",
      "3                 9.35         6    56.10               1            4  \n",
      "4                21.32         5   106.60               1            5  \n",
      "...                ...       ...      ...             ...          ...  \n",
      "2372469           8.06        12    96.72               2      2372470  \n",
      "2372470           9.39        12   112.68               2      2372471  \n",
      "2372471           6.75        12    81.00               2      2372472  \n",
      "2372472           9.39        12   112.68               2      2372473  \n",
      "2372473           8.06        12    96.72               2      2372474  \n",
      "\n",
      "[2372474 rows x 10 columns]       VendorNumber InvoiceDate      PODate     PayDate  Freight Approval  \\\n",
      "0              105  2016-01-04  2015-12-21  2016-02-16     3.47      NaN   \n",
      "1             4466  2016-01-07  2015-12-22  2016-02-21     8.57      NaN   \n",
      "2              388  2016-01-09  2015-12-24  2016-02-16     4.61      NaN   \n",
      "3              480  2016-01-12  2015-12-20  2016-02-05  2935.20      NaN   \n",
      "4              516  2016-01-07  2015-12-24  2016-02-12   429.20      NaN   \n",
      "...            ...         ...         ...         ...      ...      ...   \n",
      "5538          9622  2017-01-06  2016-12-21  2017-02-10     8.60      NaN   \n",
      "5539          9625  2017-01-10  2016-12-23  2017-02-18   186.50      NaN   \n",
      "5540          3664  2017-01-02  2016-12-22  2017-02-04   932.95      NaN   \n",
      "5541          9815  2017-01-03  2016-12-20  2017-02-08   819.54      NaN   \n",
      "5542         90058  2017-01-05  2016-12-18  2017-02-12    16.60      NaN   \n",
      "\n",
      "      IDInvoicePurchases  IDPurchases  \n",
      "0                      1            1  \n",
      "1                      2            2  \n",
      "2                      3            3  \n",
      "3                      4            4  \n",
      "4                      5            5  \n",
      "...                  ...          ...  \n",
      "5538                5539         5539  \n",
      "5539                5540         5540  \n",
      "5540                5541         5541  \n",
      "5541                5542         5542  \n",
      "5542                5543         5543  \n",
      "\n",
      "[5543 rows x 8 columns]       VendorNumber                   VendorName\n",
      "0              105  ALTAMAR BRANDS LLC         \n",
      "1             4466  AMERICAN VINTAGE BEVERAGE  \n",
      "2              388  ATLANTIC IMPORTING COMPANY \n",
      "3              480  BACARDI USA INC            \n",
      "4              516  BANFI PRODUCTS CORP        \n",
      "...            ...                          ...\n",
      "5538          9622  WEIN BAUER INC             \n",
      "5539          9625  WESTERN SPIRITS BEVERAGE CO\n",
      "5540          3664  WILLIAM GRANT & SONS INC   \n",
      "5541          9815  WINE GROUP INC             \n",
      "5542         90058  ZORVINO VINEYARDS          \n",
      "\n",
      "[5543 rows x 2 columns]\n"
     ]
    }
   ],
   "source": [
    "# Imprimimos los dataframe para ver que se hayan realizado los cambios \n",
    "print (SalesDetail,Sales,Inventory,Purchases,InvoicePurchases,Suppliers)"
   ]
  },
  {
   "cell_type": "code",
   "execution_count": 32,
   "metadata": {},
   "outputs": [],
   "source": [
    "# Limpiar duplicados en cada DataFrame\n",
    "for i, df in enumerate(dataframes):\n",
    "    dataframes[i] = df.drop_duplicates()"
   ]
  },
  {
   "cell_type": "code",
   "execution_count": 33,
   "metadata": {},
   "outputs": [
    {
     "name": "stdout",
     "output_type": "stream",
     "text": [
      "         Size  SalesQuantity  SalesDollars  SalesPrice  DetailSalesID  IDSales\n",
      "0       750mL              1         16.49       16.49              1        1\n",
      "1       750mL              2         32.98       16.49              2        2\n",
      "2       750mL              1         16.49       16.49              3        3\n",
      "3       750mL              1         14.49       14.49              4        4\n",
      "4  375mL 2 Pk              2         69.98       34.99              5        5\n",
      "   Store SalesDate  ExciseTax  IDSales\n",
      "0      1  1/1/2016       0.79        1\n",
      "1      1  1/2/2016       1.57        2\n",
      "2      1  1/3/2016       0.79        3\n",
      "3      1  1/8/2016       0.79        4\n",
      "4      1  1/9/2016       0.79        5\n",
      "              Brand1  Store          City  InventoryId1  \\\n",
      "0  1_HARDERSFIELD_58      1  HARDERSFIELD            58   \n",
      "1  1_HARDERSFIELD_60      1  HARDERSFIELD            60   \n",
      "2  1_HARDERSFIELD_62      1  HARDERSFIELD            62   \n",
      "3  1_HARDERSFIELD_63      1  HARDERSFIELD            63   \n",
      "4  1_HARDERSFIELD_72      1  HARDERSFIELD            72   \n",
      "\n",
      "                   Description   Size  onHand  Price   startDate  \n",
      "0  Gekkeikan Black & Gold Sake  750mL       8  12.99  2016-01-01  \n",
      "1       Canadian Club 1858 VAP  750mL       7  10.99  2016-01-01  \n",
      "2     Herradura Silver Tequila  750mL       6  36.99  2016-01-01  \n",
      "3   Herradura Reposado Tequila  750mL       3  38.99  2016-01-01  \n",
      "4         No. 3 London Dry Gin  750mL       6  34.99  2016-01-01  \n",
      "                 Brand  Brand  PONumber      PODate ReceivingDate  \\\n",
      "0    69_MOUNTMEND_8412   8412      8124  2015-12-21    2016-01-02   \n",
      "1     30_CULCHETH_5255   5255      8137  2015-12-22    2016-01-01   \n",
      "2    34_PITMERDEN_5215   5215      8137  2015-12-22    2016-01-02   \n",
      "3  1_HARDERSFIELD_5255   5255      8137  2015-12-22    2016-01-01   \n",
      "4    76_DONCASTER_2034   2034      8169  2015-12-24    2016-01-02   \n",
      "\n",
      "   PurchasePrice  Quantity  Dollars  Classification  IDPurchases  \n",
      "0          35.71         6   214.26               1            1  \n",
      "1           9.35         4    37.40               1            2  \n",
      "2           9.41         5    47.05               1            3  \n",
      "3           9.35         6    56.10               1            4  \n",
      "4          21.32         5   106.60               1            5  \n",
      "   VendorNumber InvoiceDate      PODate     PayDate  Freight Approval  \\\n",
      "0           105  2016-01-04  2015-12-21  2016-02-16     3.47      NaN   \n",
      "1          4466  2016-01-07  2015-12-22  2016-02-21     8.57      NaN   \n",
      "2           388  2016-01-09  2015-12-24  2016-02-16     4.61      NaN   \n",
      "3           480  2016-01-12  2015-12-20  2016-02-05  2935.20      NaN   \n",
      "4           516  2016-01-07  2015-12-24  2016-02-12   429.20      NaN   \n",
      "\n",
      "   IDInvoicePurchases  IDPurchases  \n",
      "0                   1            1  \n",
      "1                   2            2  \n",
      "2                   3            3  \n",
      "3                   4            4  \n",
      "4                   5            5  \n",
      "   VendorNumber                   VendorName\n",
      "0           105  ALTAMAR BRANDS LLC         \n",
      "1          4466  AMERICAN VINTAGE BEVERAGE  \n",
      "2           388  ATLANTIC IMPORTING COMPANY \n",
      "3           480  BACARDI USA INC            \n",
      "4           516  BANFI PRODUCTS CORP        \n"
     ]
    }
   ],
   "source": [
    "# Opcional: Mostrar los DataFrames actualizados para verificar\n",
    "for df in dataframes:\n",
    "    print(df.head())"
   ]
  },
  {
   "cell_type": "code",
   "execution_count": 34,
   "metadata": {},
   "outputs": [],
   "source": [
    "# Limpiar nulos en cada DataFrame\n",
    "for i, df in enumerate(dataframes):\n",
    "    dataframes[i] = df.dropna()"
   ]
  },
  {
   "cell_type": "code",
   "execution_count": 35,
   "metadata": {},
   "outputs": [],
   "source": [
    "#Guardamos el dataset final con las filtraciones requeridas y limpio\n",
    "\n",
    "SalesDetail.to_csv('SalesDetail.csv',index=False)\n",
    "Sales.to_csv('Sales.csv',index=False)\n",
    "Inventory.to_csv('Inventory.csv',index=False)\n",
    "Purchases.to_csv('Purchases.csv',index=False)\n",
    "InvoicePurchases.to_csv('InvoicePurchases.csv',index=False)\n",
    "Suppliers.to_csv('Suppliers.csv',index=False)\n",
    "InventorySale.to_csv('InventorySale.csv',index=False)\n"
   ]
  },
  {
   "cell_type": "markdown",
   "metadata": {},
   "source": [
    "### Conexión a la base de datos en SQL"
   ]
  },
  {
   "cell_type": "code",
   "execution_count": 37,
   "metadata": {},
   "outputs": [
    {
     "name": "stderr",
     "output_type": "stream",
     "text": [
      "C:\\Users\\julic\\AppData\\Local\\Temp\\ipykernel_23684\\2483904710.py:52: DtypeWarning: Columns (0) have mixed types. Specify dtype option on import or set low_memory=False.\n",
      "  df = pd.read_csv(csv_file)\n"
     ]
    },
    {
     "name": "stdout",
     "output_type": "stream",
     "text": [
      "Primeras filas de la tabla InventorySale:\n",
      "('1_HARDERSFIELD_58', 1)\n",
      "('1_HARDERSFIELD_60', 2)\n",
      "('1_HARDERSFIELD_62', 3)\n",
      "('1_HARDERSFIELD_63', 4)\n",
      "('1_HARDERSFIELD_72', 5)\n"
     ]
    }
   ],
   "source": [
    "import pandas as pd\n",
    "from sqlalchemy import create_engine, text\n",
    "import urllib\n",
    "\n",
    "# Configuración de SQL Server\n",
    "server = r'DESKTOP-9V973MM\\SQLEXPRESS'\n",
    "database = 'DrinksBasket1'\n",
    "\n",
    "# Crear la cadena de conexión\n",
    "connection_string = f\"DRIVER={{ODBC Driver 17 for SQL Server}};SERVER={server};DATABASE={database};Trusted_Connection=yes;\"\n",
    "params = urllib.parse.quote_plus(connection_string)\n",
    "\n",
    "# Crear el motor de conexión SQLAlchemy\n",
    "engine = create_engine(f\"mssql+pyodbc:///?odbc_connect={params}\")\n",
    "\n",
    "# Archivos CSV y nombres de tablas\n",
    "csv_files = [\n",
    "     'SalesDetail.csv', 'Sales.csv', 'Inventory.csv','InventorySale.csv',\n",
    "     'Purchases.csv', 'InvoicePurchases.csv', 'Suppliers.csv'\n",
    " ]\n",
    "table_names = [\n",
    "     'SaleDetail', 'Sale', 'Inventory','InventorySale',\n",
    "     'Purchases', 'InvoicePurchase', 'Suppliers'\n",
    " ]\n",
    "\n",
    "# Función para eliminar las restricciones de clave externa\n",
    "def drop_foreign_keys(table_name):\n",
    "    with engine.connect() as conn:\n",
    "        fk_query = text(f\"\"\"\n",
    "        SELECT constraint_name\n",
    "        FROM information_schema.table_constraints\n",
    "        WHERE table_name = '{table_name}' AND constraint_type = 'FOREIGN KEY'\n",
    "        \"\"\")\n",
    "        fks = conn.execute(fk_query).fetchall()\n",
    "        for fk in fks:\n",
    "            drop_fk_query = text(f\"ALTER TABLE {table_name} DROP CONSTRAINT {fk[0]}\")\n",
    "            conn.execute(drop_fk_query)\n",
    " \n",
    "# Eliminar restricciones de clave externa antes de reemplazar tablas\n",
    "for table_name in table_names:\n",
    "    drop_foreign_keys(table_name)\n",
    "\n",
    "# Cargar cada archivo CSV en su respectiva tabla en SQL Server\n",
    "for csv_file, table_name in zip(csv_files, table_names):\n",
    "    df = pd.read_csv(csv_file)\n",
    "    df.to_sql(name=table_name, con=engine, if_exists='replace', index=False)\n",
    "\n",
    "# Verificación opcional: Mostrar las primeras filas de cada tabla cargada\n",
    "for table_name in table_names:\n",
    "    query = text(f\"SELECT TOP 5 * FROM {table_name}\")\n",
    "    with engine.connect() as connection:\n",
    "        result = connection.execute(query)\n",
    "        print(f\"Primeras filas de la tabla {table_name}:\")\n",
    "        for row in result:\n",
    "            print(row)"
   ]
  }
 ],
 "metadata": {
  "kernelspec": {
   "display_name": "Python 3",
   "language": "python",
   "name": "python3"
  },
  "language_info": {
   "codemirror_mode": {
    "name": "ipython",
    "version": 3
   },
   "file_extension": ".py",
   "mimetype": "text/x-python",
   "name": "python",
   "nbconvert_exporter": "python",
   "pygments_lexer": "ipython3",
   "version": "3.12.4"
  }
 },
 "nbformat": 4,
 "nbformat_minor": 2
}
