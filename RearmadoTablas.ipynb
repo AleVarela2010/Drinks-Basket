{
 "cells": [
  {
   "cell_type": "markdown",
   "metadata": {},
   "source": [
    "### Se modifican las tablas para optimizar espacio y legibilidad de los datos"
   ]
  },
  {
   "cell_type": "code",
   "execution_count": 155,
   "metadata": {},
   "outputs": [],
   "source": [
    "#se importan las librerias a utilizar\n",
    "import pandas as pd\n",
    "import numpy as np"
   ]
  },
  {
   "cell_type": "code",
   "execution_count": 173,
   "metadata": {},
   "outputs": [],
   "source": [
    "#Se importan las tablas a modificar:\n",
    "\n",
    "SalesDetail = pd.read_csv (\"SalesFINAL12312016.csv\", sep=\",\")\n",
    "Sales = pd.read_csv (\"SalesFINAL12312016.csv\", sep=\",\")\n",
    "Inventory = pd.read_csv (\"BegInvFINAL12312016.csv\", sep=\",\")\n",
    "Purchases = pd.read_csv (\"PurchasesFINAL12312016.csv\", sep= \",\")\n",
    "InvoicePurchases = pd.read_csv (\"InvoicePurchases12312016.csv\", sep=\",\")\n",
    "Suppliers = pd.read_csv (\"InvoicePurchases12312016.csv\", sep=\",\")\n",
    "\n"
   ]
  },
  {
   "cell_type": "markdown",
   "metadata": {},
   "source": [
    "### SalesDetails"
   ]
  },
  {
   "cell_type": "code",
   "execution_count": 174,
   "metadata": {},
   "outputs": [
    {
     "name": "stdout",
     "output_type": "stream",
     "text": [
      "                       Brand  Store  InventoryId                 Description  \\\n",
      "0        1_HARDERSFIELD_1004      1         1004  Jim Beam w/2 Rocks Glasses   \n",
      "1        1_HARDERSFIELD_1004      1         1004  Jim Beam w/2 Rocks Glasses   \n",
      "2        1_HARDERSFIELD_1004      1         1004  Jim Beam w/2 Rocks Glasses   \n",
      "3        1_HARDERSFIELD_1004      1         1004  Jim Beam w/2 Rocks Glasses   \n",
      "4        1_HARDERSFIELD_1005      1         1005     Maker's Mark Combo Pack   \n",
      "...                      ...    ...          ...                         ...   \n",
      "1048570  19_WINTERVALE_39384     19        39384    F Coppola Diamond Pnt Nr   \n",
      "1048571  19_WINTERVALE_39384     19        39384    F Coppola Diamond Pnt Nr   \n",
      "1048572  19_WINTERVALE_39384     19        39384    F Coppola Diamond Pnt Nr   \n",
      "1048573  19_WINTERVALE_39384     19        39384    F Coppola Diamond Pnt Nr   \n",
      "1048574  19_WINTERVALE_39384     19        39384    F Coppola Diamond Pnt Nr   \n",
      "\n",
      "               Size  SalesQuantity  SalesDollars  SalesPrice  SalesDate  \\\n",
      "0             750mL              1         16.49       16.49   1/1/2016   \n",
      "1             750mL              2         32.98       16.49   1/2/2016   \n",
      "2             750mL              1         16.49       16.49   1/3/2016   \n",
      "3             750mL              1         14.49       14.49   1/8/2016   \n",
      "4        375mL 2 Pk              2         69.98       34.99   1/9/2016   \n",
      "...             ...            ...           ...         ...        ...   \n",
      "1048570       750mL              4         51.80       12.95  2/12/2016   \n",
      "1048571       750mL              8        103.60       12.95  2/13/2016   \n",
      "1048572       750mL              1         12.95       12.95  2/19/2016   \n",
      "1048573       750mL              3         38.85       12.95  2/22/2016   \n",
      "1048574       750mL              2         25.90       12.95  2/24/2016   \n",
      "\n",
      "         Volume  Classification  ExciseTax  VendorNo  \\\n",
      "0           750               1       0.79     12546   \n",
      "1           750               1       1.57     12546   \n",
      "2           750               1       0.79     12546   \n",
      "3           750               1       0.79     12546   \n",
      "4           375               1       0.79     12546   \n",
      "...         ...             ...        ...       ...   \n",
      "1048570     750               2       0.45      2000   \n",
      "1048571     750               2       0.90      2000   \n",
      "1048572     750               2       0.11      2000   \n",
      "1048573     750               2       0.34      2000   \n",
      "1048574     750               2       0.22      2000   \n",
      "\n",
      "                          VendorName  \n",
      "0        JIM BEAM BRANDS COMPANY      \n",
      "1        JIM BEAM BRANDS COMPANY      \n",
      "2        JIM BEAM BRANDS COMPANY      \n",
      "3        JIM BEAM BRANDS COMPANY      \n",
      "4        JIM BEAM BRANDS COMPANY      \n",
      "...                              ...  \n",
      "1048570  SOUTHERN WINE & SPIRITS NE   \n",
      "1048571  SOUTHERN WINE & SPIRITS NE   \n",
      "1048572  SOUTHERN WINE & SPIRITS NE   \n",
      "1048573  SOUTHERN WINE & SPIRITS NE   \n",
      "1048574  SOUTHERN WINE & SPIRITS NE   \n",
      "\n",
      "[1048575 rows x 14 columns]\n"
     ]
    }
   ],
   "source": [
    "#Se ven las columnas para analizar cuales quedan segun el diagrama entidad relacion hecho.\n",
    "print (SalesDetail)"
   ]
  },
  {
   "cell_type": "code",
   "execution_count": 175,
   "metadata": {},
   "outputs": [],
   "source": [
    "#Se pasan a eliminar las columnas que no son necesarias en esta tabla\n",
    "# Especificar las columnas que quieres eliminar\n",
    "columns_to_drop = ['InventoryId', 'Store','SalesDate', 'Volume', 'Classification', 'ExciseTax', 'VendorName','VendorNo']\n",
    "\n",
    "# Verificar si las columnas a eliminar existen en el DataFrame\n",
    "existing_columns_to_drop = [col for col in columns_to_drop if col in SalesDetail.columns]\n",
    "\n",
    "# Imprimir advertencia para las columnas no encontradas\n",
    "for col in columns_to_drop:\n",
    "    if col not in SalesDetail.columns:\n",
    "        print(f\"Advertencia: La columna '{col}' no existe en el DataFrame y no se puede eliminar.\")\n",
    "\n",
    "# Eliminar las columnas especificadas que existen\n",
    "SalesDetail.drop(columns=existing_columns_to_drop, axis=1, inplace=True)\n"
   ]
  },
  {
   "cell_type": "code",
   "execution_count": 176,
   "metadata": {},
   "outputs": [
    {
     "name": "stdout",
     "output_type": "stream",
     "text": [
      "                       Brand                 Description        Size  \\\n",
      "0        1_HARDERSFIELD_1004  Jim Beam w/2 Rocks Glasses       750mL   \n",
      "1        1_HARDERSFIELD_1004  Jim Beam w/2 Rocks Glasses       750mL   \n",
      "2        1_HARDERSFIELD_1004  Jim Beam w/2 Rocks Glasses       750mL   \n",
      "3        1_HARDERSFIELD_1004  Jim Beam w/2 Rocks Glasses       750mL   \n",
      "4        1_HARDERSFIELD_1005     Maker's Mark Combo Pack  375mL 2 Pk   \n",
      "...                      ...                         ...         ...   \n",
      "1048570  19_WINTERVALE_39384    F Coppola Diamond Pnt Nr       750mL   \n",
      "1048571  19_WINTERVALE_39384    F Coppola Diamond Pnt Nr       750mL   \n",
      "1048572  19_WINTERVALE_39384    F Coppola Diamond Pnt Nr       750mL   \n",
      "1048573  19_WINTERVALE_39384    F Coppola Diamond Pnt Nr       750mL   \n",
      "1048574  19_WINTERVALE_39384    F Coppola Diamond Pnt Nr       750mL   \n",
      "\n",
      "         SalesQuantity  SalesDollars  SalesPrice  \n",
      "0                    1         16.49       16.49  \n",
      "1                    2         32.98       16.49  \n",
      "2                    1         16.49       16.49  \n",
      "3                    1         14.49       14.49  \n",
      "4                    2         69.98       34.99  \n",
      "...                ...           ...         ...  \n",
      "1048570              4         51.80       12.95  \n",
      "1048571              8        103.60       12.95  \n",
      "1048572              1         12.95       12.95  \n",
      "1048573              3         38.85       12.95  \n",
      "1048574              2         25.90       12.95  \n",
      "\n",
      "[1048575 rows x 6 columns]\n"
     ]
    }
   ],
   "source": [
    "#Se ven las columnas para analizar cuales quedan segun el diagrama entidad/relacion hecho.\n",
    "print (SalesDetail)"
   ]
  },
  {
   "cell_type": "code",
   "execution_count": 177,
   "metadata": {},
   "outputs": [],
   "source": [
    "#Se crea la columna indice con el nombre correspondiente\n",
    "SalesDetail['DetailSalesID'] = range(1, len(SalesDetail) + 1)\n",
    "SalesDetail['IDSales'] = range(1, len(SalesDetail) + 1)"
   ]
  },
  {
   "cell_type": "code",
   "execution_count": 178,
   "metadata": {},
   "outputs": [
    {
     "name": "stdout",
     "output_type": "stream",
     "text": [
      "                       Brand                 Description        Size  \\\n",
      "0        1_HARDERSFIELD_1004  Jim Beam w/2 Rocks Glasses       750mL   \n",
      "1        1_HARDERSFIELD_1004  Jim Beam w/2 Rocks Glasses       750mL   \n",
      "2        1_HARDERSFIELD_1004  Jim Beam w/2 Rocks Glasses       750mL   \n",
      "3        1_HARDERSFIELD_1004  Jim Beam w/2 Rocks Glasses       750mL   \n",
      "4        1_HARDERSFIELD_1005     Maker's Mark Combo Pack  375mL 2 Pk   \n",
      "...                      ...                         ...         ...   \n",
      "1048570  19_WINTERVALE_39384    F Coppola Diamond Pnt Nr       750mL   \n",
      "1048571  19_WINTERVALE_39384    F Coppola Diamond Pnt Nr       750mL   \n",
      "1048572  19_WINTERVALE_39384    F Coppola Diamond Pnt Nr       750mL   \n",
      "1048573  19_WINTERVALE_39384    F Coppola Diamond Pnt Nr       750mL   \n",
      "1048574  19_WINTERVALE_39384    F Coppola Diamond Pnt Nr       750mL   \n",
      "\n",
      "         SalesQuantity  SalesDollars  SalesPrice  DetailSalesID  IDSales  \n",
      "0                    1         16.49       16.49              1        1  \n",
      "1                    2         32.98       16.49              2        2  \n",
      "2                    1         16.49       16.49              3        3  \n",
      "3                    1         14.49       14.49              4        4  \n",
      "4                    2         69.98       34.99              5        5  \n",
      "...                ...           ...         ...            ...      ...  \n",
      "1048570              4         51.80       12.95        1048571  1048571  \n",
      "1048571              8        103.60       12.95        1048572  1048572  \n",
      "1048572              1         12.95       12.95        1048573  1048573  \n",
      "1048573              3         38.85       12.95        1048574  1048574  \n",
      "1048574              2         25.90       12.95        1048575  1048575  \n",
      "\n",
      "[1048575 rows x 8 columns]\n"
     ]
    }
   ],
   "source": [
    "print (SalesDetail)"
   ]
  },
  {
   "cell_type": "markdown",
   "metadata": {},
   "source": [
    "### Sales"
   ]
  },
  {
   "cell_type": "code",
   "execution_count": 196,
   "metadata": {},
   "outputs": [
    {
     "name": "stdout",
     "output_type": "stream",
     "text": [
      "                       Brand  Store  InventoryId                 Description  \\\n",
      "0        1_HARDERSFIELD_1004      1         1004  Jim Beam w/2 Rocks Glasses   \n",
      "1        1_HARDERSFIELD_1004      1         1004  Jim Beam w/2 Rocks Glasses   \n",
      "2        1_HARDERSFIELD_1004      1         1004  Jim Beam w/2 Rocks Glasses   \n",
      "3        1_HARDERSFIELD_1004      1         1004  Jim Beam w/2 Rocks Glasses   \n",
      "4        1_HARDERSFIELD_1005      1         1005     Maker's Mark Combo Pack   \n",
      "...                      ...    ...          ...                         ...   \n",
      "1048570  19_WINTERVALE_39384     19        39384    F Coppola Diamond Pnt Nr   \n",
      "1048571  19_WINTERVALE_39384     19        39384    F Coppola Diamond Pnt Nr   \n",
      "1048572  19_WINTERVALE_39384     19        39384    F Coppola Diamond Pnt Nr   \n",
      "1048573  19_WINTERVALE_39384     19        39384    F Coppola Diamond Pnt Nr   \n",
      "1048574  19_WINTERVALE_39384     19        39384    F Coppola Diamond Pnt Nr   \n",
      "\n",
      "               Size  SalesQuantity  SalesDollars  SalesPrice  SalesDate  \\\n",
      "0             750mL              1         16.49       16.49   1/1/2016   \n",
      "1             750mL              2         32.98       16.49   1/2/2016   \n",
      "2             750mL              1         16.49       16.49   1/3/2016   \n",
      "3             750mL              1         14.49       14.49   1/8/2016   \n",
      "4        375mL 2 Pk              2         69.98       34.99   1/9/2016   \n",
      "...             ...            ...           ...         ...        ...   \n",
      "1048570       750mL              4         51.80       12.95  2/12/2016   \n",
      "1048571       750mL              8        103.60       12.95  2/13/2016   \n",
      "1048572       750mL              1         12.95       12.95  2/19/2016   \n",
      "1048573       750mL              3         38.85       12.95  2/22/2016   \n",
      "1048574       750mL              2         25.90       12.95  2/24/2016   \n",
      "\n",
      "         Volume  Classification  ExciseTax  VendorNo  \\\n",
      "0           750               1       0.79     12546   \n",
      "1           750               1       1.57     12546   \n",
      "2           750               1       0.79     12546   \n",
      "3           750               1       0.79     12546   \n",
      "4           375               1       0.79     12546   \n",
      "...         ...             ...        ...       ...   \n",
      "1048570     750               2       0.45      2000   \n",
      "1048571     750               2       0.90      2000   \n",
      "1048572     750               2       0.11      2000   \n",
      "1048573     750               2       0.34      2000   \n",
      "1048574     750               2       0.22      2000   \n",
      "\n",
      "                          VendorName  \n",
      "0        JIM BEAM BRANDS COMPANY      \n",
      "1        JIM BEAM BRANDS COMPANY      \n",
      "2        JIM BEAM BRANDS COMPANY      \n",
      "3        JIM BEAM BRANDS COMPANY      \n",
      "4        JIM BEAM BRANDS COMPANY      \n",
      "...                              ...  \n",
      "1048570  SOUTHERN WINE & SPIRITS NE   \n",
      "1048571  SOUTHERN WINE & SPIRITS NE   \n",
      "1048572  SOUTHERN WINE & SPIRITS NE   \n",
      "1048573  SOUTHERN WINE & SPIRITS NE   \n",
      "1048574  SOUTHERN WINE & SPIRITS NE   \n",
      "\n",
      "[1048575 rows x 14 columns]\n"
     ]
    }
   ],
   "source": [
    "print (Sales)"
   ]
  },
  {
   "cell_type": "code",
   "execution_count": 197,
   "metadata": {},
   "outputs": [],
   "source": [
    "#Se pasan a eliminar las columnas que no son necesarias en esta tabla\n",
    "# Especificar las columnas que quieres eliminar\n",
    "columns_to_drop = ['InventoryId', 'Description', 'Size', 'SalesQuantity', 'SalesDollars', 'SalesPrice', 'Volume', 'Classification', 'VendorName','VendorNo']\n",
    "\n",
    "# Verificar si las columnas a eliminar existen en el DataFrame\n",
    "existing_columns_to_drop = [col for col in columns_to_drop if col in Sales.columns]\n",
    "\n",
    "# Imprimir advertencia para las columnas no encontradas\n",
    "for col in columns_to_drop:\n",
    "    if col not in Sales.columns:\n",
    "        print(f\"Advertencia: La columna '{col}' no existe en el DataFrame y no se puede eliminar.\")\n",
    "\n",
    "# Eliminar las columnas especificadas que existen\n",
    "Sales.drop(columns=existing_columns_to_drop, axis=1, inplace=True)"
   ]
  },
  {
   "cell_type": "code",
   "execution_count": 198,
   "metadata": {},
   "outputs": [
    {
     "name": "stdout",
     "output_type": "stream",
     "text": [
      "                       Brand  Store  SalesDate  ExciseTax\n",
      "0        1_HARDERSFIELD_1004      1   1/1/2016       0.79\n",
      "1        1_HARDERSFIELD_1004      1   1/2/2016       1.57\n",
      "2        1_HARDERSFIELD_1004      1   1/3/2016       0.79\n",
      "3        1_HARDERSFIELD_1004      1   1/8/2016       0.79\n",
      "4        1_HARDERSFIELD_1005      1   1/9/2016       0.79\n",
      "...                      ...    ...        ...        ...\n",
      "1048570  19_WINTERVALE_39384     19  2/12/2016       0.45\n",
      "1048571  19_WINTERVALE_39384     19  2/13/2016       0.90\n",
      "1048572  19_WINTERVALE_39384     19  2/19/2016       0.11\n",
      "1048573  19_WINTERVALE_39384     19  2/22/2016       0.34\n",
      "1048574  19_WINTERVALE_39384     19  2/24/2016       0.22\n",
      "\n",
      "[1048575 rows x 4 columns]\n"
     ]
    }
   ],
   "source": [
    "print (Sales)"
   ]
  },
  {
   "cell_type": "code",
   "execution_count": 199,
   "metadata": {},
   "outputs": [],
   "source": [
    "#Se crea la columna indice con el nombre correspondiente\n",
    "Sales['IDSales'] = range(1, len(Sales) + 1)"
   ]
  },
  {
   "cell_type": "code",
   "execution_count": 200,
   "metadata": {},
   "outputs": [
    {
     "name": "stdout",
     "output_type": "stream",
     "text": [
      "                       Brand  Store  SalesDate  ExciseTax  IDSales\n",
      "0        1_HARDERSFIELD_1004      1   1/1/2016       0.79        1\n",
      "1        1_HARDERSFIELD_1004      1   1/2/2016       1.57        2\n",
      "2        1_HARDERSFIELD_1004      1   1/3/2016       0.79        3\n",
      "3        1_HARDERSFIELD_1004      1   1/8/2016       0.79        4\n",
      "4        1_HARDERSFIELD_1005      1   1/9/2016       0.79        5\n",
      "...                      ...    ...        ...        ...      ...\n",
      "1048570  19_WINTERVALE_39384     19  2/12/2016       0.45  1048571\n",
      "1048571  19_WINTERVALE_39384     19  2/13/2016       0.90  1048572\n",
      "1048572  19_WINTERVALE_39384     19  2/19/2016       0.11  1048573\n",
      "1048573  19_WINTERVALE_39384     19  2/22/2016       0.34  1048574\n",
      "1048574  19_WINTERVALE_39384     19  2/24/2016       0.22  1048575\n",
      "\n",
      "[1048575 rows x 5 columns]\n"
     ]
    }
   ],
   "source": [
    "print (Sales)"
   ]
  },
  {
   "cell_type": "markdown",
   "metadata": {},
   "source": [
    "### Inventory"
   ]
  },
  {
   "cell_type": "code",
   "execution_count": 192,
   "metadata": {},
   "outputs": [
    {
     "name": "stdout",
     "output_type": "stream",
     "text": [
      "                     Brand  Store          City  InventoryId  \\\n",
      "0        1_HARDERSFIELD_58      1  HARDERSFIELD           58   \n",
      "1        1_HARDERSFIELD_60      1  HARDERSFIELD           60   \n",
      "2        1_HARDERSFIELD_62      1  HARDERSFIELD           62   \n",
      "3        1_HARDERSFIELD_63      1  HARDERSFIELD           63   \n",
      "4        1_HARDERSFIELD_72      1  HARDERSFIELD           72   \n",
      "...                    ...    ...           ...          ...   \n",
      "206524  79_BALLYMENA_46985     79     BALLYMENA        46985   \n",
      "206525  79_BALLYMENA_47014     79     BALLYMENA        47014   \n",
      "206526  79_BALLYMENA_47090     79     BALLYMENA        47090   \n",
      "206527  79_BALLYMENA_90011     79     BALLYMENA        90011   \n",
      "206528  79_BALLYMENA_90089     79     BALLYMENA        90089   \n",
      "\n",
      "                         Description   Size  onHand   Price   startDate  \n",
      "0        Gekkeikan Black & Gold Sake  750mL       8   12.99  2016-01-01  \n",
      "1             Canadian Club 1858 VAP  750mL       7   10.99  2016-01-01  \n",
      "2           Herradura Silver Tequila  750mL       6   36.99  2016-01-01  \n",
      "3         Herradura Reposado Tequila  750mL       3   38.99  2016-01-01  \n",
      "4               No. 3 London Dry Gin  750mL       6   34.99  2016-01-01  \n",
      "...                              ...    ...     ...     ...         ...  \n",
      "206524  Rodney Strong Cab Svgn Alexa  750mL      13   22.99  2016-01-01  \n",
      "206525           Juan Gil Jumilla Rd  750mL      13   13.99  2016-01-01  \n",
      "206526    Napa Cellars Cab Svgn Napa  750mL      19   23.99  2016-01-01  \n",
      "206527  Ch Pichon Longville 12 Pauil  750mL      12  144.99  2016-01-01  \n",
      "206528    Ch Lynch Bages 12 Pauillac  750mL      24  119.99  2016-01-01  \n",
      "\n",
      "[206529 rows x 9 columns]\n"
     ]
    }
   ],
   "source": [
    "#Se ven las columnas para analizar cuales quedan segun el diagrama entidad relacion hecho.\n",
    "print (Inventory)"
   ]
  },
  {
   "cell_type": "code",
   "execution_count": 193,
   "metadata": {},
   "outputs": [],
   "source": [
    "#Se pasan a eliminar las columnas que no son necesarias en esta tabla\n",
    "# Especificar las columnas que quieres eliminar\n",
    "columns_to_drop = ['startDate']\n",
    "\n",
    "# Verificar si las columnas a eliminar existen en el DataFrame\n",
    "existing_columns_to_drop = [col for col in columns_to_drop if col in Inventory.columns]\n",
    "\n",
    "# Imprimir advertencia para las columnas no encontradas\n",
    "for col in columns_to_drop:\n",
    "    if col not in Inventory.columns:\n",
    "        print(f\"Advertencia: La columna '{col}' no existe en el DataFrame y no se puede eliminar.\")\n",
    "\n",
    "# Eliminar las columnas especificadas que existen\n",
    "Inventory.drop(columns=existing_columns_to_drop, axis=1, inplace=True)"
   ]
  },
  {
   "cell_type": "code",
   "execution_count": 194,
   "metadata": {},
   "outputs": [],
   "source": [
    "#Se crea la columna indice con el nombre correspondiente\n",
    "Inventory['ProductoID'] = range(1, len(Inventory) + 1)"
   ]
  },
  {
   "cell_type": "code",
   "execution_count": 195,
   "metadata": {},
   "outputs": [
    {
     "name": "stdout",
     "output_type": "stream",
     "text": [
      "                     Brand  Store          City  InventoryId  \\\n",
      "0        1_HARDERSFIELD_58      1  HARDERSFIELD           58   \n",
      "1        1_HARDERSFIELD_60      1  HARDERSFIELD           60   \n",
      "2        1_HARDERSFIELD_62      1  HARDERSFIELD           62   \n",
      "3        1_HARDERSFIELD_63      1  HARDERSFIELD           63   \n",
      "4        1_HARDERSFIELD_72      1  HARDERSFIELD           72   \n",
      "...                    ...    ...           ...          ...   \n",
      "206524  79_BALLYMENA_46985     79     BALLYMENA        46985   \n",
      "206525  79_BALLYMENA_47014     79     BALLYMENA        47014   \n",
      "206526  79_BALLYMENA_47090     79     BALLYMENA        47090   \n",
      "206527  79_BALLYMENA_90011     79     BALLYMENA        90011   \n",
      "206528  79_BALLYMENA_90089     79     BALLYMENA        90089   \n",
      "\n",
      "                         Description   Size  onHand   Price  ProductoID  \n",
      "0        Gekkeikan Black & Gold Sake  750mL       8   12.99           1  \n",
      "1             Canadian Club 1858 VAP  750mL       7   10.99           2  \n",
      "2           Herradura Silver Tequila  750mL       6   36.99           3  \n",
      "3         Herradura Reposado Tequila  750mL       3   38.99           4  \n",
      "4               No. 3 London Dry Gin  750mL       6   34.99           5  \n",
      "...                              ...    ...     ...     ...         ...  \n",
      "206524  Rodney Strong Cab Svgn Alexa  750mL      13   22.99      206525  \n",
      "206525           Juan Gil Jumilla Rd  750mL      13   13.99      206526  \n",
      "206526    Napa Cellars Cab Svgn Napa  750mL      19   23.99      206527  \n",
      "206527  Ch Pichon Longville 12 Pauil  750mL      12  144.99      206528  \n",
      "206528    Ch Lynch Bages 12 Pauillac  750mL      24  119.99      206529  \n",
      "\n",
      "[206529 rows x 9 columns]\n"
     ]
    }
   ],
   "source": [
    "print (Inventory)"
   ]
  },
  {
   "cell_type": "markdown",
   "metadata": {},
   "source": [
    "### Purchases"
   ]
  },
  {
   "cell_type": "code",
   "execution_count": 187,
   "metadata": {},
   "outputs": [
    {
     "name": "stdout",
     "output_type": "stream",
     "text": [
      "                     Brand  Store  InventoryId                  Description  \\\n",
      "0       55_DRY GULCH_24921     55        24921           Appolo Vyds Seyval   \n",
      "1          10_HORNSEY_4247     10         4247            Bacardi Limon Rum   \n",
      "2        34_PITMERDEN_7221     34         7221         M & R Sweet Vermouth   \n",
      "3        32_MOUNTMEND_7977     32         7977         M & R X Dry Vermouth   \n",
      "4       66_EANVERNESS_4246     66         4246         Bacardi Superior Rum   \n",
      "...                    ...    ...          ...                          ...   \n",
      "829148   73_DONCASTER_4796     73         4796         Caravella Limoncello   \n",
      "829149  62_KILMARNOCK_4783     62         4783     Mr Boston Apricot Brandy   \n",
      "829150     15_WANBORNE_113     15          113  Mr Boston Cr de Cacao Brown   \n",
      "829151     60_IRRAGIN_3684     60         3684     Fleischmanns Royal Vodka   \n",
      "829152   34_PITMERDEN_3687     34         3687  Fleischmanns Royal Traveler   \n",
      "\n",
      "         Size  VendorNumber                   VendorName  PONumber  \\\n",
      "0       750mL           287  APPOLO VINEYARDS LLC             8287   \n",
      "1       750mL           480  BACARDI USA INC                  8288   \n",
      "2        1.5L           480  BACARDI USA INC                  8288   \n",
      "3        1.5L           480  BACARDI USA INC                  8288   \n",
      "4       375mL           480  BACARDI USA INC                  8288   \n",
      "...       ...           ...                          ...       ...   \n",
      "829148  750mL           660  SAZERAC NORTH AMERICA INC.      10401   \n",
      "829149  1.75L           660  SAZERAC NORTH AMERICA INC.      10401   \n",
      "829150  Liter           660  SAZERAC NORTH AMERICA INC.      10401   \n",
      "829151  1.75L           660  SAZERAC NORTH AMERICA INC.      10401   \n",
      "829152  750mL           660  SAZERAC NORTH AMERICA INC.      10401   \n",
      "\n",
      "            PODate ReceivingDate InvoiceDate     PayDate  PurchasePrice  \\\n",
      "0       2016-01-01    2016-01-06  2016-01-13  2016-02-18          10.40   \n",
      "1       2016-01-01    2016-01-06  2016-01-19  2016-02-18           7.99   \n",
      "2       2016-01-01    2016-01-07  2016-01-19  2016-02-18           6.86   \n",
      "3       2016-01-01    2016-01-08  2016-01-19  2016-02-18           7.49   \n",
      "4       2016-01-01    2016-01-04  2016-01-19  2016-02-18           4.22   \n",
      "...            ...           ...         ...         ...            ...   \n",
      "829148  2016-05-26    2016-06-03  2016-06-13  2016-07-10          12.31   \n",
      "829149  2016-05-26    2016-05-30  2016-06-13  2016-07-10           8.88   \n",
      "829150  2016-05-26    2016-05-30  2016-06-13  2016-07-10           4.84   \n",
      "829151  2016-05-26    2016-06-03  2016-06-13  2016-07-10           7.68   \n",
      "829152  2016-05-26    2016-06-03  2016-06-13  2016-07-10           3.84   \n",
      "\n",
      "        Quantity  Dollars  Classification  \n",
      "0             12   124.80               2  \n",
      "1             12    95.88               1  \n",
      "2              2    13.72               2  \n",
      "3              6    44.94               1  \n",
      "4             24   101.28               1  \n",
      "...          ...      ...             ...  \n",
      "829148         5    61.55               1  \n",
      "829149         5    44.40               1  \n",
      "829150        12    58.08               1  \n",
      "829151         1     7.68               1  \n",
      "829152         8    30.72               1  \n",
      "\n",
      "[829153 rows x 16 columns]\n"
     ]
    }
   ],
   "source": [
    "#Se ven las columnas para analizar cuales quedan segun el diagrama entidad/relacion hecho.\n",
    "print (Purchases)"
   ]
  },
  {
   "cell_type": "code",
   "execution_count": 188,
   "metadata": {},
   "outputs": [],
   "source": [
    "#Se pasa a eliminar las columnas que no son necesarias en esta tabla\n",
    "# Especificar las columnas que quieres eliminar\n",
    "columns_to_drop = ['Store', 'Description', 'Size', 'VendorNumber', 'VendorName', 'InvoiceDate', 'PayDate', ]\n",
    "\n",
    "# Verificar si las columnas a eliminar existen en el DataFrame\n",
    "existing_columns_to_drop = [col for col in columns_to_drop if col in Purchases.columns]\n",
    "\n",
    "# Imprimir advertencia para las columnas no encontradas\n",
    "for col in columns_to_drop:\n",
    "    if col not in Purchases.columns:\n",
    "        print(f\"Advertencia: La columna '{col}' no existe en el DataFrame y no se puede eliminar.\")\n",
    "\n",
    "# Eliminar las columnas especificadas que existen\n",
    "Purchases.drop(columns=existing_columns_to_drop, axis=1, inplace=True)"
   ]
  },
  {
   "cell_type": "code",
   "execution_count": 189,
   "metadata": {},
   "outputs": [
    {
     "name": "stdout",
     "output_type": "stream",
     "text": [
      "                     Brand  InventoryId  PONumber      PODate ReceivingDate  \\\n",
      "0       55_DRY GULCH_24921        24921      8287  2016-01-01    2016-01-06   \n",
      "1          10_HORNSEY_4247         4247      8288  2016-01-01    2016-01-06   \n",
      "2        34_PITMERDEN_7221         7221      8288  2016-01-01    2016-01-07   \n",
      "3        32_MOUNTMEND_7977         7977      8288  2016-01-01    2016-01-08   \n",
      "4       66_EANVERNESS_4246         4246      8288  2016-01-01    2016-01-04   \n",
      "...                    ...          ...       ...         ...           ...   \n",
      "829148   73_DONCASTER_4796         4796     10401  2016-05-26    2016-06-03   \n",
      "829149  62_KILMARNOCK_4783         4783     10401  2016-05-26    2016-05-30   \n",
      "829150     15_WANBORNE_113          113     10401  2016-05-26    2016-05-30   \n",
      "829151     60_IRRAGIN_3684         3684     10401  2016-05-26    2016-06-03   \n",
      "829152   34_PITMERDEN_3687         3687     10401  2016-05-26    2016-06-03   \n",
      "\n",
      "        PurchasePrice  Quantity  Dollars  Classification  \n",
      "0               10.40        12   124.80               2  \n",
      "1                7.99        12    95.88               1  \n",
      "2                6.86         2    13.72               2  \n",
      "3                7.49         6    44.94               1  \n",
      "4                4.22        24   101.28               1  \n",
      "...               ...       ...      ...             ...  \n",
      "829148          12.31         5    61.55               1  \n",
      "829149           8.88         5    44.40               1  \n",
      "829150           4.84        12    58.08               1  \n",
      "829151           7.68         1     7.68               1  \n",
      "829152           3.84         8    30.72               1  \n",
      "\n",
      "[829153 rows x 9 columns]\n"
     ]
    }
   ],
   "source": [
    "print (Purchases)"
   ]
  },
  {
   "cell_type": "code",
   "execution_count": 190,
   "metadata": {},
   "outputs": [],
   "source": [
    "#Se crea la columna indice con el nombre correspondiente\n",
    "Purchases['IDPurchases'] = range(1, len(Purchases) + 1)"
   ]
  },
  {
   "cell_type": "code",
   "execution_count": 191,
   "metadata": {},
   "outputs": [
    {
     "name": "stdout",
     "output_type": "stream",
     "text": [
      "                     Brand  InventoryId  PONumber      PODate ReceivingDate  \\\n",
      "0       55_DRY GULCH_24921        24921      8287  2016-01-01    2016-01-06   \n",
      "1          10_HORNSEY_4247         4247      8288  2016-01-01    2016-01-06   \n",
      "2        34_PITMERDEN_7221         7221      8288  2016-01-01    2016-01-07   \n",
      "3        32_MOUNTMEND_7977         7977      8288  2016-01-01    2016-01-08   \n",
      "4       66_EANVERNESS_4246         4246      8288  2016-01-01    2016-01-04   \n",
      "...                    ...          ...       ...         ...           ...   \n",
      "829148   73_DONCASTER_4796         4796     10401  2016-05-26    2016-06-03   \n",
      "829149  62_KILMARNOCK_4783         4783     10401  2016-05-26    2016-05-30   \n",
      "829150     15_WANBORNE_113          113     10401  2016-05-26    2016-05-30   \n",
      "829151     60_IRRAGIN_3684         3684     10401  2016-05-26    2016-06-03   \n",
      "829152   34_PITMERDEN_3687         3687     10401  2016-05-26    2016-06-03   \n",
      "\n",
      "        PurchasePrice  Quantity  Dollars  Classification  IDPurchases  \n",
      "0               10.40        12   124.80               2            1  \n",
      "1                7.99        12    95.88               1            2  \n",
      "2                6.86         2    13.72               2            3  \n",
      "3                7.49         6    44.94               1            4  \n",
      "4                4.22        24   101.28               1            5  \n",
      "...               ...       ...      ...             ...          ...  \n",
      "829148          12.31         5    61.55               1       829149  \n",
      "829149           8.88         5    44.40               1       829150  \n",
      "829150           4.84        12    58.08               1       829151  \n",
      "829151           7.68         1     7.68               1       829152  \n",
      "829152           3.84         8    30.72               1       829153  \n",
      "\n",
      "[829153 rows x 10 columns]\n"
     ]
    }
   ],
   "source": [
    "print (Purchases)"
   ]
  },
  {
   "cell_type": "markdown",
   "metadata": {},
   "source": [
    "### InvoicePurchases"
   ]
  },
  {
   "cell_type": "code",
   "execution_count": 182,
   "metadata": {},
   "outputs": [
    {
     "name": "stdout",
     "output_type": "stream",
     "text": [
      "      VendorNumber                   VendorName InvoiceDate  PONumber  \\\n",
      "0              105  ALTAMAR BRANDS LLC           2016-01-04      8124   \n",
      "1             4466  AMERICAN VINTAGE BEVERAGE    2016-01-07      8137   \n",
      "2              388  ATLANTIC IMPORTING COMPANY   2016-01-09      8169   \n",
      "3              480  BACARDI USA INC              2016-01-12      8106   \n",
      "4              516  BANFI PRODUCTS CORP          2016-01-07      8170   \n",
      "...            ...                          ...         ...       ...   \n",
      "5538          9622  WEIN BAUER INC               2017-01-06     13626   \n",
      "5539          9625  WESTERN SPIRITS BEVERAGE CO  2017-01-10     13661   \n",
      "5540          3664  WILLIAM GRANT & SONS INC     2017-01-02     13643   \n",
      "5541          9815  WINE GROUP INC               2017-01-03     13602   \n",
      "5542         90058  ZORVINO VINEYARDS            2017-01-05     13574   \n",
      "\n",
      "          PODate     PayDate  Quantity    Dollars  Freight Approval  \n",
      "0     2015-12-21  2016-02-16         6     214.26     3.47      NaN  \n",
      "1     2015-12-22  2016-02-21        15     140.55     8.57      NaN  \n",
      "2     2015-12-24  2016-02-16         5     106.60     4.61      NaN  \n",
      "3     2015-12-20  2016-02-05     10100  137483.78  2935.20      NaN  \n",
      "4     2015-12-24  2016-02-12      1935   15527.25   429.20      NaN  \n",
      "...          ...         ...       ...        ...      ...      ...  \n",
      "5538  2016-12-21  2017-02-10        90    1563.00     8.60      NaN  \n",
      "5539  2016-12-23  2017-02-18      4617   37300.48   186.50      NaN  \n",
      "5540  2016-12-22  2017-02-04      9848  202815.78   932.95      NaN  \n",
      "5541  2016-12-20  2017-02-08     24747  149007.56   819.54      NaN  \n",
      "5542  2016-12-18  2017-02-12       437    3608.11    16.60      NaN  \n",
      "\n",
      "[5543 rows x 10 columns]\n"
     ]
    }
   ],
   "source": [
    "print (InvoicePurchases)"
   ]
  },
  {
   "cell_type": "code",
   "execution_count": 183,
   "metadata": {},
   "outputs": [],
   "source": [
    "#Se pasa a eliminar las columnas que no son necesarias en esta tabla\n",
    "# Especificar las columnas que quieres eliminar\n",
    "columns_to_drop = ['VendorName', 'PONumber', 'Quantity', 'Dollars', 'Approval' ]\n",
    "\n",
    "# Verificar si las columnas a eliminar existen en el DataFrame\n",
    "existing_columns_to_drop = [col for col in columns_to_drop if col in InvoicePurchases.columns]\n",
    "\n",
    "# Imprimir advertencia para las columnas no encontradas\n",
    "for col in columns_to_drop:\n",
    "    if col not in InvoicePurchases.columns:\n",
    "        print(f\"Advertencia: La columna '{col}' no existe en el DataFrame y no se puede eliminar.\")\n",
    "\n",
    "# Eliminar las columnas especificadas que existen\n",
    "InvoicePurchases.drop(columns=existing_columns_to_drop, axis=1, inplace=True)"
   ]
  },
  {
   "cell_type": "code",
   "execution_count": 184,
   "metadata": {},
   "outputs": [
    {
     "name": "stdout",
     "output_type": "stream",
     "text": [
      "      VendorNumber InvoiceDate      PODate     PayDate  Freight\n",
      "0              105  2016-01-04  2015-12-21  2016-02-16     3.47\n",
      "1             4466  2016-01-07  2015-12-22  2016-02-21     8.57\n",
      "2              388  2016-01-09  2015-12-24  2016-02-16     4.61\n",
      "3              480  2016-01-12  2015-12-20  2016-02-05  2935.20\n",
      "4              516  2016-01-07  2015-12-24  2016-02-12   429.20\n",
      "...            ...         ...         ...         ...      ...\n",
      "5538          9622  2017-01-06  2016-12-21  2017-02-10     8.60\n",
      "5539          9625  2017-01-10  2016-12-23  2017-02-18   186.50\n",
      "5540          3664  2017-01-02  2016-12-22  2017-02-04   932.95\n",
      "5541          9815  2017-01-03  2016-12-20  2017-02-08   819.54\n",
      "5542         90058  2017-01-05  2016-12-18  2017-02-12    16.60\n",
      "\n",
      "[5543 rows x 5 columns]\n"
     ]
    }
   ],
   "source": [
    "print (InvoicePurchases)"
   ]
  },
  {
   "cell_type": "code",
   "execution_count": 185,
   "metadata": {},
   "outputs": [],
   "source": [
    "#Se crea la columna indice con el nombre correspondiente\n",
    "InvoicePurchases['IDInvoicePurchases'] = range(1, len(InvoicePurchases) + 1)\n",
    "InvoicePurchases['IDPurchases'] = range(1, len(InvoicePurchases) + 1)"
   ]
  },
  {
   "cell_type": "code",
   "execution_count": 186,
   "metadata": {},
   "outputs": [
    {
     "name": "stdout",
     "output_type": "stream",
     "text": [
      "      VendorNumber InvoiceDate      PODate     PayDate  Freight  \\\n",
      "0              105  2016-01-04  2015-12-21  2016-02-16     3.47   \n",
      "1             4466  2016-01-07  2015-12-22  2016-02-21     8.57   \n",
      "2              388  2016-01-09  2015-12-24  2016-02-16     4.61   \n",
      "3              480  2016-01-12  2015-12-20  2016-02-05  2935.20   \n",
      "4              516  2016-01-07  2015-12-24  2016-02-12   429.20   \n",
      "...            ...         ...         ...         ...      ...   \n",
      "5538          9622  2017-01-06  2016-12-21  2017-02-10     8.60   \n",
      "5539          9625  2017-01-10  2016-12-23  2017-02-18   186.50   \n",
      "5540          3664  2017-01-02  2016-12-22  2017-02-04   932.95   \n",
      "5541          9815  2017-01-03  2016-12-20  2017-02-08   819.54   \n",
      "5542         90058  2017-01-05  2016-12-18  2017-02-12    16.60   \n",
      "\n",
      "      IDInvoicePurchases  IDPurchases  \n",
      "0                      1            1  \n",
      "1                      2            2  \n",
      "2                      3            3  \n",
      "3                      4            4  \n",
      "4                      5            5  \n",
      "...                  ...          ...  \n",
      "5538                5539         5539  \n",
      "5539                5540         5540  \n",
      "5540                5541         5541  \n",
      "5541                5542         5542  \n",
      "5542                5543         5543  \n",
      "\n",
      "[5543 rows x 7 columns]\n"
     ]
    }
   ],
   "source": [
    "print (InvoicePurchases)"
   ]
  },
  {
   "cell_type": "markdown",
   "metadata": {},
   "source": [
    "### Suppliers"
   ]
  },
  {
   "cell_type": "code",
   "execution_count": 179,
   "metadata": {},
   "outputs": [
    {
     "name": "stdout",
     "output_type": "stream",
     "text": [
      "      VendorNumber                   VendorName InvoiceDate  PONumber  \\\n",
      "0              105  ALTAMAR BRANDS LLC           2016-01-04      8124   \n",
      "1             4466  AMERICAN VINTAGE BEVERAGE    2016-01-07      8137   \n",
      "2              388  ATLANTIC IMPORTING COMPANY   2016-01-09      8169   \n",
      "3              480  BACARDI USA INC              2016-01-12      8106   \n",
      "4              516  BANFI PRODUCTS CORP          2016-01-07      8170   \n",
      "...            ...                          ...         ...       ...   \n",
      "5538          9622  WEIN BAUER INC               2017-01-06     13626   \n",
      "5539          9625  WESTERN SPIRITS BEVERAGE CO  2017-01-10     13661   \n",
      "5540          3664  WILLIAM GRANT & SONS INC     2017-01-02     13643   \n",
      "5541          9815  WINE GROUP INC               2017-01-03     13602   \n",
      "5542         90058  ZORVINO VINEYARDS            2017-01-05     13574   \n",
      "\n",
      "          PODate     PayDate  Quantity    Dollars  Freight Approval  \n",
      "0     2015-12-21  2016-02-16         6     214.26     3.47      NaN  \n",
      "1     2015-12-22  2016-02-21        15     140.55     8.57      NaN  \n",
      "2     2015-12-24  2016-02-16         5     106.60     4.61      NaN  \n",
      "3     2015-12-20  2016-02-05     10100  137483.78  2935.20      NaN  \n",
      "4     2015-12-24  2016-02-12      1935   15527.25   429.20      NaN  \n",
      "...          ...         ...       ...        ...      ...      ...  \n",
      "5538  2016-12-21  2017-02-10        90    1563.00     8.60      NaN  \n",
      "5539  2016-12-23  2017-02-18      4617   37300.48   186.50      NaN  \n",
      "5540  2016-12-22  2017-02-04      9848  202815.78   932.95      NaN  \n",
      "5541  2016-12-20  2017-02-08     24747  149007.56   819.54      NaN  \n",
      "5542  2016-12-18  2017-02-12       437    3608.11    16.60      NaN  \n",
      "\n",
      "[5543 rows x 10 columns]\n"
     ]
    }
   ],
   "source": [
    "print (Suppliers)"
   ]
  },
  {
   "cell_type": "code",
   "execution_count": 180,
   "metadata": {},
   "outputs": [],
   "source": [
    "#Se pasa a eliminar las columnas que no son necesarias en esta tabla\n",
    "# Especificar las columnas que quieres eliminar\n",
    "columns_to_drop = ['Approval', 'Freight', 'Dollars', 'Quantity', 'PayDate', 'PODate', 'PONumber', 'InvoiceDate']\n",
    "\n",
    "# Verificar si las columnas a eliminar existen en el DataFrame\n",
    "existing_columns_to_drop = [col for col in columns_to_drop if col in Suppliers.columns]\n",
    "\n",
    "# Imprimir advertencia para las columnas no encontradas\n",
    "for col in columns_to_drop:\n",
    "    if col not in Suppliers.columns:\n",
    "        print(f\"Advertencia: La columna '{col}' no existe en el DataFrame y no se puede eliminar.\")\n",
    "\n",
    "# Eliminar las columnas especificadas que existen\n",
    "Suppliers.drop(columns=existing_columns_to_drop, axis=1, inplace=True)"
   ]
  },
  {
   "cell_type": "code",
   "execution_count": 181,
   "metadata": {},
   "outputs": [
    {
     "name": "stdout",
     "output_type": "stream",
     "text": [
      "      VendorNumber                   VendorName\n",
      "0              105  ALTAMAR BRANDS LLC         \n",
      "1             4466  AMERICAN VINTAGE BEVERAGE  \n",
      "2              388  ATLANTIC IMPORTING COMPANY \n",
      "3              480  BACARDI USA INC            \n",
      "4              516  BANFI PRODUCTS CORP        \n",
      "...            ...                          ...\n",
      "5538          9622  WEIN BAUER INC             \n",
      "5539          9625  WESTERN SPIRITS BEVERAGE CO\n",
      "5540          3664  WILLIAM GRANT & SONS INC   \n",
      "5541          9815  WINE GROUP INC             \n",
      "5542         90058  ZORVINO VINEYARDS          \n",
      "\n",
      "[5543 rows x 2 columns]\n"
     ]
    }
   ],
   "source": [
    "print (Suppliers)"
   ]
  },
  {
   "cell_type": "code",
   "execution_count": 145,
   "metadata": {},
   "outputs": [
    {
     "name": "stdout",
     "output_type": "stream",
     "text": [
      "Advertencia: La columna '0' no existe en el DataFrame y no se puede eliminar.\n"
     ]
    }
   ],
   "source": [
    "#Se pasan a eliminar las columnas que no son necesarias en esta tabla\n",
    "# Especificar las columnas que quieres eliminar\n",
    "columns_to_drop = ['0']\n",
    "\n",
    "# Verificar si las columnas a eliminar existen en el DataFrame\n",
    "existing_columns_to_drop = [col for col in columns_to_drop if col in Inventory.columns]\n",
    "\n",
    "# Imprimir advertencia para las columnas no encontradas\n",
    "for col in columns_to_drop:\n",
    "    if col not in Inventory.columns:\n",
    "        print(f\"Advertencia: La columna '{col}' no existe en el DataFrame y no se puede eliminar.\")\n",
    "\n",
    "# Eliminar las columnas especificadas que existen\n",
    "Inventory.drop(columns=existing_columns_to_drop, axis=1, inplace=True)\n",
    "\n"
   ]
  },
  {
   "cell_type": "markdown",
   "metadata": {},
   "source": [
    "### Limpieza"
   ]
  },
  {
   "cell_type": "code",
   "execution_count": 147,
   "metadata": {},
   "outputs": [],
   "source": [
    "# Lista de DataFrames\n",
    "dataframes = [SalesDetail, Sales, Inventory, Purchases, InvoicePurchases, Suppliers]\n",
    "\n",
    "# Cambiar el nombre de la columna si existe\n",
    "for df in dataframes:\n",
    "    if 'InventoryId' in df.columns:\n",
    "        df.rename(columns={'InventoryId': 'Brand'}, inplace=True)"
   ]
  },
  {
   "cell_type": "code",
   "execution_count": 148,
   "metadata": {},
   "outputs": [
    {
     "name": "stdout",
     "output_type": "stream",
     "text": [
      "                       Brand                 Description        Size  \\\n",
      "0        1_HARDERSFIELD_1004  Jim Beam w/2 Rocks Glasses       750mL   \n",
      "1        1_HARDERSFIELD_1004  Jim Beam w/2 Rocks Glasses       750mL   \n",
      "2        1_HARDERSFIELD_1004  Jim Beam w/2 Rocks Glasses       750mL   \n",
      "3        1_HARDERSFIELD_1004  Jim Beam w/2 Rocks Glasses       750mL   \n",
      "4        1_HARDERSFIELD_1005     Maker's Mark Combo Pack  375mL 2 Pk   \n",
      "...                      ...                         ...         ...   \n",
      "1048570  19_WINTERVALE_39384    F Coppola Diamond Pnt Nr       750mL   \n",
      "1048571  19_WINTERVALE_39384    F Coppola Diamond Pnt Nr       750mL   \n",
      "1048572  19_WINTERVALE_39384    F Coppola Diamond Pnt Nr       750mL   \n",
      "1048573  19_WINTERVALE_39384    F Coppola Diamond Pnt Nr       750mL   \n",
      "1048574  19_WINTERVALE_39384    F Coppola Diamond Pnt Nr       750mL   \n",
      "\n",
      "         SalesQuantity  SalesDollars  SalesPrice  DetailSalesID  IDSales  \n",
      "0                    1         16.49       16.49              1        1  \n",
      "1                    2         32.98       16.49              2        2  \n",
      "2                    1         16.49       16.49              3        3  \n",
      "3                    1         14.49       14.49              4        4  \n",
      "4                    2         69.98       34.99              5        5  \n",
      "...                ...           ...         ...            ...      ...  \n",
      "1048570              4         51.80       12.95        1048571  1048571  \n",
      "1048571              8        103.60       12.95        1048572  1048572  \n",
      "1048572              1         12.95       12.95        1048573  1048573  \n",
      "1048573              3         38.85       12.95        1048574  1048574  \n",
      "1048574              2         25.90       12.95        1048575  1048575  \n",
      "\n",
      "[1048575 rows x 8 columns]                        Brand  Store  SalesDate  ExciseTax  IDSales\n",
      "0        1_HARDERSFIELD_1004      1   1/1/2016       0.79        1\n",
      "1        1_HARDERSFIELD_1004      1   1/2/2016       1.57        2\n",
      "2        1_HARDERSFIELD_1004      1   1/3/2016       0.79        3\n",
      "3        1_HARDERSFIELD_1004      1   1/8/2016       0.79        4\n",
      "4        1_HARDERSFIELD_1005      1   1/9/2016       0.79        5\n",
      "...                      ...    ...        ...        ...      ...\n",
      "1048570  19_WINTERVALE_39384     19  2/12/2016       0.45  1048571\n",
      "1048571  19_WINTERVALE_39384     19  2/13/2016       0.90  1048572\n",
      "1048572  19_WINTERVALE_39384     19  2/19/2016       0.11  1048573\n",
      "1048573  19_WINTERVALE_39384     19  2/22/2016       0.34  1048574\n",
      "1048574  19_WINTERVALE_39384     19  2/24/2016       0.22  1048575\n",
      "\n",
      "[1048575 rows x 5 columns]                      Brand  Store          City  Brand  \\\n",
      "0        1_HARDERSFIELD_58      1  HARDERSFIELD     58   \n",
      "1        1_HARDERSFIELD_60      1  HARDERSFIELD     60   \n",
      "2        1_HARDERSFIELD_62      1  HARDERSFIELD     62   \n",
      "3        1_HARDERSFIELD_63      1  HARDERSFIELD     63   \n",
      "4        1_HARDERSFIELD_72      1  HARDERSFIELD     72   \n",
      "...                    ...    ...           ...    ...   \n",
      "206524  79_BALLYMENA_46985     79     BALLYMENA  46985   \n",
      "206525  79_BALLYMENA_47014     79     BALLYMENA  47014   \n",
      "206526  79_BALLYMENA_47090     79     BALLYMENA  47090   \n",
      "206527  79_BALLYMENA_90011     79     BALLYMENA  90011   \n",
      "206528  79_BALLYMENA_90089     79     BALLYMENA  90089   \n",
      "\n",
      "                         Description   Size  onHand   Price  ProductoID  \n",
      "0        Gekkeikan Black & Gold Sake  750mL       8   12.99           1  \n",
      "1             Canadian Club 1858 VAP  750mL       7   10.99           2  \n",
      "2           Herradura Silver Tequila  750mL       6   36.99           3  \n",
      "3         Herradura Reposado Tequila  750mL       3   38.99           4  \n",
      "4               No. 3 London Dry Gin  750mL       6   34.99           5  \n",
      "...                              ...    ...     ...     ...         ...  \n",
      "206524  Rodney Strong Cab Svgn Alexa  750mL      13   22.99      206525  \n",
      "206525           Juan Gil Jumilla Rd  750mL      13   13.99      206526  \n",
      "206526    Napa Cellars Cab Svgn Napa  750mL      19   23.99      206527  \n",
      "206527  Ch Pichon Longville 12 Pauil  750mL      12  144.99      206528  \n",
      "206528    Ch Lynch Bages 12 Pauillac  750mL      24  119.99      206529  \n",
      "\n",
      "[206529 rows x 9 columns]         Brand  PONumber      PODate ReceivingDate  PurchasePrice  Quantity  \\\n",
      "0       24921      8287  2016-01-01    2016-01-06          10.40        12   \n",
      "1        4247      8288  2016-01-01    2016-01-06           7.99        12   \n",
      "2        7221      8288  2016-01-01    2016-01-07           6.86         2   \n",
      "3        7977      8288  2016-01-01    2016-01-08           7.49         6   \n",
      "4        4246      8288  2016-01-01    2016-01-04           4.22        24   \n",
      "...       ...       ...         ...           ...            ...       ...   \n",
      "829148   4796     10401  2016-05-26    2016-06-03          12.31         5   \n",
      "829149   4783     10401  2016-05-26    2016-05-30           8.88         5   \n",
      "829150    113     10401  2016-05-26    2016-05-30           4.84        12   \n",
      "829151   3684     10401  2016-05-26    2016-06-03           7.68         1   \n",
      "829152   3687     10401  2016-05-26    2016-06-03           3.84         8   \n",
      "\n",
      "        Dollars  Classification  IDPurchases  \n",
      "0        124.80               2            1  \n",
      "1         95.88               1            2  \n",
      "2         13.72               2            3  \n",
      "3         44.94               1            4  \n",
      "4        101.28               1            5  \n",
      "...         ...             ...          ...  \n",
      "829148    61.55               1       829149  \n",
      "829149    44.40               1       829150  \n",
      "829150    58.08               1       829151  \n",
      "829151     7.68               1       829152  \n",
      "829152    30.72               1       829153  \n",
      "\n",
      "[829153 rows x 9 columns]       VendorNumber InvoiceDate      PODate     PayDate  Freight  \\\n",
      "0              105  2016-01-04  2015-12-21  2016-02-16     3.47   \n",
      "1             4466  2016-01-07  2015-12-22  2016-02-21     8.57   \n",
      "2              388  2016-01-09  2015-12-24  2016-02-16     4.61   \n",
      "3              480  2016-01-12  2015-12-20  2016-02-05  2935.20   \n",
      "4              516  2016-01-07  2015-12-24  2016-02-12   429.20   \n",
      "...            ...         ...         ...         ...      ...   \n",
      "5538          9622  2017-01-06  2016-12-21  2017-02-10     8.60   \n",
      "5539          9625  2017-01-10  2016-12-23  2017-02-18   186.50   \n",
      "5540          3664  2017-01-02  2016-12-22  2017-02-04   932.95   \n",
      "5541          9815  2017-01-03  2016-12-20  2017-02-08   819.54   \n",
      "5542         90058  2017-01-05  2016-12-18  2017-02-12    16.60   \n",
      "\n",
      "      IDInvoicePurchases  IDPurchases  \n",
      "0                      1            1  \n",
      "1                      2            2  \n",
      "2                      3            3  \n",
      "3                      4            4  \n",
      "4                      5            5  \n",
      "...                  ...          ...  \n",
      "5538                5539         5539  \n",
      "5539                5540         5540  \n",
      "5540                5541         5541  \n",
      "5541                5542         5542  \n",
      "5542                5543         5543  \n",
      "\n",
      "[5543 rows x 7 columns]       VendorNumber                   VendorName\n",
      "0              105  ALTAMAR BRANDS LLC         \n",
      "1             4466  AMERICAN VINTAGE BEVERAGE  \n",
      "2              388  ATLANTIC IMPORTING COMPANY \n",
      "3              480  BACARDI USA INC            \n",
      "4              516  BANFI PRODUCTS CORP        \n",
      "...            ...                          ...\n",
      "5538          9622  WEIN BAUER INC             \n",
      "5539          9625  WESTERN SPIRITS BEVERAGE CO\n",
      "5540          3664  WILLIAM GRANT & SONS INC   \n",
      "5541          9815  WINE GROUP INC             \n",
      "5542         90058  ZORVINO VINEYARDS          \n",
      "\n",
      "[5543 rows x 2 columns]\n"
     ]
    }
   ],
   "source": [
    "# Imprimimos los dataframe para ver que se hayan realizado los cambios \n",
    "print (SalesDetail,Sales,Inventory,Purchases,InvoicePurchases,Suppliers)"
   ]
  },
  {
   "cell_type": "code",
   "execution_count": 149,
   "metadata": {},
   "outputs": [],
   "source": [
    "# Limpiar duplicados en cada DataFrame\n",
    "for i, df in enumerate(dataframes):\n",
    "    dataframes[i] = df.drop_duplicates()"
   ]
  },
  {
   "cell_type": "code",
   "execution_count": 150,
   "metadata": {},
   "outputs": [
    {
     "name": "stdout",
     "output_type": "stream",
     "text": [
      "                 Brand                 Description        Size  SalesQuantity  \\\n",
      "0  1_HARDERSFIELD_1004  Jim Beam w/2 Rocks Glasses       750mL              1   \n",
      "1  1_HARDERSFIELD_1004  Jim Beam w/2 Rocks Glasses       750mL              2   \n",
      "2  1_HARDERSFIELD_1004  Jim Beam w/2 Rocks Glasses       750mL              1   \n",
      "3  1_HARDERSFIELD_1004  Jim Beam w/2 Rocks Glasses       750mL              1   \n",
      "4  1_HARDERSFIELD_1005     Maker's Mark Combo Pack  375mL 2 Pk              2   \n",
      "\n",
      "   SalesDollars  SalesPrice  DetailSalesID  IDSales  \n",
      "0         16.49       16.49              1        1  \n",
      "1         32.98       16.49              2        2  \n",
      "2         16.49       16.49              3        3  \n",
      "3         14.49       14.49              4        4  \n",
      "4         69.98       34.99              5        5  \n",
      "                 Brand  Store SalesDate  ExciseTax  IDSales\n",
      "0  1_HARDERSFIELD_1004      1  1/1/2016       0.79        1\n",
      "1  1_HARDERSFIELD_1004      1  1/2/2016       1.57        2\n",
      "2  1_HARDERSFIELD_1004      1  1/3/2016       0.79        3\n",
      "3  1_HARDERSFIELD_1004      1  1/8/2016       0.79        4\n",
      "4  1_HARDERSFIELD_1005      1  1/9/2016       0.79        5\n",
      "               Brand  Store          City  Brand                  Description  \\\n",
      "0  1_HARDERSFIELD_58      1  HARDERSFIELD     58  Gekkeikan Black & Gold Sake   \n",
      "1  1_HARDERSFIELD_60      1  HARDERSFIELD     60       Canadian Club 1858 VAP   \n",
      "2  1_HARDERSFIELD_62      1  HARDERSFIELD     62     Herradura Silver Tequila   \n",
      "3  1_HARDERSFIELD_63      1  HARDERSFIELD     63   Herradura Reposado Tequila   \n",
      "4  1_HARDERSFIELD_72      1  HARDERSFIELD     72         No. 3 London Dry Gin   \n",
      "\n",
      "    Size  onHand  Price  ProductoID  \n",
      "0  750mL       8  12.99           1  \n",
      "1  750mL       7  10.99           2  \n",
      "2  750mL       6  36.99           3  \n",
      "3  750mL       3  38.99           4  \n",
      "4  750mL       6  34.99           5  \n",
      "   Brand  PONumber      PODate ReceivingDate  PurchasePrice  Quantity  \\\n",
      "0  24921      8287  2016-01-01    2016-01-06          10.40        12   \n",
      "1   4247      8288  2016-01-01    2016-01-06           7.99        12   \n",
      "2   7221      8288  2016-01-01    2016-01-07           6.86         2   \n",
      "3   7977      8288  2016-01-01    2016-01-08           7.49         6   \n",
      "4   4246      8288  2016-01-01    2016-01-04           4.22        24   \n",
      "\n",
      "   Dollars  Classification  IDPurchases  \n",
      "0   124.80               2            1  \n",
      "1    95.88               1            2  \n",
      "2    13.72               2            3  \n",
      "3    44.94               1            4  \n",
      "4   101.28               1            5  \n",
      "   VendorNumber InvoiceDate      PODate     PayDate  Freight  \\\n",
      "0           105  2016-01-04  2015-12-21  2016-02-16     3.47   \n",
      "1          4466  2016-01-07  2015-12-22  2016-02-21     8.57   \n",
      "2           388  2016-01-09  2015-12-24  2016-02-16     4.61   \n",
      "3           480  2016-01-12  2015-12-20  2016-02-05  2935.20   \n",
      "4           516  2016-01-07  2015-12-24  2016-02-12   429.20   \n",
      "\n",
      "   IDInvoicePurchases  IDPurchases  \n",
      "0                   1            1  \n",
      "1                   2            2  \n",
      "2                   3            3  \n",
      "3                   4            4  \n",
      "4                   5            5  \n",
      "   VendorNumber                   VendorName\n",
      "0           105  ALTAMAR BRANDS LLC         \n",
      "1          4466  AMERICAN VINTAGE BEVERAGE  \n",
      "2           388  ATLANTIC IMPORTING COMPANY \n",
      "3           480  BACARDI USA INC            \n",
      "4           516  BANFI PRODUCTS CORP        \n"
     ]
    }
   ],
   "source": [
    "# Opcional: Mostrar los DataFrames actualizados para verificar\n",
    "for df in dataframes:\n",
    "    print(df.head())"
   ]
  },
  {
   "cell_type": "code",
   "execution_count": 151,
   "metadata": {},
   "outputs": [],
   "source": [
    "# Limpiar nulos en cada DataFrame\n",
    "for i, df in enumerate(dataframes):\n",
    "    dataframes[i] = df.dropna()"
   ]
  },
  {
   "cell_type": "code",
   "execution_count": 152,
   "metadata": {},
   "outputs": [],
   "source": [
    "#Guardamos el dataset final con las filtraciones requeridas y limpio\n",
    "\n",
    "Sales.to_csv('Sales.csv',index=False)\n",
    "Inventory.to_csv('Inventory.csv',index=False)\n",
    "SalesDetail.to_csv('SalesDetail.csv',index=False)\n",
    "Purchases.to_csv('Purchases.csv',index=False)\n",
    "InvoicePurchases.to_csv('InvoicePurchases.csv',index=False)\n",
    "Suppliers.to_csv('Suppliers.csv',index=False)"
   ]
  },
  {
   "cell_type": "markdown",
   "metadata": {},
   "source": [
    "### Conexión a la base de datos en SQL"
   ]
  },
  {
   "cell_type": "code",
   "execution_count": 203,
   "metadata": {},
   "outputs": [
    {
     "name": "stderr",
     "output_type": "stream",
     "text": [
      "<>:6: SyntaxWarning: invalid escape sequence '\\S'\n",
      "<>:6: SyntaxWarning: invalid escape sequence '\\S'\n",
      "C:\\Users\\win10\\AppData\\Local\\Temp\\ipykernel_1004\\625901387.py:6: SyntaxWarning: invalid escape sequence '\\S'\n",
      "  server = 'localhost\\SQLEXPRESS'\n"
     ]
    },
    {
     "name": "stdout",
     "output_type": "stream",
     "text": [
      "Primeras filas de la tabla SaleDetail:\n",
      "('1_HARDERSFIELD_1004', 'Jim Beam w/2 Rocks Glasses', '750mL', 1, 16.49, 16.49, 1, 1)\n",
      "('1_HARDERSFIELD_1004', 'Jim Beam w/2 Rocks Glasses', '750mL', 2, 32.98, 16.49, 2, 2)\n",
      "('1_HARDERSFIELD_1004', 'Jim Beam w/2 Rocks Glasses', '750mL', 1, 16.49, 16.49, 3, 3)\n",
      "('1_HARDERSFIELD_1004', 'Jim Beam w/2 Rocks Glasses', '750mL', 1, 14.49, 14.49, 4, 4)\n",
      "('1_HARDERSFIELD_1005', \"Maker's Mark Combo Pack\", '375mL 2 Pk', 2, 69.98, 34.99, 5, 5)\n",
      "Primeras filas de la tabla Sale:\n",
      "('1_HARDERSFIELD_1004', 1, '1/1/2016', 0.79, 1)\n",
      "('1_HARDERSFIELD_1004', 1, '1/2/2016', 1.57, 2)\n",
      "('1_HARDERSFIELD_1004', 1, '1/3/2016', 0.79, 3)\n",
      "('1_HARDERSFIELD_1004', 1, '1/8/2016', 0.79, 4)\n",
      "('1_HARDERSFIELD_1005', 1, '1/9/2016', 0.79, 5)\n",
      "Primeras filas de la tabla Inventory:\n",
      "('1_HARDERSFIELD_58', 1, 'HARDERSFIELD', 58, 'Gekkeikan Black & Gold Sake', '750mL', 8, 12.99, 1)\n",
      "('1_HARDERSFIELD_60', 1, 'HARDERSFIELD', 60, 'Canadian Club 1858 VAP', '750mL', 7, 10.99, 2)\n",
      "('1_HARDERSFIELD_62', 1, 'HARDERSFIELD', 62, 'Herradura Silver Tequila', '750mL', 6, 36.99, 3)\n",
      "('1_HARDERSFIELD_63', 1, 'HARDERSFIELD', 63, 'Herradura Reposado Tequila', '750mL', 3, 38.99, 4)\n",
      "('1_HARDERSFIELD_72', 1, 'HARDERSFIELD', 72, 'No. 3 London Dry Gin', '750mL', 6, 34.99, 5)\n",
      "Primeras filas de la tabla Purchases:\n",
      "(24921, 8287, '2016-01-01', '2016-01-06', 10.4, 12, 124.8, 2, 1)\n",
      "(4247, 8288, '2016-01-01', '2016-01-06', 7.99, 12, 95.88, 1, 2)\n",
      "(7221, 8288, '2016-01-01', '2016-01-07', 6.86, 2, 13.72, 2, 3)\n",
      "(7977, 8288, '2016-01-01', '2016-01-08', 7.49, 6, 44.94, 1, 4)\n",
      "(4246, 8288, '2016-01-01', '2016-01-04', 4.22, 24, 101.28, 1, 5)\n",
      "Primeras filas de la tabla InvoicePurchase:\n",
      "(105, '2016-01-04', '2015-12-21', '2016-02-16', 3.47, 1, 1)\n",
      "(4466, '2016-01-07', '2015-12-22', '2016-02-21', 8.57, 2, 2)\n",
      "(388, '2016-01-09', '2015-12-24', '2016-02-16', 4.61, 3, 3)\n",
      "(480, '2016-01-12', '2015-12-20', '2016-02-05', 2935.2, 4, 4)\n",
      "(516, '2016-01-07', '2015-12-24', '2016-02-12', 429.2, 5, 5)\n",
      "Primeras filas de la tabla Suppliers:\n",
      "(105, 'ALTAMAR BRANDS LLC         ')\n",
      "(4466, 'AMERICAN VINTAGE BEVERAGE  ')\n",
      "(388, 'ATLANTIC IMPORTING COMPANY ')\n",
      "(480, 'BACARDI USA INC            ')\n",
      "(516, 'BANFI PRODUCTS CORP        ')\n",
      "Primeras filas de la tabla InventorySales:\n",
      "(1, None)\n",
      "(2, None)\n",
      "(3, None)\n",
      "(4, None)\n",
      "(5, None)\n"
     ]
    }
   ],
   "source": [
    "import pandas as pd\n",
    "from sqlalchemy import create_engine, text\n",
    "import urllib\n",
    "\n",
    "# Configuración de SQL Server\n",
    "server = 'localhost\\SQLEXPRESS'\n",
    "database = 'DrinksBasket'\n",
    "username = 'MicaelaGrisapulli'  # Reemplaza con tu usuario SQL Server\n",
    "password = 'Milu3656'   # Reemplaza con tu contraseña SQL Server\n",
    "\n",
    "\n",
    "# Función para eliminar las restricciones de clave externa\n",
    "def drop_foreign_keys(table_name):\n",
    "    with engine.connect() as conn:\n",
    "        fk_query = text(f\"\"\"\n",
    "        SELECT constraint_name\n",
    "        FROM information_schema.table_constraints\n",
    "        WHERE table_name = '{table_name}' AND constraint_type = 'FOREIGN KEY'\n",
    "        \"\"\")\n",
    "        fks = conn.execute(fk_query).fetchall()\n",
    "        for fk in fks:\n",
    "            drop_fk_query = text(f\"ALTER TABLE {table_name} DROP CONSTRAINT {fk[0]}\")\n",
    "            conn.execute(drop_fk_query)\n",
    "\n",
    "# Eliminar restricciones de clave externa antes de reemplazar tablas\n",
    "for table_name in table_names:\n",
    "    drop_foreign_keys(table_name)\n",
    "\n",
    "# Cargar cada archivo CSV en su respectiva tabla en SQL Server\n",
    "for csv_file, table_name in zip(csv_files, table_names):\n",
    "    df = pd.read_csv(csv_file)\n",
    "    df.to_sql(name=table_name, con=engine, if_exists='replace', index=False)\n",
    "# Crear la cadena de conexión\n",
    "connection_string = f\"DRIVER={{ODBC Driver 17 for SQL Server}};SERVER={server};DATABASE={database};UID={username};PWD={password}\"\n",
    "params = urllib.parse.quote_plus(connection_string)\n",
    "\n",
    "# Crear el motor de conexión SQLAlchemy\n",
    "engine = create_engine(f\"mssql+pyodbc:///?odbc_connect={params}\")\n",
    "\n",
    "# Archivos CSV y nombres de tablas\n",
    "csv_files = [\n",
    "    'SalesDetail.csv', 'Sales.csv', 'Inventory.csv',\n",
    "    'Purchases.csv', 'InvoicePurchases.csv', 'Suppliers.csv', 'InventorySales.csv'\n",
    "]\n",
    "table_names = [\n",
    "    'SaleDetail', 'Sale', 'Inventory',\n",
    "    'Purchases', 'InvoicePurchase', 'Suppliers', 'InventorySales'\n",
    "]\n"
   ]
  }
 ],
 "metadata": {
  "kernelspec": {
   "display_name": "Python 3",
   "language": "python",
   "name": "python3"
  },
  "language_info": {
   "codemirror_mode": {
    "name": "ipython",
    "version": 3
   },
   "file_extension": ".py",
   "mimetype": "text/x-python",
   "name": "python",
   "nbconvert_exporter": "python",
   "pygments_lexer": "ipython3",
   "version": "3.12.3"
  }
 },
 "nbformat": 4,
 "nbformat_minor": 2
}
