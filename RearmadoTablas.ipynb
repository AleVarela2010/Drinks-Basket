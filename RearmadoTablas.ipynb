{
 "cells": [
  {
   "cell_type": "markdown",
   "metadata": {},
   "source": [
    "### Se modifican las tablas para optimisar espacio y legibilidad de los datos"
   ]
  },
  {
   "cell_type": "code",
   "execution_count": 9,
   "metadata": {},
   "outputs": [],
   "source": [
    "#se importan las librerias a utilizar\n",
    "import pandas as pd\n",
    "import numpy as np"
   ]
  },
  {
   "cell_type": "code",
   "execution_count": 10,
   "metadata": {},
   "outputs": [],
   "source": [
    "#Se importan las tablas a modificar:\n",
    "\n",
    "SalesDetail = pd.read_csv (\"SalesFINAL12312016.csv\", sep=\",\")\n",
    "Sales = pd.read_csv (\"SalesFINAL12312016.csv\", sep=\",\")\n",
    "Inventory = pd.read_csv (\"ComienzoInv2016.csv\", sep=\",\")\n",
    "Purchases = pd.read_csv (\"PurchasesFINAL12312016.csv\", sep= \",\")\n",
    "InvoicePurchases = pd.read_csv (\"InvoicePurchases12312016.csv\", sep=\",\")\n",
    "Suppliers = pd.read_csv (\"InvoicePurchases12312016.csv\", sep=\",\")\n",
    "\n"
   ]
  },
  {
   "cell_type": "markdown",
   "metadata": {},
   "source": [
    "### SalesDetails"
   ]
  },
  {
   "cell_type": "code",
   "execution_count": 11,
   "metadata": {},
   "outputs": [
    {
     "name": "stdout",
     "output_type": "stream",
     "text": [
      "                 InventoryId  Store  Brand                 Description  \\\n",
      "0        1_HARDERSFIELD_1004      1   1004  Jim Beam w/2 Rocks Glasses   \n",
      "1        1_HARDERSFIELD_1004      1   1004  Jim Beam w/2 Rocks Glasses   \n",
      "2        1_HARDERSFIELD_1004      1   1004  Jim Beam w/2 Rocks Glasses   \n",
      "3        1_HARDERSFIELD_1004      1   1004  Jim Beam w/2 Rocks Glasses   \n",
      "4        1_HARDERSFIELD_1005      1   1005     Maker's Mark Combo Pack   \n",
      "...                      ...    ...    ...                         ...   \n",
      "1048570  19_WINTERVALE_39384     19  39384    F Coppola Diamond Pnt Nr   \n",
      "1048571  19_WINTERVALE_39384     19  39384    F Coppola Diamond Pnt Nr   \n",
      "1048572  19_WINTERVALE_39384     19  39384    F Coppola Diamond Pnt Nr   \n",
      "1048573  19_WINTERVALE_39384     19  39384    F Coppola Diamond Pnt Nr   \n",
      "1048574  19_WINTERVALE_39384     19  39384    F Coppola Diamond Pnt Nr   \n",
      "\n",
      "               Size  SalesQuantity  SalesDollars  SalesPrice  SalesDate  \\\n",
      "0             750mL              1         16.49       16.49   1/1/2016   \n",
      "1             750mL              2         32.98       16.49   1/2/2016   \n",
      "2             750mL              1         16.49       16.49   1/3/2016   \n",
      "3             750mL              1         14.49       14.49   1/8/2016   \n",
      "4        375mL 2 Pk              2         69.98       34.99   1/9/2016   \n",
      "...             ...            ...           ...         ...        ...   \n",
      "1048570       750mL              4         51.80       12.95  2/12/2016   \n",
      "1048571       750mL              8        103.60       12.95  2/13/2016   \n",
      "1048572       750mL              1         12.95       12.95  2/19/2016   \n",
      "1048573       750mL              3         38.85       12.95  2/22/2016   \n",
      "1048574       750mL              2         25.90       12.95  2/24/2016   \n",
      "\n",
      "         Volume  Classification  ExciseTax  VendorNo  \\\n",
      "0           750               1       0.79     12546   \n",
      "1           750               1       1.57     12546   \n",
      "2           750               1       0.79     12546   \n",
      "3           750               1       0.79     12546   \n",
      "4           375               1       0.79     12546   \n",
      "...         ...             ...        ...       ...   \n",
      "1048570     750               2       0.45      2000   \n",
      "1048571     750               2       0.90      2000   \n",
      "1048572     750               2       0.11      2000   \n",
      "1048573     750               2       0.34      2000   \n",
      "1048574     750               2       0.22      2000   \n",
      "\n",
      "                          VendorName  \n",
      "0        JIM BEAM BRANDS COMPANY      \n",
      "1        JIM BEAM BRANDS COMPANY      \n",
      "2        JIM BEAM BRANDS COMPANY      \n",
      "3        JIM BEAM BRANDS COMPANY      \n",
      "4        JIM BEAM BRANDS COMPANY      \n",
      "...                              ...  \n",
      "1048570  SOUTHERN WINE & SPIRITS NE   \n",
      "1048571  SOUTHERN WINE & SPIRITS NE   \n",
      "1048572  SOUTHERN WINE & SPIRITS NE   \n",
      "1048573  SOUTHERN WINE & SPIRITS NE   \n",
      "1048574  SOUTHERN WINE & SPIRITS NE   \n",
      "\n",
      "[1048575 rows x 14 columns]\n"
     ]
    }
   ],
   "source": [
    "#Se ven las columnas para analisar cuales quedan segun el diagrama entidad relacion hecho.\n",
    "print (SalesDetail)"
   ]
  },
  {
   "cell_type": "code",
   "execution_count": 12,
   "metadata": {},
   "outputs": [],
   "source": [
    "#Se pasan a eliminar las columnas que no son necesarias en esta tabla\n",
    "# Especificar las columnas que quieres eliminar\n",
    "columns_to_drop = ['InventoryId', 'Store', 'Brand', 'Description',  'SalesDate', 'Volume', 'Classification', 'ExciseTax', 'VendorName','VendorNo']\n",
    "\n",
    "# Verificar si las columnas a eliminar existen en el DataFrame\n",
    "existing_columns_to_drop = [col for col in columns_to_drop if col in SalesDetail.columns]\n",
    "\n",
    "# Imprimir advertencia para las columnas no encontradas\n",
    "for col in columns_to_drop:\n",
    "    if col not in SalesDetail.columns:\n",
    "        print(f\"Advertencia: La columna '{col}' no existe en el DataFrame y no se puede eliminar.\")\n",
    "\n",
    "# Eliminar las columnas especificadas que existen\n",
    "SalesDetail.drop(columns=existing_columns_to_drop, axis=1, inplace=True)\n"
   ]
  },
  {
   "cell_type": "code",
   "execution_count": 13,
   "metadata": {},
   "outputs": [
    {
     "name": "stdout",
     "output_type": "stream",
     "text": [
      "               Size  SalesQuantity  SalesDollars  SalesPrice\n",
      "0             750mL              1         16.49       16.49\n",
      "1             750mL              2         32.98       16.49\n",
      "2             750mL              1         16.49       16.49\n",
      "3             750mL              1         14.49       14.49\n",
      "4        375mL 2 Pk              2         69.98       34.99\n",
      "...             ...            ...           ...         ...\n",
      "1048570       750mL              4         51.80       12.95\n",
      "1048571       750mL              8        103.60       12.95\n",
      "1048572       750mL              1         12.95       12.95\n",
      "1048573       750mL              3         38.85       12.95\n",
      "1048574       750mL              2         25.90       12.95\n",
      "\n",
      "[1048575 rows x 4 columns]\n"
     ]
    }
   ],
   "source": [
    "#Se ven las columnas para analisar cuales quedan segun el diagrama entidad relacion hecho.\n",
    "print (SalesDetail)"
   ]
  },
  {
   "cell_type": "code",
   "execution_count": 14,
   "metadata": {},
   "outputs": [],
   "source": [
    "#Se crea la columna indice con el nombre correspondiente\n",
    "SalesDetail['DetailSalesID'] = range(1, len(SalesDetail) + 1)\n",
    "SalesDetail['IDSales'] = range(1, len(SalesDetail) + 1)"
   ]
  },
  {
   "cell_type": "code",
   "execution_count": 15,
   "metadata": {},
   "outputs": [
    {
     "name": "stdout",
     "output_type": "stream",
     "text": [
      "               Size  SalesQuantity  SalesDollars  SalesPrice  DetailSalesID  \\\n",
      "0             750mL              1         16.49       16.49              1   \n",
      "1             750mL              2         32.98       16.49              2   \n",
      "2             750mL              1         16.49       16.49              3   \n",
      "3             750mL              1         14.49       14.49              4   \n",
      "4        375mL 2 Pk              2         69.98       34.99              5   \n",
      "...             ...            ...           ...         ...            ...   \n",
      "1048570       750mL              4         51.80       12.95        1048571   \n",
      "1048571       750mL              8        103.60       12.95        1048572   \n",
      "1048572       750mL              1         12.95       12.95        1048573   \n",
      "1048573       750mL              3         38.85       12.95        1048574   \n",
      "1048574       750mL              2         25.90       12.95        1048575   \n",
      "\n",
      "         IDSales  \n",
      "0              1  \n",
      "1              2  \n",
      "2              3  \n",
      "3              4  \n",
      "4              5  \n",
      "...          ...  \n",
      "1048570  1048571  \n",
      "1048571  1048572  \n",
      "1048572  1048573  \n",
      "1048573  1048574  \n",
      "1048574  1048575  \n",
      "\n",
      "[1048575 rows x 6 columns]\n"
     ]
    }
   ],
   "source": [
    "print (SalesDetail)"
   ]
  },
  {
   "cell_type": "markdown",
   "metadata": {},
   "source": [
    "### Sales"
   ]
  },
  {
   "cell_type": "code",
   "execution_count": 16,
   "metadata": {},
   "outputs": [
    {
     "name": "stdout",
     "output_type": "stream",
     "text": [
      "                 InventoryId  Store  Brand                 Description  \\\n",
      "0        1_HARDERSFIELD_1004      1   1004  Jim Beam w/2 Rocks Glasses   \n",
      "1        1_HARDERSFIELD_1004      1   1004  Jim Beam w/2 Rocks Glasses   \n",
      "2        1_HARDERSFIELD_1004      1   1004  Jim Beam w/2 Rocks Glasses   \n",
      "3        1_HARDERSFIELD_1004      1   1004  Jim Beam w/2 Rocks Glasses   \n",
      "4        1_HARDERSFIELD_1005      1   1005     Maker's Mark Combo Pack   \n",
      "...                      ...    ...    ...                         ...   \n",
      "1048570  19_WINTERVALE_39384     19  39384    F Coppola Diamond Pnt Nr   \n",
      "1048571  19_WINTERVALE_39384     19  39384    F Coppola Diamond Pnt Nr   \n",
      "1048572  19_WINTERVALE_39384     19  39384    F Coppola Diamond Pnt Nr   \n",
      "1048573  19_WINTERVALE_39384     19  39384    F Coppola Diamond Pnt Nr   \n",
      "1048574  19_WINTERVALE_39384     19  39384    F Coppola Diamond Pnt Nr   \n",
      "\n",
      "               Size  SalesQuantity  SalesDollars  SalesPrice  SalesDate  \\\n",
      "0             750mL              1         16.49       16.49   1/1/2016   \n",
      "1             750mL              2         32.98       16.49   1/2/2016   \n",
      "2             750mL              1         16.49       16.49   1/3/2016   \n",
      "3             750mL              1         14.49       14.49   1/8/2016   \n",
      "4        375mL 2 Pk              2         69.98       34.99   1/9/2016   \n",
      "...             ...            ...           ...         ...        ...   \n",
      "1048570       750mL              4         51.80       12.95  2/12/2016   \n",
      "1048571       750mL              8        103.60       12.95  2/13/2016   \n",
      "1048572       750mL              1         12.95       12.95  2/19/2016   \n",
      "1048573       750mL              3         38.85       12.95  2/22/2016   \n",
      "1048574       750mL              2         25.90       12.95  2/24/2016   \n",
      "\n",
      "         Volume  Classification  ExciseTax  VendorNo  \\\n",
      "0           750               1       0.79     12546   \n",
      "1           750               1       1.57     12546   \n",
      "2           750               1       0.79     12546   \n",
      "3           750               1       0.79     12546   \n",
      "4           375               1       0.79     12546   \n",
      "...         ...             ...        ...       ...   \n",
      "1048570     750               2       0.45      2000   \n",
      "1048571     750               2       0.90      2000   \n",
      "1048572     750               2       0.11      2000   \n",
      "1048573     750               2       0.34      2000   \n",
      "1048574     750               2       0.22      2000   \n",
      "\n",
      "                          VendorName  \n",
      "0        JIM BEAM BRANDS COMPANY      \n",
      "1        JIM BEAM BRANDS COMPANY      \n",
      "2        JIM BEAM BRANDS COMPANY      \n",
      "3        JIM BEAM BRANDS COMPANY      \n",
      "4        JIM BEAM BRANDS COMPANY      \n",
      "...                              ...  \n",
      "1048570  SOUTHERN WINE & SPIRITS NE   \n",
      "1048571  SOUTHERN WINE & SPIRITS NE   \n",
      "1048572  SOUTHERN WINE & SPIRITS NE   \n",
      "1048573  SOUTHERN WINE & SPIRITS NE   \n",
      "1048574  SOUTHERN WINE & SPIRITS NE   \n",
      "\n",
      "[1048575 rows x 14 columns]\n"
     ]
    }
   ],
   "source": [
    "print (Sales)"
   ]
  },
  {
   "cell_type": "code",
   "execution_count": 17,
   "metadata": {},
   "outputs": [],
   "source": [
    "#Se pasan a eliminar las columnas que no son necesarias en esta tabla\n",
    "# Especificar las columnas que quieres eliminar\n",
    "columns_to_drop = ['InventoryId', 'Brand', 'Description', 'Size', 'SalesQuantity', 'SalesDollars', 'SalesPrice', 'Volume', 'Classification', 'VendorName','VendorNo']\n",
    "\n",
    "# Verificar si las columnas a eliminar existen en el DataFrame\n",
    "existing_columns_to_drop = [col for col in columns_to_drop if col in Sales.columns]\n",
    "\n",
    "# Imprimir advertencia para las columnas no encontradas\n",
    "for col in columns_to_drop:\n",
    "    if col not in Sales.columns:\n",
    "        print(f\"Advertencia: La columna '{col}' no existe en el DataFrame y no se puede eliminar.\")\n",
    "\n",
    "# Eliminar las columnas especificadas que existen\n",
    "Sales.drop(columns=existing_columns_to_drop, axis=1, inplace=True)"
   ]
  },
  {
   "cell_type": "code",
   "execution_count": 18,
   "metadata": {},
   "outputs": [
    {
     "name": "stdout",
     "output_type": "stream",
     "text": [
      "         Store  SalesDate  ExciseTax\n",
      "0            1   1/1/2016       0.79\n",
      "1            1   1/2/2016       1.57\n",
      "2            1   1/3/2016       0.79\n",
      "3            1   1/8/2016       0.79\n",
      "4            1   1/9/2016       0.79\n",
      "...        ...        ...        ...\n",
      "1048570     19  2/12/2016       0.45\n",
      "1048571     19  2/13/2016       0.90\n",
      "1048572     19  2/19/2016       0.11\n",
      "1048573     19  2/22/2016       0.34\n",
      "1048574     19  2/24/2016       0.22\n",
      "\n",
      "[1048575 rows x 3 columns]\n"
     ]
    }
   ],
   "source": [
    "print (Sales)"
   ]
  },
  {
   "cell_type": "code",
   "execution_count": 19,
   "metadata": {},
   "outputs": [],
   "source": [
    "#Se crea la columna indice con el nombre correspondiente\n",
    "Sales['IDSales'] = range(1, len(Sales) + 1)"
   ]
  },
  {
   "cell_type": "code",
   "execution_count": 20,
   "metadata": {},
   "outputs": [
    {
     "name": "stdout",
     "output_type": "stream",
     "text": [
      "         Store  SalesDate  ExciseTax  IDSales\n",
      "0            1   1/1/2016       0.79        1\n",
      "1            1   1/2/2016       1.57        2\n",
      "2            1   1/3/2016       0.79        3\n",
      "3            1   1/8/2016       0.79        4\n",
      "4            1   1/9/2016       0.79        5\n",
      "...        ...        ...        ...      ...\n",
      "1048570     19  2/12/2016       0.45  1048571\n",
      "1048571     19  2/13/2016       0.90  1048572\n",
      "1048572     19  2/19/2016       0.11  1048573\n",
      "1048573     19  2/22/2016       0.34  1048574\n",
      "1048574     19  2/24/2016       0.22  1048575\n",
      "\n",
      "[1048575 rows x 4 columns]\n"
     ]
    }
   ],
   "source": [
    "print (Sales)"
   ]
  },
  {
   "cell_type": "markdown",
   "metadata": {},
   "source": [
    "### Inventory"
   ]
  },
  {
   "cell_type": "code",
   "execution_count": 21,
   "metadata": {},
   "outputs": [
    {
     "name": "stdout",
     "output_type": "stream",
     "text": [
      "                    Brand1  Store          City  InventoryId1  \\\n",
      "0        1_HARDERSFIELD_58      1  HARDERSFIELD            58   \n",
      "1        1_HARDERSFIELD_60      1  HARDERSFIELD            60   \n",
      "2        1_HARDERSFIELD_62      1  HARDERSFIELD            62   \n",
      "3        1_HARDERSFIELD_63      1  HARDERSFIELD            63   \n",
      "4        1_HARDERSFIELD_72      1  HARDERSFIELD            72   \n",
      "...                    ...    ...           ...           ...   \n",
      "206524  79_BALLYMENA_46985     79     BALLYMENA         46985   \n",
      "206525  79_BALLYMENA_47014     79     BALLYMENA         47014   \n",
      "206526  79_BALLYMENA_47090     79     BALLYMENA         47090   \n",
      "206527  79_BALLYMENA_90011     79     BALLYMENA         90011   \n",
      "206528  79_BALLYMENA_90089     79     BALLYMENA         90089   \n",
      "\n",
      "                         Description   Size  onHand   Price   startDate  \n",
      "0        Gekkeikan Black & Gold Sake  750mL       8   12.99  2016-01-01  \n",
      "1             Canadian Club 1858 VAP  750mL       7   10.99  2016-01-01  \n",
      "2           Herradura Silver Tequila  750mL       6   36.99  2016-01-01  \n",
      "3         Herradura Reposado Tequila  750mL       3   38.99  2016-01-01  \n",
      "4               No. 3 London Dry Gin  750mL       6   34.99  2016-01-01  \n",
      "...                              ...    ...     ...     ...         ...  \n",
      "206524  Rodney Strong Cab Svgn Alexa  750mL      13   22.99  2016-01-01  \n",
      "206525           Juan Gil Jumilla Rd  750mL      13   13.99  2016-01-01  \n",
      "206526    Napa Cellars Cab Svgn Napa  750mL      19   23.99  2016-01-01  \n",
      "206527  Ch Pichon Longville 12 Pauil  750mL      12  144.99  2016-01-01  \n",
      "206528    Ch Lynch Bages 12 Pauillac  750mL      24  119.99  2016-01-01  \n",
      "\n",
      "[206529 rows x 9 columns]\n"
     ]
    }
   ],
   "source": [
    "#Se ven las columnas para analisar cuales quedan segun el diagrama entidad relacion hecho.\n",
    "print (Inventory)"
   ]
  },
  {
   "cell_type": "code",
   "execution_count": 22,
   "metadata": {},
   "outputs": [
    {
     "name": "stdout",
     "output_type": "stream",
     "text": [
      "Advertencia: La columna 'Brand' no existe en el DataFrame y no se puede eliminar.\n"
     ]
    }
   ],
   "source": [
    "#Se pasan a eliminar las columnas que no son necesarias en esta tabla\n",
    "# Especificar las columnas que quieres eliminar\n",
    "columns_to_drop = ['Brand']\n",
    "\n",
    "# Verificar si las columnas a eliminar existen en el DataFrame\n",
    "existing_columns_to_drop = [col for col in columns_to_drop if col in Inventory.columns]\n",
    "\n",
    "# Imprimir advertencia para las columnas no encontradas\n",
    "for col in columns_to_drop:\n",
    "    if col not in Inventory.columns:\n",
    "        print(f\"Advertencia: La columna '{col}' no existe en el DataFrame y no se puede eliminar.\")\n",
    "\n",
    "# Eliminar las columnas especificadas que existen\n",
    "Inventory.drop(columns=existing_columns_to_drop, axis=1, inplace=True)"
   ]
  },
  {
   "cell_type": "code",
   "execution_count": 23,
   "metadata": {},
   "outputs": [
    {
     "name": "stdout",
     "output_type": "stream",
     "text": [
      "                    Brand1  Store          City  InventoryId1  \\\n",
      "0        1_HARDERSFIELD_58      1  HARDERSFIELD            58   \n",
      "1        1_HARDERSFIELD_60      1  HARDERSFIELD            60   \n",
      "2        1_HARDERSFIELD_62      1  HARDERSFIELD            62   \n",
      "3        1_HARDERSFIELD_63      1  HARDERSFIELD            63   \n",
      "4        1_HARDERSFIELD_72      1  HARDERSFIELD            72   \n",
      "...                    ...    ...           ...           ...   \n",
      "206524  79_BALLYMENA_46985     79     BALLYMENA         46985   \n",
      "206525  79_BALLYMENA_47014     79     BALLYMENA         47014   \n",
      "206526  79_BALLYMENA_47090     79     BALLYMENA         47090   \n",
      "206527  79_BALLYMENA_90011     79     BALLYMENA         90011   \n",
      "206528  79_BALLYMENA_90089     79     BALLYMENA         90089   \n",
      "\n",
      "                         Description   Size  onHand   Price   startDate  \n",
      "0        Gekkeikan Black & Gold Sake  750mL       8   12.99  2016-01-01  \n",
      "1             Canadian Club 1858 VAP  750mL       7   10.99  2016-01-01  \n",
      "2           Herradura Silver Tequila  750mL       6   36.99  2016-01-01  \n",
      "3         Herradura Reposado Tequila  750mL       3   38.99  2016-01-01  \n",
      "4               No. 3 London Dry Gin  750mL       6   34.99  2016-01-01  \n",
      "...                              ...    ...     ...     ...         ...  \n",
      "206524  Rodney Strong Cab Svgn Alexa  750mL      13   22.99  2016-01-01  \n",
      "206525           Juan Gil Jumilla Rd  750mL      13   13.99  2016-01-01  \n",
      "206526    Napa Cellars Cab Svgn Napa  750mL      19   23.99  2016-01-01  \n",
      "206527  Ch Pichon Longville 12 Pauil  750mL      12  144.99  2016-01-01  \n",
      "206528    Ch Lynch Bages 12 Pauillac  750mL      24  119.99  2016-01-01  \n",
      "\n",
      "[206529 rows x 9 columns]\n"
     ]
    }
   ],
   "source": [
    "print (Inventory)"
   ]
  },
  {
   "cell_type": "markdown",
   "metadata": {},
   "source": [
    "### Purchases"
   ]
  },
  {
   "cell_type": "code",
   "execution_count": 24,
   "metadata": {},
   "outputs": [
    {
     "name": "stdout",
     "output_type": "stream",
     "text": [
      "                    Brand1  Store  InventoryId1                  Description  \\\n",
      "0       55_DRY GULCH_24921     55         24921           Appolo Vyds Seyval   \n",
      "1          10_HORNSEY_4247     10          4247            Bacardi Limon Rum   \n",
      "2        34_PITMERDEN_7221     34          7221         M & R Sweet Vermouth   \n",
      "3        32_MOUNTMEND_7977     32          7977         M & R X Dry Vermouth   \n",
      "4       66_EANVERNESS_4246     66          4246         Bacardi Superior Rum   \n",
      "...                    ...    ...           ...                          ...   \n",
      "829148   73_DONCASTER_4796     73          4796         Caravella Limoncello   \n",
      "829149  62_KILMARNOCK_4783     62          4783     Mr Boston Apricot Brandy   \n",
      "829150     15_WANBORNE_113     15           113  Mr Boston Cr de Cacao Brown   \n",
      "829151     60_IRRAGIN_3684     60          3684     Fleischmanns Royal Vodka   \n",
      "829152   34_PITMERDEN_3687     34          3687  Fleischmanns Royal Traveler   \n",
      "\n",
      "         Size  VendorNumber                   VendorName  PONumber  \\\n",
      "0       750mL           287  APPOLO VINEYARDS LLC             8287   \n",
      "1       750mL           480  BACARDI USA INC                  8288   \n",
      "2        1.5L           480  BACARDI USA INC                  8288   \n",
      "3        1.5L           480  BACARDI USA INC                  8288   \n",
      "4       375mL           480  BACARDI USA INC                  8288   \n",
      "...       ...           ...                          ...       ...   \n",
      "829148  750mL           660  SAZERAC NORTH AMERICA INC.      10401   \n",
      "829149  1.75L           660  SAZERAC NORTH AMERICA INC.      10401   \n",
      "829150  Liter           660  SAZERAC NORTH AMERICA INC.      10401   \n",
      "829151  1.75L           660  SAZERAC NORTH AMERICA INC.      10401   \n",
      "829152  750mL           660  SAZERAC NORTH AMERICA INC.      10401   \n",
      "\n",
      "            PODate ReceivingDate InvoiceDate     PayDate  PurchasePrice  \\\n",
      "0       2016-01-01    2016-01-06  2016-01-13  2016-02-18          10.40   \n",
      "1       2016-01-01    2016-01-06  2016-01-19  2016-02-18           7.99   \n",
      "2       2016-01-01    2016-01-07  2016-01-19  2016-02-18           6.86   \n",
      "3       2016-01-01    2016-01-08  2016-01-19  2016-02-18           7.49   \n",
      "4       2016-01-01    2016-01-04  2016-01-19  2016-02-18           4.22   \n",
      "...            ...           ...         ...         ...            ...   \n",
      "829148  2016-05-26    2016-06-03  2016-06-13  2016-07-10          12.31   \n",
      "829149  2016-05-26    2016-05-30  2016-06-13  2016-07-10           8.88   \n",
      "829150  2016-05-26    2016-05-30  2016-06-13  2016-07-10           4.84   \n",
      "829151  2016-05-26    2016-06-03  2016-06-13  2016-07-10           7.68   \n",
      "829152  2016-05-26    2016-06-03  2016-06-13  2016-07-10           3.84   \n",
      "\n",
      "        Quantity  Dollars  Classification  \n",
      "0             12   124.80               2  \n",
      "1             12    95.88               1  \n",
      "2              2    13.72               2  \n",
      "3              6    44.94               1  \n",
      "4             24   101.28               1  \n",
      "...          ...      ...             ...  \n",
      "829148         5    61.55               1  \n",
      "829149         5    44.40               1  \n",
      "829150        12    58.08               1  \n",
      "829151         1     7.68               1  \n",
      "829152         8    30.72               1  \n",
      "\n",
      "[829153 rows x 16 columns]\n"
     ]
    }
   ],
   "source": [
    "#Se ven las columnas para analisar cuales quedan segun el diagrama entidad relacion hecho.\n",
    "print (Purchases)"
   ]
  },
  {
   "cell_type": "code",
   "execution_count": 25,
   "metadata": {},
   "outputs": [],
   "source": [
    "#Se pasan a eliminar las columnas que no son necesarias en esta tabla\n",
    "# Especificar las columnas que quieres eliminar\n",
    "columns_to_drop = ['Store', 'InventoryId1', 'Description', 'Size', 'VendorNumber', 'VendorName', 'InvoiceDate', 'PayDate']\n",
    "\n",
    "# Verificar si las columnas a eliminar existen en el DataFrame\n",
    "existing_columns_to_drop = [col for col in columns_to_drop if col in Purchases.columns]\n",
    "\n",
    "# Imprimir advertencia para las columnas no encontradas\n",
    "for col in columns_to_drop:\n",
    "    if col not in Purchases.columns:\n",
    "        print(f\"Advertencia: La columna '{col}' no existe en el DataFrame y no se puede eliminar.\")\n",
    "\n",
    "# Eliminar las columnas especificadas que existen\n",
    "Purchases.drop(columns=existing_columns_to_drop, axis=1, inplace=True)"
   ]
  },
  {
   "cell_type": "code",
   "execution_count": 26,
   "metadata": {},
   "outputs": [
    {
     "name": "stdout",
     "output_type": "stream",
     "text": [
      "                    Brand1  PONumber      PODate ReceivingDate  PurchasePrice  \\\n",
      "0       55_DRY GULCH_24921      8287  2016-01-01    2016-01-06          10.40   \n",
      "1          10_HORNSEY_4247      8288  2016-01-01    2016-01-06           7.99   \n",
      "2        34_PITMERDEN_7221      8288  2016-01-01    2016-01-07           6.86   \n",
      "3        32_MOUNTMEND_7977      8288  2016-01-01    2016-01-08           7.49   \n",
      "4       66_EANVERNESS_4246      8288  2016-01-01    2016-01-04           4.22   \n",
      "...                    ...       ...         ...           ...            ...   \n",
      "829148   73_DONCASTER_4796     10401  2016-05-26    2016-06-03          12.31   \n",
      "829149  62_KILMARNOCK_4783     10401  2016-05-26    2016-05-30           8.88   \n",
      "829150     15_WANBORNE_113     10401  2016-05-26    2016-05-30           4.84   \n",
      "829151     60_IRRAGIN_3684     10401  2016-05-26    2016-06-03           7.68   \n",
      "829152   34_PITMERDEN_3687     10401  2016-05-26    2016-06-03           3.84   \n",
      "\n",
      "        Quantity  Dollars  Classification  \n",
      "0             12   124.80               2  \n",
      "1             12    95.88               1  \n",
      "2              2    13.72               2  \n",
      "3              6    44.94               1  \n",
      "4             24   101.28               1  \n",
      "...          ...      ...             ...  \n",
      "829148         5    61.55               1  \n",
      "829149         5    44.40               1  \n",
      "829150        12    58.08               1  \n",
      "829151         1     7.68               1  \n",
      "829152         8    30.72               1  \n",
      "\n",
      "[829153 rows x 8 columns]\n"
     ]
    }
   ],
   "source": [
    "print (Purchases)"
   ]
  },
  {
   "cell_type": "code",
   "execution_count": 27,
   "metadata": {},
   "outputs": [],
   "source": [
    "#Se crea la columna indice con el nombre correspondiente\n",
    "Purchases['IDPurchases'] = range(1, len(Purchases) + 1)"
   ]
  },
  {
   "cell_type": "code",
   "execution_count": 28,
   "metadata": {},
   "outputs": [
    {
     "name": "stdout",
     "output_type": "stream",
     "text": [
      "                    Brand1  PONumber      PODate ReceivingDate  PurchasePrice  \\\n",
      "0       55_DRY GULCH_24921      8287  2016-01-01    2016-01-06          10.40   \n",
      "1          10_HORNSEY_4247      8288  2016-01-01    2016-01-06           7.99   \n",
      "2        34_PITMERDEN_7221      8288  2016-01-01    2016-01-07           6.86   \n",
      "3        32_MOUNTMEND_7977      8288  2016-01-01    2016-01-08           7.49   \n",
      "4       66_EANVERNESS_4246      8288  2016-01-01    2016-01-04           4.22   \n",
      "...                    ...       ...         ...           ...            ...   \n",
      "829148   73_DONCASTER_4796     10401  2016-05-26    2016-06-03          12.31   \n",
      "829149  62_KILMARNOCK_4783     10401  2016-05-26    2016-05-30           8.88   \n",
      "829150     15_WANBORNE_113     10401  2016-05-26    2016-05-30           4.84   \n",
      "829151     60_IRRAGIN_3684     10401  2016-05-26    2016-06-03           7.68   \n",
      "829152   34_PITMERDEN_3687     10401  2016-05-26    2016-06-03           3.84   \n",
      "\n",
      "        Quantity  Dollars  Classification  IDPurchases  \n",
      "0             12   124.80               2            1  \n",
      "1             12    95.88               1            2  \n",
      "2              2    13.72               2            3  \n",
      "3              6    44.94               1            4  \n",
      "4             24   101.28               1            5  \n",
      "...          ...      ...             ...          ...  \n",
      "829148         5    61.55               1       829149  \n",
      "829149         5    44.40               1       829150  \n",
      "829150        12    58.08               1       829151  \n",
      "829151         1     7.68               1       829152  \n",
      "829152         8    30.72               1       829153  \n",
      "\n",
      "[829153 rows x 9 columns]\n"
     ]
    }
   ],
   "source": [
    "print (Purchases)"
   ]
  },
  {
   "cell_type": "markdown",
   "metadata": {},
   "source": [
    "### InvoicePurchases"
   ]
  },
  {
   "cell_type": "code",
   "execution_count": 29,
   "metadata": {},
   "outputs": [
    {
     "name": "stdout",
     "output_type": "stream",
     "text": [
      "      VendorNumber                   VendorName InvoiceDate  PONumber  \\\n",
      "0              105  ALTAMAR BRANDS LLC           2016-01-04      8124   \n",
      "1             4466  AMERICAN VINTAGE BEVERAGE    2016-01-07      8137   \n",
      "2              388  ATLANTIC IMPORTING COMPANY   2016-01-09      8169   \n",
      "3              480  BACARDI USA INC              2016-01-12      8106   \n",
      "4              516  BANFI PRODUCTS CORP          2016-01-07      8170   \n",
      "...            ...                          ...         ...       ...   \n",
      "5538          9622  WEIN BAUER INC               2017-01-06     13626   \n",
      "5539          9625  WESTERN SPIRITS BEVERAGE CO  2017-01-10     13661   \n",
      "5540          3664  WILLIAM GRANT & SONS INC     2017-01-02     13643   \n",
      "5541          9815  WINE GROUP INC               2017-01-03     13602   \n",
      "5542         90058  ZORVINO VINEYARDS            2017-01-05     13574   \n",
      "\n",
      "          PODate     PayDate  Quantity    Dollars  Freight Approval  \n",
      "0     2015-12-21  2016-02-16         6     214.26     3.47      NaN  \n",
      "1     2015-12-22  2016-02-21        15     140.55     8.57      NaN  \n",
      "2     2015-12-24  2016-02-16         5     106.60     4.61      NaN  \n",
      "3     2015-12-20  2016-02-05     10100  137483.78  2935.20      NaN  \n",
      "4     2015-12-24  2016-02-12      1935   15527.25   429.20      NaN  \n",
      "...          ...         ...       ...        ...      ...      ...  \n",
      "5538  2016-12-21  2017-02-10        90    1563.00     8.60      NaN  \n",
      "5539  2016-12-23  2017-02-18      4617   37300.48   186.50      NaN  \n",
      "5540  2016-12-22  2017-02-04      9848  202815.78   932.95      NaN  \n",
      "5541  2016-12-20  2017-02-08     24747  149007.56   819.54      NaN  \n",
      "5542  2016-12-18  2017-02-12       437    3608.11    16.60      NaN  \n",
      "\n",
      "[5543 rows x 10 columns]\n"
     ]
    }
   ],
   "source": [
    "print (InvoicePurchases)"
   ]
  },
  {
   "cell_type": "code",
   "execution_count": 30,
   "metadata": {},
   "outputs": [],
   "source": [
    "#Se pasan a eliminar las columnas que no son necesarias en esta tabla\n",
    "# Especificar las columnas que quieres eliminar\n",
    "columns_to_drop = ['VendorName', 'PONumber', 'Quantity', 'Dollars']\n",
    "\n",
    "# Verificar si las columnas a eliminar existen en el DataFrame\n",
    "existing_columns_to_drop = [col for col in columns_to_drop if col in InvoicePurchases.columns]\n",
    "\n",
    "# Imprimir advertencia para las columnas no encontradas\n",
    "for col in columns_to_drop:\n",
    "    if col not in InvoicePurchases.columns:\n",
    "        print(f\"Advertencia: La columna '{col}' no existe en el DataFrame y no se puede eliminar.\")\n",
    "\n",
    "# Eliminar las columnas especificadas que existen\n",
    "InvoicePurchases.drop(columns=existing_columns_to_drop, axis=1, inplace=True)"
   ]
  },
  {
   "cell_type": "code",
   "execution_count": 31,
   "metadata": {},
   "outputs": [
    {
     "name": "stdout",
     "output_type": "stream",
     "text": [
      "      VendorNumber InvoiceDate      PODate     PayDate  Freight Approval\n",
      "0              105  2016-01-04  2015-12-21  2016-02-16     3.47      NaN\n",
      "1             4466  2016-01-07  2015-12-22  2016-02-21     8.57      NaN\n",
      "2              388  2016-01-09  2015-12-24  2016-02-16     4.61      NaN\n",
      "3              480  2016-01-12  2015-12-20  2016-02-05  2935.20      NaN\n",
      "4              516  2016-01-07  2015-12-24  2016-02-12   429.20      NaN\n",
      "...            ...         ...         ...         ...      ...      ...\n",
      "5538          9622  2017-01-06  2016-12-21  2017-02-10     8.60      NaN\n",
      "5539          9625  2017-01-10  2016-12-23  2017-02-18   186.50      NaN\n",
      "5540          3664  2017-01-02  2016-12-22  2017-02-04   932.95      NaN\n",
      "5541          9815  2017-01-03  2016-12-20  2017-02-08   819.54      NaN\n",
      "5542         90058  2017-01-05  2016-12-18  2017-02-12    16.60      NaN\n",
      "\n",
      "[5543 rows x 6 columns]\n"
     ]
    }
   ],
   "source": [
    "print (InvoicePurchases)"
   ]
  },
  {
   "cell_type": "code",
   "execution_count": 32,
   "metadata": {},
   "outputs": [],
   "source": [
    "#Se crea la columna indice con el nombre correspondiente\n",
    "InvoicePurchases['IDInvoicePurchases'] = range(1, len(InvoicePurchases) + 1)\n",
    "InvoicePurchases['IDPurchases'] = range(1, len(InvoicePurchases) + 1)"
   ]
  },
  {
   "cell_type": "code",
   "execution_count": 33,
   "metadata": {},
   "outputs": [
    {
     "name": "stdout",
     "output_type": "stream",
     "text": [
      "      VendorNumber InvoiceDate      PODate     PayDate  Freight Approval  \\\n",
      "0              105  2016-01-04  2015-12-21  2016-02-16     3.47      NaN   \n",
      "1             4466  2016-01-07  2015-12-22  2016-02-21     8.57      NaN   \n",
      "2              388  2016-01-09  2015-12-24  2016-02-16     4.61      NaN   \n",
      "3              480  2016-01-12  2015-12-20  2016-02-05  2935.20      NaN   \n",
      "4              516  2016-01-07  2015-12-24  2016-02-12   429.20      NaN   \n",
      "...            ...         ...         ...         ...      ...      ...   \n",
      "5538          9622  2017-01-06  2016-12-21  2017-02-10     8.60      NaN   \n",
      "5539          9625  2017-01-10  2016-12-23  2017-02-18   186.50      NaN   \n",
      "5540          3664  2017-01-02  2016-12-22  2017-02-04   932.95      NaN   \n",
      "5541          9815  2017-01-03  2016-12-20  2017-02-08   819.54      NaN   \n",
      "5542         90058  2017-01-05  2016-12-18  2017-02-12    16.60      NaN   \n",
      "\n",
      "      IDInvoicePurchases  IDPurchases  \n",
      "0                      1            1  \n",
      "1                      2            2  \n",
      "2                      3            3  \n",
      "3                      4            4  \n",
      "4                      5            5  \n",
      "...                  ...          ...  \n",
      "5538                5539         5539  \n",
      "5539                5540         5540  \n",
      "5540                5541         5541  \n",
      "5541                5542         5542  \n",
      "5542                5543         5543  \n",
      "\n",
      "[5543 rows x 8 columns]\n"
     ]
    }
   ],
   "source": [
    "print (InvoicePurchases)"
   ]
  },
  {
   "cell_type": "markdown",
   "metadata": {},
   "source": [
    "### Suppliers"
   ]
  },
  {
   "cell_type": "code",
   "execution_count": 34,
   "metadata": {},
   "outputs": [
    {
     "name": "stdout",
     "output_type": "stream",
     "text": [
      "      VendorNumber                   VendorName InvoiceDate  PONumber  \\\n",
      "0              105  ALTAMAR BRANDS LLC           2016-01-04      8124   \n",
      "1             4466  AMERICAN VINTAGE BEVERAGE    2016-01-07      8137   \n",
      "2              388  ATLANTIC IMPORTING COMPANY   2016-01-09      8169   \n",
      "3              480  BACARDI USA INC              2016-01-12      8106   \n",
      "4              516  BANFI PRODUCTS CORP          2016-01-07      8170   \n",
      "...            ...                          ...         ...       ...   \n",
      "5538          9622  WEIN BAUER INC               2017-01-06     13626   \n",
      "5539          9625  WESTERN SPIRITS BEVERAGE CO  2017-01-10     13661   \n",
      "5540          3664  WILLIAM GRANT & SONS INC     2017-01-02     13643   \n",
      "5541          9815  WINE GROUP INC               2017-01-03     13602   \n",
      "5542         90058  ZORVINO VINEYARDS            2017-01-05     13574   \n",
      "\n",
      "          PODate     PayDate  Quantity    Dollars  Freight Approval  \n",
      "0     2015-12-21  2016-02-16         6     214.26     3.47      NaN  \n",
      "1     2015-12-22  2016-02-21        15     140.55     8.57      NaN  \n",
      "2     2015-12-24  2016-02-16         5     106.60     4.61      NaN  \n",
      "3     2015-12-20  2016-02-05     10100  137483.78  2935.20      NaN  \n",
      "4     2015-12-24  2016-02-12      1935   15527.25   429.20      NaN  \n",
      "...          ...         ...       ...        ...      ...      ...  \n",
      "5538  2016-12-21  2017-02-10        90    1563.00     8.60      NaN  \n",
      "5539  2016-12-23  2017-02-18      4617   37300.48   186.50      NaN  \n",
      "5540  2016-12-22  2017-02-04      9848  202815.78   932.95      NaN  \n",
      "5541  2016-12-20  2017-02-08     24747  149007.56   819.54      NaN  \n",
      "5542  2016-12-18  2017-02-12       437    3608.11    16.60      NaN  \n",
      "\n",
      "[5543 rows x 10 columns]\n"
     ]
    }
   ],
   "source": [
    "print (Suppliers)"
   ]
  },
  {
   "cell_type": "code",
   "execution_count": 35,
   "metadata": {},
   "outputs": [],
   "source": [
    "#Se pasan a eliminar las columnas que no son necesarias en esta tabla\n",
    "# Especificar las columnas que quieres eliminar\n",
    "columns_to_drop = ['Approval', 'Freight', 'Dollars', 'Quantity', 'PayDate', 'PODate', 'PONumber', 'InvoiceDate']\n",
    "\n",
    "# Verificar si las columnas a eliminar existen en el DataFrame\n",
    "existing_columns_to_drop = [col for col in columns_to_drop if col in Suppliers.columns]\n",
    "\n",
    "# Imprimir advertencia para las columnas no encontradas\n",
    "for col in columns_to_drop:\n",
    "    if col not in Suppliers.columns:\n",
    "        print(f\"Advertencia: La columna '{col}' no existe en el DataFrame y no se puede eliminar.\")\n",
    "\n",
    "# Eliminar las columnas especificadas que existen\n",
    "Suppliers.drop(columns=existing_columns_to_drop, axis=1, inplace=True)"
   ]
  },
  {
   "cell_type": "code",
   "execution_count": 36,
   "metadata": {},
   "outputs": [
    {
     "name": "stdout",
     "output_type": "stream",
     "text": [
      "      VendorNumber                   VendorName\n",
      "0              105  ALTAMAR BRANDS LLC         \n",
      "1             4466  AMERICAN VINTAGE BEVERAGE  \n",
      "2              388  ATLANTIC IMPORTING COMPANY \n",
      "3              480  BACARDI USA INC            \n",
      "4              516  BANFI PRODUCTS CORP        \n",
      "...            ...                          ...\n",
      "5538          9622  WEIN BAUER INC             \n",
      "5539          9625  WESTERN SPIRITS BEVERAGE CO\n",
      "5540          3664  WILLIAM GRANT & SONS INC   \n",
      "5541          9815  WINE GROUP INC             \n",
      "5542         90058  ZORVINO VINEYARDS          \n",
      "\n",
      "[5543 rows x 2 columns]\n"
     ]
    }
   ],
   "source": [
    "print (Suppliers)"
   ]
  },
  {
   "cell_type": "markdown",
   "metadata": {},
   "source": [
    "### Limpieza"
   ]
  },
  {
   "cell_type": "code",
   "execution_count": 37,
   "metadata": {},
   "outputs": [],
   "source": [
    "# Lista de DataFrames\n",
    "dataframes = [SalesDetail, Sales, Inventory, Purchases, InvoicePurchases, Suppliers]\n",
    "\n",
    "# Cambiar el nombre de la columna si existe\n",
    "for df in dataframes:\n",
    "    if 'InventoryId' in df.columns:\n",
    "        df.rename(columns={'InventoryId': 'Brand'}, inplace=True)"
   ]
  },
  {
   "cell_type": "code",
   "execution_count": 38,
   "metadata": {},
   "outputs": [
    {
     "name": "stdout",
     "output_type": "stream",
     "text": [
      "               Size  SalesQuantity  SalesDollars  SalesPrice  DetailSalesID  \\\n",
      "0             750mL              1         16.49       16.49              1   \n",
      "1             750mL              2         32.98       16.49              2   \n",
      "2             750mL              1         16.49       16.49              3   \n",
      "3             750mL              1         14.49       14.49              4   \n",
      "4        375mL 2 Pk              2         69.98       34.99              5   \n",
      "...             ...            ...           ...         ...            ...   \n",
      "1048570       750mL              4         51.80       12.95        1048571   \n",
      "1048571       750mL              8        103.60       12.95        1048572   \n",
      "1048572       750mL              1         12.95       12.95        1048573   \n",
      "1048573       750mL              3         38.85       12.95        1048574   \n",
      "1048574       750mL              2         25.90       12.95        1048575   \n",
      "\n",
      "         IDSales  \n",
      "0              1  \n",
      "1              2  \n",
      "2              3  \n",
      "3              4  \n",
      "4              5  \n",
      "...          ...  \n",
      "1048570  1048571  \n",
      "1048571  1048572  \n",
      "1048572  1048573  \n",
      "1048573  1048574  \n",
      "1048574  1048575  \n",
      "\n",
      "[1048575 rows x 6 columns]          Store  SalesDate  ExciseTax  IDSales\n",
      "0            1   1/1/2016       0.79        1\n",
      "1            1   1/2/2016       1.57        2\n",
      "2            1   1/3/2016       0.79        3\n",
      "3            1   1/8/2016       0.79        4\n",
      "4            1   1/9/2016       0.79        5\n",
      "...        ...        ...        ...      ...\n",
      "1048570     19  2/12/2016       0.45  1048571\n",
      "1048571     19  2/13/2016       0.90  1048572\n",
      "1048572     19  2/19/2016       0.11  1048573\n",
      "1048573     19  2/22/2016       0.34  1048574\n",
      "1048574     19  2/24/2016       0.22  1048575\n",
      "\n",
      "[1048575 rows x 4 columns]                     Brand1  Store          City  InventoryId1  \\\n",
      "0        1_HARDERSFIELD_58      1  HARDERSFIELD            58   \n",
      "1        1_HARDERSFIELD_60      1  HARDERSFIELD            60   \n",
      "2        1_HARDERSFIELD_62      1  HARDERSFIELD            62   \n",
      "3        1_HARDERSFIELD_63      1  HARDERSFIELD            63   \n",
      "4        1_HARDERSFIELD_72      1  HARDERSFIELD            72   \n",
      "...                    ...    ...           ...           ...   \n",
      "206524  79_BALLYMENA_46985     79     BALLYMENA         46985   \n",
      "206525  79_BALLYMENA_47014     79     BALLYMENA         47014   \n",
      "206526  79_BALLYMENA_47090     79     BALLYMENA         47090   \n",
      "206527  79_BALLYMENA_90011     79     BALLYMENA         90011   \n",
      "206528  79_BALLYMENA_90089     79     BALLYMENA         90089   \n",
      "\n",
      "                         Description   Size  onHand   Price   startDate  \n",
      "0        Gekkeikan Black & Gold Sake  750mL       8   12.99  2016-01-01  \n",
      "1             Canadian Club 1858 VAP  750mL       7   10.99  2016-01-01  \n",
      "2           Herradura Silver Tequila  750mL       6   36.99  2016-01-01  \n",
      "3         Herradura Reposado Tequila  750mL       3   38.99  2016-01-01  \n",
      "4               No. 3 London Dry Gin  750mL       6   34.99  2016-01-01  \n",
      "...                              ...    ...     ...     ...         ...  \n",
      "206524  Rodney Strong Cab Svgn Alexa  750mL      13   22.99  2016-01-01  \n",
      "206525           Juan Gil Jumilla Rd  750mL      13   13.99  2016-01-01  \n",
      "206526    Napa Cellars Cab Svgn Napa  750mL      19   23.99  2016-01-01  \n",
      "206527  Ch Pichon Longville 12 Pauil  750mL      12  144.99  2016-01-01  \n",
      "206528    Ch Lynch Bages 12 Pauillac  750mL      24  119.99  2016-01-01  \n",
      "\n",
      "[206529 rows x 9 columns]                     Brand1  PONumber      PODate ReceivingDate  PurchasePrice  \\\n",
      "0       55_DRY GULCH_24921      8287  2016-01-01    2016-01-06          10.40   \n",
      "1          10_HORNSEY_4247      8288  2016-01-01    2016-01-06           7.99   \n",
      "2        34_PITMERDEN_7221      8288  2016-01-01    2016-01-07           6.86   \n",
      "3        32_MOUNTMEND_7977      8288  2016-01-01    2016-01-08           7.49   \n",
      "4       66_EANVERNESS_4246      8288  2016-01-01    2016-01-04           4.22   \n",
      "...                    ...       ...         ...           ...            ...   \n",
      "829148   73_DONCASTER_4796     10401  2016-05-26    2016-06-03          12.31   \n",
      "829149  62_KILMARNOCK_4783     10401  2016-05-26    2016-05-30           8.88   \n",
      "829150     15_WANBORNE_113     10401  2016-05-26    2016-05-30           4.84   \n",
      "829151     60_IRRAGIN_3684     10401  2016-05-26    2016-06-03           7.68   \n",
      "829152   34_PITMERDEN_3687     10401  2016-05-26    2016-06-03           3.84   \n",
      "\n",
      "        Quantity  Dollars  Classification  IDPurchases  \n",
      "0             12   124.80               2            1  \n",
      "1             12    95.88               1            2  \n",
      "2              2    13.72               2            3  \n",
      "3              6    44.94               1            4  \n",
      "4             24   101.28               1            5  \n",
      "...          ...      ...             ...          ...  \n",
      "829148         5    61.55               1       829149  \n",
      "829149         5    44.40               1       829150  \n",
      "829150        12    58.08               1       829151  \n",
      "829151         1     7.68               1       829152  \n",
      "829152         8    30.72               1       829153  \n",
      "\n",
      "[829153 rows x 9 columns]       VendorNumber InvoiceDate      PODate     PayDate  Freight Approval  \\\n",
      "0              105  2016-01-04  2015-12-21  2016-02-16     3.47      NaN   \n",
      "1             4466  2016-01-07  2015-12-22  2016-02-21     8.57      NaN   \n",
      "2              388  2016-01-09  2015-12-24  2016-02-16     4.61      NaN   \n",
      "3              480  2016-01-12  2015-12-20  2016-02-05  2935.20      NaN   \n",
      "4              516  2016-01-07  2015-12-24  2016-02-12   429.20      NaN   \n",
      "...            ...         ...         ...         ...      ...      ...   \n",
      "5538          9622  2017-01-06  2016-12-21  2017-02-10     8.60      NaN   \n",
      "5539          9625  2017-01-10  2016-12-23  2017-02-18   186.50      NaN   \n",
      "5540          3664  2017-01-02  2016-12-22  2017-02-04   932.95      NaN   \n",
      "5541          9815  2017-01-03  2016-12-20  2017-02-08   819.54      NaN   \n",
      "5542         90058  2017-01-05  2016-12-18  2017-02-12    16.60      NaN   \n",
      "\n",
      "      IDInvoicePurchases  IDPurchases  \n",
      "0                      1            1  \n",
      "1                      2            2  \n",
      "2                      3            3  \n",
      "3                      4            4  \n",
      "4                      5            5  \n",
      "...                  ...          ...  \n",
      "5538                5539         5539  \n",
      "5539                5540         5540  \n",
      "5540                5541         5541  \n",
      "5541                5542         5542  \n",
      "5542                5543         5543  \n",
      "\n",
      "[5543 rows x 8 columns]       VendorNumber                   VendorName\n",
      "0              105  ALTAMAR BRANDS LLC         \n",
      "1             4466  AMERICAN VINTAGE BEVERAGE  \n",
      "2              388  ATLANTIC IMPORTING COMPANY \n",
      "3              480  BACARDI USA INC            \n",
      "4              516  BANFI PRODUCTS CORP        \n",
      "...            ...                          ...\n",
      "5538          9622  WEIN BAUER INC             \n",
      "5539          9625  WESTERN SPIRITS BEVERAGE CO\n",
      "5540          3664  WILLIAM GRANT & SONS INC   \n",
      "5541          9815  WINE GROUP INC             \n",
      "5542         90058  ZORVINO VINEYARDS          \n",
      "\n",
      "[5543 rows x 2 columns]\n"
     ]
    }
   ],
   "source": [
    "# Imprimimos los dataframe para ver que se hayan realizado los cambios \n",
    "print (SalesDetail,Sales,Inventory,Purchases,InvoicePurchases,Suppliers)"
   ]
  },
  {
   "cell_type": "code",
   "execution_count": 39,
   "metadata": {},
   "outputs": [],
   "source": [
    "# Limpiar duplicados en cada DataFrame\n",
    "for i, df in enumerate(dataframes):\n",
    "    dataframes[i] = df.drop_duplicates()"
   ]
  },
  {
   "cell_type": "code",
   "execution_count": 40,
   "metadata": {},
   "outputs": [
    {
     "name": "stdout",
     "output_type": "stream",
     "text": [
      "         Size  SalesQuantity  SalesDollars  SalesPrice  DetailSalesID  IDSales\n",
      "0       750mL              1         16.49       16.49              1        1\n",
      "1       750mL              2         32.98       16.49              2        2\n",
      "2       750mL              1         16.49       16.49              3        3\n",
      "3       750mL              1         14.49       14.49              4        4\n",
      "4  375mL 2 Pk              2         69.98       34.99              5        5\n",
      "   Store SalesDate  ExciseTax  IDSales\n",
      "0      1  1/1/2016       0.79        1\n",
      "1      1  1/2/2016       1.57        2\n",
      "2      1  1/3/2016       0.79        3\n",
      "3      1  1/8/2016       0.79        4\n",
      "4      1  1/9/2016       0.79        5\n",
      "              Brand1  Store          City  InventoryId1  \\\n",
      "0  1_HARDERSFIELD_58      1  HARDERSFIELD            58   \n",
      "1  1_HARDERSFIELD_60      1  HARDERSFIELD            60   \n",
      "2  1_HARDERSFIELD_62      1  HARDERSFIELD            62   \n",
      "3  1_HARDERSFIELD_63      1  HARDERSFIELD            63   \n",
      "4  1_HARDERSFIELD_72      1  HARDERSFIELD            72   \n",
      "\n",
      "                   Description   Size  onHand  Price   startDate  \n",
      "0  Gekkeikan Black & Gold Sake  750mL       8  12.99  2016-01-01  \n",
      "1       Canadian Club 1858 VAP  750mL       7  10.99  2016-01-01  \n",
      "2     Herradura Silver Tequila  750mL       6  36.99  2016-01-01  \n",
      "3   Herradura Reposado Tequila  750mL       3  38.99  2016-01-01  \n",
      "4         No. 3 London Dry Gin  750mL       6  34.99  2016-01-01  \n",
      "               Brand1  PONumber      PODate ReceivingDate  PurchasePrice  \\\n",
      "0  55_DRY GULCH_24921      8287  2016-01-01    2016-01-06          10.40   \n",
      "1     10_HORNSEY_4247      8288  2016-01-01    2016-01-06           7.99   \n",
      "2   34_PITMERDEN_7221      8288  2016-01-01    2016-01-07           6.86   \n",
      "3   32_MOUNTMEND_7977      8288  2016-01-01    2016-01-08           7.49   \n",
      "4  66_EANVERNESS_4246      8288  2016-01-01    2016-01-04           4.22   \n",
      "\n",
      "   Quantity  Dollars  Classification  IDPurchases  \n",
      "0        12   124.80               2            1  \n",
      "1        12    95.88               1            2  \n",
      "2         2    13.72               2            3  \n",
      "3         6    44.94               1            4  \n",
      "4        24   101.28               1            5  \n",
      "   VendorNumber InvoiceDate      PODate     PayDate  Freight Approval  \\\n",
      "0           105  2016-01-04  2015-12-21  2016-02-16     3.47      NaN   \n",
      "1          4466  2016-01-07  2015-12-22  2016-02-21     8.57      NaN   \n",
      "2           388  2016-01-09  2015-12-24  2016-02-16     4.61      NaN   \n",
      "3           480  2016-01-12  2015-12-20  2016-02-05  2935.20      NaN   \n",
      "4           516  2016-01-07  2015-12-24  2016-02-12   429.20      NaN   \n",
      "\n",
      "   IDInvoicePurchases  IDPurchases  \n",
      "0                   1            1  \n",
      "1                   2            2  \n",
      "2                   3            3  \n",
      "3                   4            4  \n",
      "4                   5            5  \n",
      "   VendorNumber                   VendorName\n",
      "0           105  ALTAMAR BRANDS LLC         \n",
      "1          4466  AMERICAN VINTAGE BEVERAGE  \n",
      "2           388  ATLANTIC IMPORTING COMPANY \n",
      "3           480  BACARDI USA INC            \n",
      "4           516  BANFI PRODUCTS CORP        \n"
     ]
    }
   ],
   "source": [
    "# Opcional: Mostrar los DataFrames actualizados para verificar\n",
    "for df in dataframes:\n",
    "    print(df.head())"
   ]
  },
  {
   "cell_type": "code",
   "execution_count": 41,
   "metadata": {},
   "outputs": [],
   "source": [
    "# Limpiar nulos en cada DataFrame\n",
    "for i, df in enumerate(dataframes):\n",
    "    dataframes[i] = df.dropna()"
   ]
  },
  {
   "cell_type": "code",
   "execution_count": 42,
   "metadata": {},
   "outputs": [],
   "source": [
    "#Guardamos el dataset final con las filtraciones requeridas y limpio\n",
    "\n",
    "SalesDetail.to_csv('SalesDetail.csv',index=False)\n",
    "Sales.to_csv('Sales.csv',index=False)\n",
    "Inventory.to_csv('Inventory.csv',index=False)\n",
    "Purchases.to_csv('Purchases.csv',index=False)\n",
    "InvoicePurchases.to_csv('InvoicePurchases.csv',index=False)\n",
    "Suppliers.to_csv('Suppliers.csv',index=False)"
   ]
  },
  {
   "cell_type": "markdown",
   "metadata": {},
   "source": [
    "### Coneccion"
   ]
  },
  {
   "cell_type": "code",
   "execution_count": 48,
   "metadata": {},
   "outputs": [
    {
     "ename": "ObjectNotExecutableError",
     "evalue": "Not an executable object: \"\\n        SELECT constraint_name\\n        FROM information_schema.table_constraints\\n        WHERE table_name = 'SalesDetail' AND constraint_type = 'FOREIGN KEY'\\n        \"",
     "output_type": "error",
     "traceback": [
      "\u001b[1;31m---------------------------------------------------------------------------\u001b[0m",
      "\u001b[1;31mAttributeError\u001b[0m                            Traceback (most recent call last)",
      "File \u001b[1;32m~\\AppData\\Roaming\\Python\\Python312\\site-packages\\sqlalchemy\\engine\\base.py:1414\u001b[0m, in \u001b[0;36mConnection.execute\u001b[1;34m(self, statement, parameters, execution_options)\u001b[0m\n\u001b[0;32m   1413\u001b[0m \u001b[38;5;28;01mtry\u001b[39;00m:\n\u001b[1;32m-> 1414\u001b[0m     meth \u001b[38;5;241m=\u001b[39m \u001b[43mstatement\u001b[49m\u001b[38;5;241;43m.\u001b[39;49m\u001b[43m_execute_on_connection\u001b[49m\n\u001b[0;32m   1415\u001b[0m \u001b[38;5;28;01mexcept\u001b[39;00m \u001b[38;5;167;01mAttributeError\u001b[39;00m \u001b[38;5;28;01mas\u001b[39;00m err:\n",
      "\u001b[1;31mAttributeError\u001b[0m: 'str' object has no attribute '_execute_on_connection'",
      "\nThe above exception was the direct cause of the following exception:\n",
      "\u001b[1;31mObjectNotExecutableError\u001b[0m                  Traceback (most recent call last)",
      "Cell \u001b[1;32mIn[48], line 39\u001b[0m\n\u001b[0;32m     37\u001b[0m \u001b[38;5;66;03m# Eliminar restricciones de clave externa antes de reemplazar tablas\u001b[39;00m\n\u001b[0;32m     38\u001b[0m \u001b[38;5;28;01mfor\u001b[39;00m table_name \u001b[38;5;129;01min\u001b[39;00m table_names:\n\u001b[1;32m---> 39\u001b[0m     \u001b[43mdrop_foreign_keys\u001b[49m\u001b[43m(\u001b[49m\u001b[43mtable_name\u001b[49m\u001b[43m)\u001b[49m\n\u001b[0;32m     41\u001b[0m \u001b[38;5;66;03m# Cargar cada archivo CSV en su respectiva tabla en SQL Server\u001b[39;00m\n\u001b[0;32m     42\u001b[0m \u001b[38;5;28;01mfor\u001b[39;00m csv_file, table_name \u001b[38;5;129;01min\u001b[39;00m \u001b[38;5;28mzip\u001b[39m(csv_files, table_names):\n",
      "Cell \u001b[1;32mIn[48], line 32\u001b[0m, in \u001b[0;36mdrop_foreign_keys\u001b[1;34m(table_name)\u001b[0m\n\u001b[0;32m     26\u001b[0m \u001b[38;5;28;01mwith\u001b[39;00m engine\u001b[38;5;241m.\u001b[39mconnect() \u001b[38;5;28;01mas\u001b[39;00m conn:\n\u001b[0;32m     27\u001b[0m     fk_query \u001b[38;5;241m=\u001b[39m \u001b[38;5;124mf\u001b[39m\u001b[38;5;124m\"\"\"\u001b[39m\n\u001b[0;32m     28\u001b[0m \u001b[38;5;124m    SELECT constraint_name\u001b[39m\n\u001b[0;32m     29\u001b[0m \u001b[38;5;124m    FROM information_schema.table_constraints\u001b[39m\n\u001b[0;32m     30\u001b[0m \u001b[38;5;124m    WHERE table_name = \u001b[39m\u001b[38;5;124m'\u001b[39m\u001b[38;5;132;01m{\u001b[39;00mtable_name\u001b[38;5;132;01m}\u001b[39;00m\u001b[38;5;124m'\u001b[39m\u001b[38;5;124m AND constraint_type = \u001b[39m\u001b[38;5;124m'\u001b[39m\u001b[38;5;124mFOREIGN KEY\u001b[39m\u001b[38;5;124m'\u001b[39m\n\u001b[0;32m     31\u001b[0m \u001b[38;5;124m    \u001b[39m\u001b[38;5;124m\"\"\"\u001b[39m\n\u001b[1;32m---> 32\u001b[0m     fks \u001b[38;5;241m=\u001b[39m \u001b[43mconn\u001b[49m\u001b[38;5;241;43m.\u001b[39;49m\u001b[43mexecute\u001b[49m\u001b[43m(\u001b[49m\u001b[43mfk_query\u001b[49m\u001b[43m)\u001b[49m\u001b[38;5;241m.\u001b[39mfetchall()\n\u001b[0;32m     33\u001b[0m     \u001b[38;5;28;01mfor\u001b[39;00m fk \u001b[38;5;129;01min\u001b[39;00m fks:\n\u001b[0;32m     34\u001b[0m         drop_fk_query \u001b[38;5;241m=\u001b[39m \u001b[38;5;124mf\u001b[39m\u001b[38;5;124m\"\u001b[39m\u001b[38;5;124mALTER TABLE \u001b[39m\u001b[38;5;132;01m{\u001b[39;00mtable_name\u001b[38;5;132;01m}\u001b[39;00m\u001b[38;5;124m DROP CONSTRAINT \u001b[39m\u001b[38;5;132;01m{\u001b[39;00mfk[\u001b[38;5;241m0\u001b[39m]\u001b[38;5;132;01m}\u001b[39;00m\u001b[38;5;124m\"\u001b[39m\n",
      "File \u001b[1;32m~\\AppData\\Roaming\\Python\\Python312\\site-packages\\sqlalchemy\\engine\\base.py:1416\u001b[0m, in \u001b[0;36mConnection.execute\u001b[1;34m(self, statement, parameters, execution_options)\u001b[0m\n\u001b[0;32m   1414\u001b[0m     meth \u001b[38;5;241m=\u001b[39m statement\u001b[38;5;241m.\u001b[39m_execute_on_connection\n\u001b[0;32m   1415\u001b[0m \u001b[38;5;28;01mexcept\u001b[39;00m \u001b[38;5;167;01mAttributeError\u001b[39;00m \u001b[38;5;28;01mas\u001b[39;00m err:\n\u001b[1;32m-> 1416\u001b[0m     \u001b[38;5;28;01mraise\u001b[39;00m exc\u001b[38;5;241m.\u001b[39mObjectNotExecutableError(statement) \u001b[38;5;28;01mfrom\u001b[39;00m \u001b[38;5;21;01merr\u001b[39;00m\n\u001b[0;32m   1417\u001b[0m \u001b[38;5;28;01melse\u001b[39;00m:\n\u001b[0;32m   1418\u001b[0m     \u001b[38;5;28;01mreturn\u001b[39;00m meth(\n\u001b[0;32m   1419\u001b[0m         \u001b[38;5;28mself\u001b[39m,\n\u001b[0;32m   1420\u001b[0m         distilled_parameters,\n\u001b[0;32m   1421\u001b[0m         execution_options \u001b[38;5;129;01mor\u001b[39;00m NO_OPTIONS,\n\u001b[0;32m   1422\u001b[0m     )\n",
      "\u001b[1;31mObjectNotExecutableError\u001b[0m: Not an executable object: \"\\n        SELECT constraint_name\\n        FROM information_schema.table_constraints\\n        WHERE table_name = 'SalesDetail' AND constraint_type = 'FOREIGN KEY'\\n        \""
     ]
    }
   ],
   "source": [
    "import pandas as pd\n",
    "from sqlalchemy import create_engine\n",
    "import urllib\n",
    "\n",
    "# Define tu servidor y base de datos\n",
    "server = 'localhost\\\\SQLEXPRESS'\n",
    "database = 'DrinksBasket'\n",
    "\n",
    "# Forma la cadena de conexión con urllib\n",
    "params = urllib.parse.quote_plus(\n",
    "    f\"DRIVER={{ODBC Driver 17 for SQL Server}};\"\n",
    "    f\"SERVER={server};\"\n",
    "    f\"DATABASE={database};\"\n",
    "    \"Trusted_Connection=yes;\"\n",
    ")\n",
    "\n",
    "# Crea el motor de conexión\n",
    "engine = create_engine(f\"mssql+pyodbc:///?odbc_connect={params}\")\n",
    "\n",
    "# Lista de archivos CSV y nombres de tablas\n",
    "csv_files = ['SalesDetail.csv', 'Sales.csv', 'Inventory.csv', 'Purchases.csv', 'InvoicePurchases.csv', 'Suppliers.csv']\n",
    "table_names = ['SalesDetail', 'Sales', 'Inventory', 'Purchases', 'InvoicePurchases', 'Suppliers']\n",
    "\n",
    "# Función para eliminar las restricciones de clave externa\n",
    "def drop_foreign_keys(table_name):\n",
    "    with engine.connect() as conn:\n",
    "        fk_query = f\"\"\"\n",
    "        SELECT constraint_name\n",
    "        FROM information_schema.table_constraints\n",
    "        WHERE table_name = '{table_name}' AND constraint_type = 'FOREIGN KEY'\n",
    "        \"\"\"\n",
    "        fks = conn.execute(fk_query).fetchall()\n",
    "        for fk in fks:\n",
    "            drop_fk_query = f\"ALTER TABLE {table_name} DROP CONSTRAINT {fk[0]}\"\n",
    "            conn.execute(drop_fk_query)\n",
    "\n",
    "# Eliminar restricciones de clave externa antes de reemplazar tablas\n",
    "for table_name in table_names:\n",
    "    drop_foreign_keys(table_name)\n",
    "\n",
    "# Cargar cada archivo CSV en su respectiva tabla en SQL Server\n",
    "for csv_file, table_name in zip(csv_files, table_names):\n",
    "    df = pd.read_csv(csv_file)\n",
    "    df.to_sql(name=table_name, con=engine, if_exists='replace', index=False)\n",
    "\n",
    "# Verificación opcional: Mostrar las primeras filas de cada tabla cargada\n",
    "for table_name in table_names:\n",
    "    query = f\"SELECT TOP 5 * FROM {table_name}\"\n",
    "    with engine.connect() as connection:\n",
    "        result = connection.execute(query)\n",
    "        print(f\"Primeras filas de la tabla {table_name}:\")\n",
    "        for row in result:\n",
    "            print(row)\n"
   ]
  },
  {
   "cell_type": "code",
   "execution_count": 46,
   "metadata": {},
   "outputs": [
    {
     "ename": "ProgrammingError",
     "evalue": "(pyodbc.ProgrammingError) ('42000', \"[42000] [Microsoft][ODBC Driver 17 for SQL Server][SQL Server]Could not drop object 'Inventory' because it is referenced by a FOREIGN KEY constraint. (3726) (SQLExecDirectW)\")\n[SQL: \nDROP TABLE [Inventory]]\n(Background on this error at: https://sqlalche.me/e/20/f405)",
     "output_type": "error",
     "traceback": [
      "\u001b[1;31m---------------------------------------------------------------------------\u001b[0m",
      "\u001b[1;31mProgrammingError\u001b[0m                          Traceback (most recent call last)",
      "File \u001b[1;32m~\\AppData\\Roaming\\Python\\Python312\\site-packages\\sqlalchemy\\engine\\base.py:1967\u001b[0m, in \u001b[0;36mConnection._exec_single_context\u001b[1;34m(self, dialect, context, statement, parameters)\u001b[0m\n\u001b[0;32m   1966\u001b[0m     \u001b[38;5;28;01mif\u001b[39;00m \u001b[38;5;129;01mnot\u001b[39;00m evt_handled:\n\u001b[1;32m-> 1967\u001b[0m         \u001b[38;5;28;43mself\u001b[39;49m\u001b[38;5;241;43m.\u001b[39;49m\u001b[43mdialect\u001b[49m\u001b[38;5;241;43m.\u001b[39;49m\u001b[43mdo_execute\u001b[49m\u001b[43m(\u001b[49m\n\u001b[0;32m   1968\u001b[0m \u001b[43m            \u001b[49m\u001b[43mcursor\u001b[49m\u001b[43m,\u001b[49m\u001b[43m \u001b[49m\u001b[43mstr_statement\u001b[49m\u001b[43m,\u001b[49m\u001b[43m \u001b[49m\u001b[43meffective_parameters\u001b[49m\u001b[43m,\u001b[49m\u001b[43m \u001b[49m\u001b[43mcontext\u001b[49m\n\u001b[0;32m   1969\u001b[0m \u001b[43m        \u001b[49m\u001b[43m)\u001b[49m\n\u001b[0;32m   1971\u001b[0m \u001b[38;5;28;01mif\u001b[39;00m \u001b[38;5;28mself\u001b[39m\u001b[38;5;241m.\u001b[39m_has_events \u001b[38;5;129;01mor\u001b[39;00m \u001b[38;5;28mself\u001b[39m\u001b[38;5;241m.\u001b[39mengine\u001b[38;5;241m.\u001b[39m_has_events:\n",
      "File \u001b[1;32m~\\AppData\\Roaming\\Python\\Python312\\site-packages\\sqlalchemy\\engine\\default.py:924\u001b[0m, in \u001b[0;36mDefaultDialect.do_execute\u001b[1;34m(self, cursor, statement, parameters, context)\u001b[0m\n\u001b[0;32m    923\u001b[0m \u001b[38;5;28;01mdef\u001b[39;00m \u001b[38;5;21mdo_execute\u001b[39m(\u001b[38;5;28mself\u001b[39m, cursor, statement, parameters, context\u001b[38;5;241m=\u001b[39m\u001b[38;5;28;01mNone\u001b[39;00m):\n\u001b[1;32m--> 924\u001b[0m     \u001b[43mcursor\u001b[49m\u001b[38;5;241;43m.\u001b[39;49m\u001b[43mexecute\u001b[49m\u001b[43m(\u001b[49m\u001b[43mstatement\u001b[49m\u001b[43m,\u001b[49m\u001b[43m \u001b[49m\u001b[43mparameters\u001b[49m\u001b[43m)\u001b[49m\n",
      "\u001b[1;31mProgrammingError\u001b[0m: ('42000', \"[42000] [Microsoft][ODBC Driver 17 for SQL Server][SQL Server]Could not drop object 'Inventory' because it is referenced by a FOREIGN KEY constraint. (3726) (SQLExecDirectW)\")",
      "\nThe above exception was the direct cause of the following exception:\n",
      "\u001b[1;31mProgrammingError\u001b[0m                          Traceback (most recent call last)",
      "Cell \u001b[1;32mIn[46], line 27\u001b[0m\n\u001b[0;32m     25\u001b[0m \u001b[38;5;28;01mfor\u001b[39;00m csv_file, table_name \u001b[38;5;129;01min\u001b[39;00m \u001b[38;5;28mzip\u001b[39m(csv_files, table_names):\n\u001b[0;32m     26\u001b[0m     df \u001b[38;5;241m=\u001b[39m pd\u001b[38;5;241m.\u001b[39mread_csv(csv_file)\n\u001b[1;32m---> 27\u001b[0m     \u001b[43mdf\u001b[49m\u001b[38;5;241;43m.\u001b[39;49m\u001b[43mto_sql\u001b[49m\u001b[43m(\u001b[49m\u001b[43mname\u001b[49m\u001b[38;5;241;43m=\u001b[39;49m\u001b[43mtable_name\u001b[49m\u001b[43m,\u001b[49m\u001b[43m \u001b[49m\u001b[43mcon\u001b[49m\u001b[38;5;241;43m=\u001b[39;49m\u001b[43mengine\u001b[49m\u001b[43m,\u001b[49m\u001b[43m \u001b[49m\u001b[43mif_exists\u001b[49m\u001b[38;5;241;43m=\u001b[39;49m\u001b[38;5;124;43m'\u001b[39;49m\u001b[38;5;124;43mreplace\u001b[39;49m\u001b[38;5;124;43m'\u001b[39;49m\u001b[43m,\u001b[49m\u001b[43m \u001b[49m\u001b[43mindex\u001b[49m\u001b[38;5;241;43m=\u001b[39;49m\u001b[38;5;28;43;01mFalse\u001b[39;49;00m\u001b[43m)\u001b[49m\n\u001b[0;32m     29\u001b[0m \u001b[38;5;66;03m# Verificación opcional: Mostrar las primeras filas de cada tabla cargada\u001b[39;00m\n\u001b[0;32m     30\u001b[0m \u001b[38;5;28;01mfor\u001b[39;00m table_name \u001b[38;5;129;01min\u001b[39;00m table_names:\n",
      "File \u001b[1;32m~\\AppData\\Roaming\\Python\\Python312\\site-packages\\pandas\\util\\_decorators.py:333\u001b[0m, in \u001b[0;36mdeprecate_nonkeyword_arguments.<locals>.decorate.<locals>.wrapper\u001b[1;34m(*args, **kwargs)\u001b[0m\n\u001b[0;32m    327\u001b[0m \u001b[38;5;28;01mif\u001b[39;00m \u001b[38;5;28mlen\u001b[39m(args) \u001b[38;5;241m>\u001b[39m num_allow_args:\n\u001b[0;32m    328\u001b[0m     warnings\u001b[38;5;241m.\u001b[39mwarn(\n\u001b[0;32m    329\u001b[0m         msg\u001b[38;5;241m.\u001b[39mformat(arguments\u001b[38;5;241m=\u001b[39m_format_argument_list(allow_args)),\n\u001b[0;32m    330\u001b[0m         \u001b[38;5;167;01mFutureWarning\u001b[39;00m,\n\u001b[0;32m    331\u001b[0m         stacklevel\u001b[38;5;241m=\u001b[39mfind_stack_level(),\n\u001b[0;32m    332\u001b[0m     )\n\u001b[1;32m--> 333\u001b[0m \u001b[38;5;28;01mreturn\u001b[39;00m \u001b[43mfunc\u001b[49m\u001b[43m(\u001b[49m\u001b[38;5;241;43m*\u001b[39;49m\u001b[43margs\u001b[49m\u001b[43m,\u001b[49m\u001b[43m \u001b[49m\u001b[38;5;241;43m*\u001b[39;49m\u001b[38;5;241;43m*\u001b[39;49m\u001b[43mkwargs\u001b[49m\u001b[43m)\u001b[49m\n",
      "File \u001b[1;32m~\\AppData\\Roaming\\Python\\Python312\\site-packages\\pandas\\core\\generic.py:3087\u001b[0m, in \u001b[0;36mNDFrame.to_sql\u001b[1;34m(self, name, con, schema, if_exists, index, index_label, chunksize, dtype, method)\u001b[0m\n\u001b[0;32m   2889\u001b[0m \u001b[38;5;250m\u001b[39m\u001b[38;5;124;03m\"\"\"\u001b[39;00m\n\u001b[0;32m   2890\u001b[0m \u001b[38;5;124;03mWrite records stored in a DataFrame to a SQL database.\u001b[39;00m\n\u001b[0;32m   2891\u001b[0m \n\u001b[1;32m   (...)\u001b[0m\n\u001b[0;32m   3083\u001b[0m \u001b[38;5;124;03m[(1,), (None,), (2,)]\u001b[39;00m\n\u001b[0;32m   3084\u001b[0m \u001b[38;5;124;03m\"\"\"\u001b[39;00m  \u001b[38;5;66;03m# noqa: E501\u001b[39;00m\n\u001b[0;32m   3085\u001b[0m \u001b[38;5;28;01mfrom\u001b[39;00m \u001b[38;5;21;01mpandas\u001b[39;00m\u001b[38;5;21;01m.\u001b[39;00m\u001b[38;5;21;01mio\u001b[39;00m \u001b[38;5;28;01mimport\u001b[39;00m sql\n\u001b[1;32m-> 3087\u001b[0m \u001b[38;5;28;01mreturn\u001b[39;00m \u001b[43msql\u001b[49m\u001b[38;5;241;43m.\u001b[39;49m\u001b[43mto_sql\u001b[49m\u001b[43m(\u001b[49m\n\u001b[0;32m   3088\u001b[0m \u001b[43m    \u001b[49m\u001b[38;5;28;43mself\u001b[39;49m\u001b[43m,\u001b[49m\n\u001b[0;32m   3089\u001b[0m \u001b[43m    \u001b[49m\u001b[43mname\u001b[49m\u001b[43m,\u001b[49m\n\u001b[0;32m   3090\u001b[0m \u001b[43m    \u001b[49m\u001b[43mcon\u001b[49m\u001b[43m,\u001b[49m\n\u001b[0;32m   3091\u001b[0m \u001b[43m    \u001b[49m\u001b[43mschema\u001b[49m\u001b[38;5;241;43m=\u001b[39;49m\u001b[43mschema\u001b[49m\u001b[43m,\u001b[49m\n\u001b[0;32m   3092\u001b[0m \u001b[43m    \u001b[49m\u001b[43mif_exists\u001b[49m\u001b[38;5;241;43m=\u001b[39;49m\u001b[43mif_exists\u001b[49m\u001b[43m,\u001b[49m\n\u001b[0;32m   3093\u001b[0m \u001b[43m    \u001b[49m\u001b[43mindex\u001b[49m\u001b[38;5;241;43m=\u001b[39;49m\u001b[43mindex\u001b[49m\u001b[43m,\u001b[49m\n\u001b[0;32m   3094\u001b[0m \u001b[43m    \u001b[49m\u001b[43mindex_label\u001b[49m\u001b[38;5;241;43m=\u001b[39;49m\u001b[43mindex_label\u001b[49m\u001b[43m,\u001b[49m\n\u001b[0;32m   3095\u001b[0m \u001b[43m    \u001b[49m\u001b[43mchunksize\u001b[49m\u001b[38;5;241;43m=\u001b[39;49m\u001b[43mchunksize\u001b[49m\u001b[43m,\u001b[49m\n\u001b[0;32m   3096\u001b[0m \u001b[43m    \u001b[49m\u001b[43mdtype\u001b[49m\u001b[38;5;241;43m=\u001b[39;49m\u001b[43mdtype\u001b[49m\u001b[43m,\u001b[49m\n\u001b[0;32m   3097\u001b[0m \u001b[43m    \u001b[49m\u001b[43mmethod\u001b[49m\u001b[38;5;241;43m=\u001b[39;49m\u001b[43mmethod\u001b[49m\u001b[43m,\u001b[49m\n\u001b[0;32m   3098\u001b[0m \u001b[43m\u001b[49m\u001b[43m)\u001b[49m\n",
      "File \u001b[1;32m~\\AppData\\Roaming\\Python\\Python312\\site-packages\\pandas\\io\\sql.py:842\u001b[0m, in \u001b[0;36mto_sql\u001b[1;34m(frame, name, con, schema, if_exists, index, index_label, chunksize, dtype, method, engine, **engine_kwargs)\u001b[0m\n\u001b[0;32m    837\u001b[0m     \u001b[38;5;28;01mraise\u001b[39;00m \u001b[38;5;167;01mNotImplementedError\u001b[39;00m(\n\u001b[0;32m    838\u001b[0m         \u001b[38;5;124m\"\u001b[39m\u001b[38;5;124m'\u001b[39m\u001b[38;5;124mframe\u001b[39m\u001b[38;5;124m'\u001b[39m\u001b[38;5;124m argument should be either a Series or a DataFrame\u001b[39m\u001b[38;5;124m\"\u001b[39m\n\u001b[0;32m    839\u001b[0m     )\n\u001b[0;32m    841\u001b[0m \u001b[38;5;28;01mwith\u001b[39;00m pandasSQL_builder(con, schema\u001b[38;5;241m=\u001b[39mschema, need_transaction\u001b[38;5;241m=\u001b[39m\u001b[38;5;28;01mTrue\u001b[39;00m) \u001b[38;5;28;01mas\u001b[39;00m pandas_sql:\n\u001b[1;32m--> 842\u001b[0m     \u001b[38;5;28;01mreturn\u001b[39;00m \u001b[43mpandas_sql\u001b[49m\u001b[38;5;241;43m.\u001b[39;49m\u001b[43mto_sql\u001b[49m\u001b[43m(\u001b[49m\n\u001b[0;32m    843\u001b[0m \u001b[43m        \u001b[49m\u001b[43mframe\u001b[49m\u001b[43m,\u001b[49m\n\u001b[0;32m    844\u001b[0m \u001b[43m        \u001b[49m\u001b[43mname\u001b[49m\u001b[43m,\u001b[49m\n\u001b[0;32m    845\u001b[0m \u001b[43m        \u001b[49m\u001b[43mif_exists\u001b[49m\u001b[38;5;241;43m=\u001b[39;49m\u001b[43mif_exists\u001b[49m\u001b[43m,\u001b[49m\n\u001b[0;32m    846\u001b[0m \u001b[43m        \u001b[49m\u001b[43mindex\u001b[49m\u001b[38;5;241;43m=\u001b[39;49m\u001b[43mindex\u001b[49m\u001b[43m,\u001b[49m\n\u001b[0;32m    847\u001b[0m \u001b[43m        \u001b[49m\u001b[43mindex_label\u001b[49m\u001b[38;5;241;43m=\u001b[39;49m\u001b[43mindex_label\u001b[49m\u001b[43m,\u001b[49m\n\u001b[0;32m    848\u001b[0m \u001b[43m        \u001b[49m\u001b[43mschema\u001b[49m\u001b[38;5;241;43m=\u001b[39;49m\u001b[43mschema\u001b[49m\u001b[43m,\u001b[49m\n\u001b[0;32m    849\u001b[0m \u001b[43m        \u001b[49m\u001b[43mchunksize\u001b[49m\u001b[38;5;241;43m=\u001b[39;49m\u001b[43mchunksize\u001b[49m\u001b[43m,\u001b[49m\n\u001b[0;32m    850\u001b[0m \u001b[43m        \u001b[49m\u001b[43mdtype\u001b[49m\u001b[38;5;241;43m=\u001b[39;49m\u001b[43mdtype\u001b[49m\u001b[43m,\u001b[49m\n\u001b[0;32m    851\u001b[0m \u001b[43m        \u001b[49m\u001b[43mmethod\u001b[49m\u001b[38;5;241;43m=\u001b[39;49m\u001b[43mmethod\u001b[49m\u001b[43m,\u001b[49m\n\u001b[0;32m    852\u001b[0m \u001b[43m        \u001b[49m\u001b[43mengine\u001b[49m\u001b[38;5;241;43m=\u001b[39;49m\u001b[43mengine\u001b[49m\u001b[43m,\u001b[49m\n\u001b[0;32m    853\u001b[0m \u001b[43m        \u001b[49m\u001b[38;5;241;43m*\u001b[39;49m\u001b[38;5;241;43m*\u001b[39;49m\u001b[43mengine_kwargs\u001b[49m\u001b[43m,\u001b[49m\n\u001b[0;32m    854\u001b[0m \u001b[43m    \u001b[49m\u001b[43m)\u001b[49m\n",
      "File \u001b[1;32m~\\AppData\\Roaming\\Python\\Python312\\site-packages\\pandas\\io\\sql.py:2008\u001b[0m, in \u001b[0;36mSQLDatabase.to_sql\u001b[1;34m(self, frame, name, if_exists, index, index_label, schema, chunksize, dtype, method, engine, **engine_kwargs)\u001b[0m\n\u001b[0;32m   1958\u001b[0m \u001b[38;5;250m\u001b[39m\u001b[38;5;124;03m\"\"\"\u001b[39;00m\n\u001b[0;32m   1959\u001b[0m \u001b[38;5;124;03mWrite records stored in a DataFrame to a SQL database.\u001b[39;00m\n\u001b[0;32m   1960\u001b[0m \n\u001b[1;32m   (...)\u001b[0m\n\u001b[0;32m   2004\u001b[0m \u001b[38;5;124;03m    Any additional kwargs are passed to the engine.\u001b[39;00m\n\u001b[0;32m   2005\u001b[0m \u001b[38;5;124;03m\"\"\"\u001b[39;00m\n\u001b[0;32m   2006\u001b[0m sql_engine \u001b[38;5;241m=\u001b[39m get_engine(engine)\n\u001b[1;32m-> 2008\u001b[0m table \u001b[38;5;241m=\u001b[39m \u001b[38;5;28;43mself\u001b[39;49m\u001b[38;5;241;43m.\u001b[39;49m\u001b[43mprep_table\u001b[49m\u001b[43m(\u001b[49m\n\u001b[0;32m   2009\u001b[0m \u001b[43m    \u001b[49m\u001b[43mframe\u001b[49m\u001b[38;5;241;43m=\u001b[39;49m\u001b[43mframe\u001b[49m\u001b[43m,\u001b[49m\n\u001b[0;32m   2010\u001b[0m \u001b[43m    \u001b[49m\u001b[43mname\u001b[49m\u001b[38;5;241;43m=\u001b[39;49m\u001b[43mname\u001b[49m\u001b[43m,\u001b[49m\n\u001b[0;32m   2011\u001b[0m \u001b[43m    \u001b[49m\u001b[43mif_exists\u001b[49m\u001b[38;5;241;43m=\u001b[39;49m\u001b[43mif_exists\u001b[49m\u001b[43m,\u001b[49m\n\u001b[0;32m   2012\u001b[0m \u001b[43m    \u001b[49m\u001b[43mindex\u001b[49m\u001b[38;5;241;43m=\u001b[39;49m\u001b[43mindex\u001b[49m\u001b[43m,\u001b[49m\n\u001b[0;32m   2013\u001b[0m \u001b[43m    \u001b[49m\u001b[43mindex_label\u001b[49m\u001b[38;5;241;43m=\u001b[39;49m\u001b[43mindex_label\u001b[49m\u001b[43m,\u001b[49m\n\u001b[0;32m   2014\u001b[0m \u001b[43m    \u001b[49m\u001b[43mschema\u001b[49m\u001b[38;5;241;43m=\u001b[39;49m\u001b[43mschema\u001b[49m\u001b[43m,\u001b[49m\n\u001b[0;32m   2015\u001b[0m \u001b[43m    \u001b[49m\u001b[43mdtype\u001b[49m\u001b[38;5;241;43m=\u001b[39;49m\u001b[43mdtype\u001b[49m\u001b[43m,\u001b[49m\n\u001b[0;32m   2016\u001b[0m \u001b[43m\u001b[49m\u001b[43m)\u001b[49m\n\u001b[0;32m   2018\u001b[0m total_inserted \u001b[38;5;241m=\u001b[39m sql_engine\u001b[38;5;241m.\u001b[39minsert_records(\n\u001b[0;32m   2019\u001b[0m     table\u001b[38;5;241m=\u001b[39mtable,\n\u001b[0;32m   2020\u001b[0m     con\u001b[38;5;241m=\u001b[39m\u001b[38;5;28mself\u001b[39m\u001b[38;5;241m.\u001b[39mcon,\n\u001b[1;32m   (...)\u001b[0m\n\u001b[0;32m   2027\u001b[0m     \u001b[38;5;241m*\u001b[39m\u001b[38;5;241m*\u001b[39mengine_kwargs,\n\u001b[0;32m   2028\u001b[0m )\n\u001b[0;32m   2030\u001b[0m \u001b[38;5;28mself\u001b[39m\u001b[38;5;241m.\u001b[39mcheck_case_sensitive(name\u001b[38;5;241m=\u001b[39mname, schema\u001b[38;5;241m=\u001b[39mschema)\n",
      "File \u001b[1;32m~\\AppData\\Roaming\\Python\\Python312\\site-packages\\pandas\\io\\sql.py:1912\u001b[0m, in \u001b[0;36mSQLDatabase.prep_table\u001b[1;34m(self, frame, name, if_exists, index, index_label, schema, dtype)\u001b[0m\n\u001b[0;32m   1900\u001b[0m             \u001b[38;5;28;01mraise\u001b[39;00m \u001b[38;5;167;01mValueError\u001b[39;00m(\u001b[38;5;124mf\u001b[39m\u001b[38;5;124m\"\u001b[39m\u001b[38;5;124mThe type of \u001b[39m\u001b[38;5;132;01m{\u001b[39;00mcol\u001b[38;5;132;01m}\u001b[39;00m\u001b[38;5;124m is not a SQLAlchemy type\u001b[39m\u001b[38;5;124m\"\u001b[39m)\n\u001b[0;32m   1902\u001b[0m table \u001b[38;5;241m=\u001b[39m SQLTable(\n\u001b[0;32m   1903\u001b[0m     name,\n\u001b[0;32m   1904\u001b[0m     \u001b[38;5;28mself\u001b[39m,\n\u001b[1;32m   (...)\u001b[0m\n\u001b[0;32m   1910\u001b[0m     dtype\u001b[38;5;241m=\u001b[39mdtype,\n\u001b[0;32m   1911\u001b[0m )\n\u001b[1;32m-> 1912\u001b[0m \u001b[43mtable\u001b[49m\u001b[38;5;241;43m.\u001b[39;49m\u001b[43mcreate\u001b[49m\u001b[43m(\u001b[49m\u001b[43m)\u001b[49m\n\u001b[0;32m   1913\u001b[0m \u001b[38;5;28;01mreturn\u001b[39;00m table\n",
      "File \u001b[1;32m~\\AppData\\Roaming\\Python\\Python312\\site-packages\\pandas\\io\\sql.py:988\u001b[0m, in \u001b[0;36mSQLTable.create\u001b[1;34m(self)\u001b[0m\n\u001b[0;32m    986\u001b[0m     \u001b[38;5;28;01mraise\u001b[39;00m \u001b[38;5;167;01mValueError\u001b[39;00m(\u001b[38;5;124mf\u001b[39m\u001b[38;5;124m\"\u001b[39m\u001b[38;5;124mTable \u001b[39m\u001b[38;5;124m'\u001b[39m\u001b[38;5;132;01m{\u001b[39;00m\u001b[38;5;28mself\u001b[39m\u001b[38;5;241m.\u001b[39mname\u001b[38;5;132;01m}\u001b[39;00m\u001b[38;5;124m'\u001b[39m\u001b[38;5;124m already exists.\u001b[39m\u001b[38;5;124m\"\u001b[39m)\n\u001b[0;32m    987\u001b[0m \u001b[38;5;28;01mif\u001b[39;00m \u001b[38;5;28mself\u001b[39m\u001b[38;5;241m.\u001b[39mif_exists \u001b[38;5;241m==\u001b[39m \u001b[38;5;124m\"\u001b[39m\u001b[38;5;124mreplace\u001b[39m\u001b[38;5;124m\"\u001b[39m:\n\u001b[1;32m--> 988\u001b[0m     \u001b[38;5;28;43mself\u001b[39;49m\u001b[38;5;241;43m.\u001b[39;49m\u001b[43mpd_sql\u001b[49m\u001b[38;5;241;43m.\u001b[39;49m\u001b[43mdrop_table\u001b[49m\u001b[43m(\u001b[49m\u001b[38;5;28;43mself\u001b[39;49m\u001b[38;5;241;43m.\u001b[39;49m\u001b[43mname\u001b[49m\u001b[43m,\u001b[49m\u001b[43m \u001b[49m\u001b[38;5;28;43mself\u001b[39;49m\u001b[38;5;241;43m.\u001b[39;49m\u001b[43mschema\u001b[49m\u001b[43m)\u001b[49m\n\u001b[0;32m    989\u001b[0m     \u001b[38;5;28mself\u001b[39m\u001b[38;5;241m.\u001b[39m_execute_create()\n\u001b[0;32m    990\u001b[0m \u001b[38;5;28;01melif\u001b[39;00m \u001b[38;5;28mself\u001b[39m\u001b[38;5;241m.\u001b[39mif_exists \u001b[38;5;241m==\u001b[39m \u001b[38;5;124m\"\u001b[39m\u001b[38;5;124mappend\u001b[39m\u001b[38;5;124m\"\u001b[39m:\n",
      "File \u001b[1;32m~\\AppData\\Roaming\\Python\\Python312\\site-packages\\pandas\\io\\sql.py:2063\u001b[0m, in \u001b[0;36mSQLDatabase.drop_table\u001b[1;34m(self, table_name, schema)\u001b[0m\n\u001b[0;32m   2059\u001b[0m \u001b[38;5;28mself\u001b[39m\u001b[38;5;241m.\u001b[39mmeta\u001b[38;5;241m.\u001b[39mreflect(\n\u001b[0;32m   2060\u001b[0m     bind\u001b[38;5;241m=\u001b[39m\u001b[38;5;28mself\u001b[39m\u001b[38;5;241m.\u001b[39mcon, only\u001b[38;5;241m=\u001b[39m[table_name], schema\u001b[38;5;241m=\u001b[39mschema, views\u001b[38;5;241m=\u001b[39m\u001b[38;5;28;01mTrue\u001b[39;00m\n\u001b[0;32m   2061\u001b[0m )\n\u001b[0;32m   2062\u001b[0m \u001b[38;5;28;01mwith\u001b[39;00m \u001b[38;5;28mself\u001b[39m\u001b[38;5;241m.\u001b[39mrun_transaction():\n\u001b[1;32m-> 2063\u001b[0m     \u001b[38;5;28;43mself\u001b[39;49m\u001b[38;5;241;43m.\u001b[39;49m\u001b[43mget_table\u001b[49m\u001b[43m(\u001b[49m\u001b[43mtable_name\u001b[49m\u001b[43m,\u001b[49m\u001b[43m \u001b[49m\u001b[43mschema\u001b[49m\u001b[43m)\u001b[49m\u001b[38;5;241;43m.\u001b[39;49m\u001b[43mdrop\u001b[49m\u001b[43m(\u001b[49m\u001b[43mbind\u001b[49m\u001b[38;5;241;43m=\u001b[39;49m\u001b[38;5;28;43mself\u001b[39;49m\u001b[38;5;241;43m.\u001b[39;49m\u001b[43mcon\u001b[49m\u001b[43m)\u001b[49m\n\u001b[0;32m   2064\u001b[0m \u001b[38;5;28mself\u001b[39m\u001b[38;5;241m.\u001b[39mmeta\u001b[38;5;241m.\u001b[39mclear()\n",
      "File \u001b[1;32m~\\AppData\\Roaming\\Python\\Python312\\site-packages\\sqlalchemy\\sql\\schema.py:1301\u001b[0m, in \u001b[0;36mTable.drop\u001b[1;34m(self, bind, checkfirst)\u001b[0m\n\u001b[0;32m   1291\u001b[0m \u001b[38;5;28;01mdef\u001b[39;00m \u001b[38;5;21mdrop\u001b[39m(\u001b[38;5;28mself\u001b[39m, bind: _CreateDropBind, checkfirst: \u001b[38;5;28mbool\u001b[39m \u001b[38;5;241m=\u001b[39m \u001b[38;5;28;01mFalse\u001b[39;00m) \u001b[38;5;241m-\u001b[39m\u001b[38;5;241m>\u001b[39m \u001b[38;5;28;01mNone\u001b[39;00m:\n\u001b[0;32m   1292\u001b[0m \u001b[38;5;250m    \u001b[39m\u001b[38;5;124;03m\"\"\"Issue a ``DROP`` statement for this\u001b[39;00m\n\u001b[0;32m   1293\u001b[0m \u001b[38;5;124;03m    :class:`_schema.Table`, using the given\u001b[39;00m\n\u001b[0;32m   1294\u001b[0m \u001b[38;5;124;03m    :class:`.Connection` or :class:`.Engine` for connectivity.\u001b[39;00m\n\u001b[1;32m   (...)\u001b[0m\n\u001b[0;32m   1299\u001b[0m \n\u001b[0;32m   1300\u001b[0m \u001b[38;5;124;03m    \"\"\"\u001b[39;00m\n\u001b[1;32m-> 1301\u001b[0m     \u001b[43mbind\u001b[49m\u001b[38;5;241;43m.\u001b[39;49m\u001b[43m_run_ddl_visitor\u001b[49m\u001b[43m(\u001b[49m\u001b[43mddl\u001b[49m\u001b[38;5;241;43m.\u001b[39;49m\u001b[43mSchemaDropper\u001b[49m\u001b[43m,\u001b[49m\u001b[43m \u001b[49m\u001b[38;5;28;43mself\u001b[39;49m\u001b[43m,\u001b[49m\u001b[43m \u001b[49m\u001b[43mcheckfirst\u001b[49m\u001b[38;5;241;43m=\u001b[39;49m\u001b[43mcheckfirst\u001b[49m\u001b[43m)\u001b[49m\n",
      "File \u001b[1;32m~\\AppData\\Roaming\\Python\\Python312\\site-packages\\sqlalchemy\\engine\\base.py:2457\u001b[0m, in \u001b[0;36mConnection._run_ddl_visitor\u001b[1;34m(self, visitorcallable, element, **kwargs)\u001b[0m\n\u001b[0;32m   2445\u001b[0m \u001b[38;5;28;01mdef\u001b[39;00m \u001b[38;5;21m_run_ddl_visitor\u001b[39m(\n\u001b[0;32m   2446\u001b[0m     \u001b[38;5;28mself\u001b[39m,\n\u001b[0;32m   2447\u001b[0m     visitorcallable: Type[Union[SchemaGenerator, SchemaDropper]],\n\u001b[0;32m   2448\u001b[0m     element: SchemaItem,\n\u001b[0;32m   2449\u001b[0m     \u001b[38;5;241m*\u001b[39m\u001b[38;5;241m*\u001b[39mkwargs: Any,\n\u001b[0;32m   2450\u001b[0m ) \u001b[38;5;241m-\u001b[39m\u001b[38;5;241m>\u001b[39m \u001b[38;5;28;01mNone\u001b[39;00m:\n\u001b[0;32m   2451\u001b[0m \u001b[38;5;250m    \u001b[39m\u001b[38;5;124;03m\"\"\"run a DDL visitor.\u001b[39;00m\n\u001b[0;32m   2452\u001b[0m \n\u001b[0;32m   2453\u001b[0m \u001b[38;5;124;03m    This method is only here so that the MockConnection can change the\u001b[39;00m\n\u001b[0;32m   2454\u001b[0m \u001b[38;5;124;03m    options given to the visitor so that \"checkfirst\" is skipped.\u001b[39;00m\n\u001b[0;32m   2455\u001b[0m \n\u001b[0;32m   2456\u001b[0m \u001b[38;5;124;03m    \"\"\"\u001b[39;00m\n\u001b[1;32m-> 2457\u001b[0m     \u001b[43mvisitorcallable\u001b[49m\u001b[43m(\u001b[49m\u001b[38;5;28;43mself\u001b[39;49m\u001b[38;5;241;43m.\u001b[39;49m\u001b[43mdialect\u001b[49m\u001b[43m,\u001b[49m\u001b[43m \u001b[49m\u001b[38;5;28;43mself\u001b[39;49m\u001b[43m,\u001b[49m\u001b[43m \u001b[49m\u001b[38;5;241;43m*\u001b[39;49m\u001b[38;5;241;43m*\u001b[39;49m\u001b[43mkwargs\u001b[49m\u001b[43m)\u001b[49m\u001b[38;5;241;43m.\u001b[39;49m\u001b[43mtraverse_single\u001b[49m\u001b[43m(\u001b[49m\u001b[43melement\u001b[49m\u001b[43m)\u001b[49m\n",
      "File \u001b[1;32m~\\AppData\\Roaming\\Python\\Python312\\site-packages\\sqlalchemy\\sql\\visitors.py:664\u001b[0m, in \u001b[0;36mExternalTraversal.traverse_single\u001b[1;34m(self, obj, **kw)\u001b[0m\n\u001b[0;32m    662\u001b[0m meth \u001b[38;5;241m=\u001b[39m \u001b[38;5;28mgetattr\u001b[39m(v, \u001b[38;5;124m\"\u001b[39m\u001b[38;5;124mvisit_\u001b[39m\u001b[38;5;132;01m%s\u001b[39;00m\u001b[38;5;124m\"\u001b[39m \u001b[38;5;241m%\u001b[39m obj\u001b[38;5;241m.\u001b[39m__visit_name__, \u001b[38;5;28;01mNone\u001b[39;00m)\n\u001b[0;32m    663\u001b[0m \u001b[38;5;28;01mif\u001b[39;00m meth:\n\u001b[1;32m--> 664\u001b[0m     \u001b[38;5;28;01mreturn\u001b[39;00m \u001b[43mmeth\u001b[49m\u001b[43m(\u001b[49m\u001b[43mobj\u001b[49m\u001b[43m,\u001b[49m\u001b[43m \u001b[49m\u001b[38;5;241;43m*\u001b[39;49m\u001b[38;5;241;43m*\u001b[39;49m\u001b[43mkw\u001b[49m\u001b[43m)\u001b[49m\n",
      "File \u001b[1;32m~\\AppData\\Roaming\\Python\\Python312\\site-packages\\sqlalchemy\\sql\\ddl.py:1143\u001b[0m, in \u001b[0;36mSchemaDropper.visit_table\u001b[1;34m(self, table, drop_ok, _is_metadata_operation, _ignore_sequences)\u001b[0m\n\u001b[0;32m   1136\u001b[0m     \u001b[38;5;28;01mreturn\u001b[39;00m\n\u001b[0;32m   1138\u001b[0m \u001b[38;5;28;01mwith\u001b[39;00m \u001b[38;5;28mself\u001b[39m\u001b[38;5;241m.\u001b[39mwith_ddl_events(\n\u001b[0;32m   1139\u001b[0m     table,\n\u001b[0;32m   1140\u001b[0m     checkfirst\u001b[38;5;241m=\u001b[39m\u001b[38;5;28mself\u001b[39m\u001b[38;5;241m.\u001b[39mcheckfirst,\n\u001b[0;32m   1141\u001b[0m     _is_metadata_operation\u001b[38;5;241m=\u001b[39m_is_metadata_operation,\n\u001b[0;32m   1142\u001b[0m ):\n\u001b[1;32m-> 1143\u001b[0m     \u001b[43mDropTable\u001b[49m\u001b[43m(\u001b[49m\u001b[43mtable\u001b[49m\u001b[43m)\u001b[49m\u001b[38;5;241;43m.\u001b[39;49m\u001b[43m_invoke_with\u001b[49m\u001b[43m(\u001b[49m\u001b[38;5;28;43mself\u001b[39;49m\u001b[38;5;241;43m.\u001b[39;49m\u001b[43mconnection\u001b[49m\u001b[43m)\u001b[49m\n\u001b[0;32m   1145\u001b[0m     \u001b[38;5;66;03m# traverse client side defaults which may refer to server-side\u001b[39;00m\n\u001b[0;32m   1146\u001b[0m     \u001b[38;5;66;03m# sequences. noting that some of these client side defaults may\u001b[39;00m\n\u001b[0;32m   1147\u001b[0m     \u001b[38;5;66;03m# also be set up as server side defaults\u001b[39;00m\n\u001b[1;32m   (...)\u001b[0m\n\u001b[0;32m   1150\u001b[0m     \u001b[38;5;66;03m# #associating-a-sequence-as-the-server-side-\u001b[39;00m\n\u001b[0;32m   1151\u001b[0m     \u001b[38;5;66;03m# default), so have to be dropped after the table is dropped.\u001b[39;00m\n\u001b[0;32m   1152\u001b[0m     \u001b[38;5;28;01mfor\u001b[39;00m column \u001b[38;5;129;01min\u001b[39;00m table\u001b[38;5;241m.\u001b[39mcolumns:\n",
      "File \u001b[1;32m~\\AppData\\Roaming\\Python\\Python312\\site-packages\\sqlalchemy\\sql\\ddl.py:314\u001b[0m, in \u001b[0;36mExecutableDDLElement._invoke_with\u001b[1;34m(self, bind)\u001b[0m\n\u001b[0;32m    312\u001b[0m \u001b[38;5;28;01mdef\u001b[39;00m \u001b[38;5;21m_invoke_with\u001b[39m(\u001b[38;5;28mself\u001b[39m, bind):\n\u001b[0;32m    313\u001b[0m     \u001b[38;5;28;01mif\u001b[39;00m \u001b[38;5;28mself\u001b[39m\u001b[38;5;241m.\u001b[39m_should_execute(\u001b[38;5;28mself\u001b[39m\u001b[38;5;241m.\u001b[39mtarget, bind):\n\u001b[1;32m--> 314\u001b[0m         \u001b[38;5;28;01mreturn\u001b[39;00m \u001b[43mbind\u001b[49m\u001b[38;5;241;43m.\u001b[39;49m\u001b[43mexecute\u001b[49m\u001b[43m(\u001b[49m\u001b[38;5;28;43mself\u001b[39;49m\u001b[43m)\u001b[49m\n",
      "File \u001b[1;32m~\\AppData\\Roaming\\Python\\Python312\\site-packages\\sqlalchemy\\engine\\base.py:1418\u001b[0m, in \u001b[0;36mConnection.execute\u001b[1;34m(self, statement, parameters, execution_options)\u001b[0m\n\u001b[0;32m   1416\u001b[0m     \u001b[38;5;28;01mraise\u001b[39;00m exc\u001b[38;5;241m.\u001b[39mObjectNotExecutableError(statement) \u001b[38;5;28;01mfrom\u001b[39;00m \u001b[38;5;21;01merr\u001b[39;00m\n\u001b[0;32m   1417\u001b[0m \u001b[38;5;28;01melse\u001b[39;00m:\n\u001b[1;32m-> 1418\u001b[0m     \u001b[38;5;28;01mreturn\u001b[39;00m \u001b[43mmeth\u001b[49m\u001b[43m(\u001b[49m\n\u001b[0;32m   1419\u001b[0m \u001b[43m        \u001b[49m\u001b[38;5;28;43mself\u001b[39;49m\u001b[43m,\u001b[49m\n\u001b[0;32m   1420\u001b[0m \u001b[43m        \u001b[49m\u001b[43mdistilled_parameters\u001b[49m\u001b[43m,\u001b[49m\n\u001b[0;32m   1421\u001b[0m \u001b[43m        \u001b[49m\u001b[43mexecution_options\u001b[49m\u001b[43m \u001b[49m\u001b[38;5;129;43;01mor\u001b[39;49;00m\u001b[43m \u001b[49m\u001b[43mNO_OPTIONS\u001b[49m\u001b[43m,\u001b[49m\n\u001b[0;32m   1422\u001b[0m \u001b[43m    \u001b[49m\u001b[43m)\u001b[49m\n",
      "File \u001b[1;32m~\\AppData\\Roaming\\Python\\Python312\\site-packages\\sqlalchemy\\sql\\ddl.py:180\u001b[0m, in \u001b[0;36mExecutableDDLElement._execute_on_connection\u001b[1;34m(self, connection, distilled_params, execution_options)\u001b[0m\n\u001b[0;32m    177\u001b[0m \u001b[38;5;28;01mdef\u001b[39;00m \u001b[38;5;21m_execute_on_connection\u001b[39m(\n\u001b[0;32m    178\u001b[0m     \u001b[38;5;28mself\u001b[39m, connection, distilled_params, execution_options\n\u001b[0;32m    179\u001b[0m ):\n\u001b[1;32m--> 180\u001b[0m     \u001b[38;5;28;01mreturn\u001b[39;00m \u001b[43mconnection\u001b[49m\u001b[38;5;241;43m.\u001b[39;49m\u001b[43m_execute_ddl\u001b[49m\u001b[43m(\u001b[49m\n\u001b[0;32m    181\u001b[0m \u001b[43m        \u001b[49m\u001b[38;5;28;43mself\u001b[39;49m\u001b[43m,\u001b[49m\u001b[43m \u001b[49m\u001b[43mdistilled_params\u001b[49m\u001b[43m,\u001b[49m\u001b[43m \u001b[49m\u001b[43mexecution_options\u001b[49m\n\u001b[0;32m    182\u001b[0m \u001b[43m    \u001b[49m\u001b[43m)\u001b[49m\n",
      "File \u001b[1;32m~\\AppData\\Roaming\\Python\\Python312\\site-packages\\sqlalchemy\\engine\\base.py:1529\u001b[0m, in \u001b[0;36mConnection._execute_ddl\u001b[1;34m(self, ddl, distilled_parameters, execution_options)\u001b[0m\n\u001b[0;32m   1524\u001b[0m dialect \u001b[38;5;241m=\u001b[39m \u001b[38;5;28mself\u001b[39m\u001b[38;5;241m.\u001b[39mdialect\n\u001b[0;32m   1526\u001b[0m compiled \u001b[38;5;241m=\u001b[39m ddl\u001b[38;5;241m.\u001b[39mcompile(\n\u001b[0;32m   1527\u001b[0m     dialect\u001b[38;5;241m=\u001b[39mdialect, schema_translate_map\u001b[38;5;241m=\u001b[39mschema_translate_map\n\u001b[0;32m   1528\u001b[0m )\n\u001b[1;32m-> 1529\u001b[0m ret \u001b[38;5;241m=\u001b[39m \u001b[38;5;28;43mself\u001b[39;49m\u001b[38;5;241;43m.\u001b[39;49m\u001b[43m_execute_context\u001b[49m\u001b[43m(\u001b[49m\n\u001b[0;32m   1530\u001b[0m \u001b[43m    \u001b[49m\u001b[43mdialect\u001b[49m\u001b[43m,\u001b[49m\n\u001b[0;32m   1531\u001b[0m \u001b[43m    \u001b[49m\u001b[43mdialect\u001b[49m\u001b[38;5;241;43m.\u001b[39;49m\u001b[43mexecution_ctx_cls\u001b[49m\u001b[38;5;241;43m.\u001b[39;49m\u001b[43m_init_ddl\u001b[49m\u001b[43m,\u001b[49m\n\u001b[0;32m   1532\u001b[0m \u001b[43m    \u001b[49m\u001b[43mcompiled\u001b[49m\u001b[43m,\u001b[49m\n\u001b[0;32m   1533\u001b[0m \u001b[43m    \u001b[49m\u001b[38;5;28;43;01mNone\u001b[39;49;00m\u001b[43m,\u001b[49m\n\u001b[0;32m   1534\u001b[0m \u001b[43m    \u001b[49m\u001b[43mexec_opts\u001b[49m\u001b[43m,\u001b[49m\n\u001b[0;32m   1535\u001b[0m \u001b[43m    \u001b[49m\u001b[43mcompiled\u001b[49m\u001b[43m,\u001b[49m\n\u001b[0;32m   1536\u001b[0m \u001b[43m\u001b[49m\u001b[43m)\u001b[49m\n\u001b[0;32m   1537\u001b[0m \u001b[38;5;28;01mif\u001b[39;00m \u001b[38;5;28mself\u001b[39m\u001b[38;5;241m.\u001b[39m_has_events \u001b[38;5;129;01mor\u001b[39;00m \u001b[38;5;28mself\u001b[39m\u001b[38;5;241m.\u001b[39mengine\u001b[38;5;241m.\u001b[39m_has_events:\n\u001b[0;32m   1538\u001b[0m     \u001b[38;5;28mself\u001b[39m\u001b[38;5;241m.\u001b[39mdispatch\u001b[38;5;241m.\u001b[39mafter_execute(\n\u001b[0;32m   1539\u001b[0m         \u001b[38;5;28mself\u001b[39m,\n\u001b[0;32m   1540\u001b[0m         ddl,\n\u001b[1;32m   (...)\u001b[0m\n\u001b[0;32m   1544\u001b[0m         ret,\n\u001b[0;32m   1545\u001b[0m     )\n",
      "File \u001b[1;32m~\\AppData\\Roaming\\Python\\Python312\\site-packages\\sqlalchemy\\engine\\base.py:1846\u001b[0m, in \u001b[0;36mConnection._execute_context\u001b[1;34m(self, dialect, constructor, statement, parameters, execution_options, *args, **kw)\u001b[0m\n\u001b[0;32m   1844\u001b[0m     \u001b[38;5;28;01mreturn\u001b[39;00m \u001b[38;5;28mself\u001b[39m\u001b[38;5;241m.\u001b[39m_exec_insertmany_context(dialect, context)\n\u001b[0;32m   1845\u001b[0m \u001b[38;5;28;01melse\u001b[39;00m:\n\u001b[1;32m-> 1846\u001b[0m     \u001b[38;5;28;01mreturn\u001b[39;00m \u001b[38;5;28;43mself\u001b[39;49m\u001b[38;5;241;43m.\u001b[39;49m\u001b[43m_exec_single_context\u001b[49m\u001b[43m(\u001b[49m\n\u001b[0;32m   1847\u001b[0m \u001b[43m        \u001b[49m\u001b[43mdialect\u001b[49m\u001b[43m,\u001b[49m\u001b[43m \u001b[49m\u001b[43mcontext\u001b[49m\u001b[43m,\u001b[49m\u001b[43m \u001b[49m\u001b[43mstatement\u001b[49m\u001b[43m,\u001b[49m\u001b[43m \u001b[49m\u001b[43mparameters\u001b[49m\n\u001b[0;32m   1848\u001b[0m \u001b[43m    \u001b[49m\u001b[43m)\u001b[49m\n",
      "File \u001b[1;32m~\\AppData\\Roaming\\Python\\Python312\\site-packages\\sqlalchemy\\engine\\base.py:1986\u001b[0m, in \u001b[0;36mConnection._exec_single_context\u001b[1;34m(self, dialect, context, statement, parameters)\u001b[0m\n\u001b[0;32m   1983\u001b[0m     result \u001b[38;5;241m=\u001b[39m context\u001b[38;5;241m.\u001b[39m_setup_result_proxy()\n\u001b[0;32m   1985\u001b[0m \u001b[38;5;28;01mexcept\u001b[39;00m \u001b[38;5;167;01mBaseException\u001b[39;00m \u001b[38;5;28;01mas\u001b[39;00m e:\n\u001b[1;32m-> 1986\u001b[0m     \u001b[38;5;28;43mself\u001b[39;49m\u001b[38;5;241;43m.\u001b[39;49m\u001b[43m_handle_dbapi_exception\u001b[49m\u001b[43m(\u001b[49m\n\u001b[0;32m   1987\u001b[0m \u001b[43m        \u001b[49m\u001b[43me\u001b[49m\u001b[43m,\u001b[49m\u001b[43m \u001b[49m\u001b[43mstr_statement\u001b[49m\u001b[43m,\u001b[49m\u001b[43m \u001b[49m\u001b[43meffective_parameters\u001b[49m\u001b[43m,\u001b[49m\u001b[43m \u001b[49m\u001b[43mcursor\u001b[49m\u001b[43m,\u001b[49m\u001b[43m \u001b[49m\u001b[43mcontext\u001b[49m\n\u001b[0;32m   1988\u001b[0m \u001b[43m    \u001b[49m\u001b[43m)\u001b[49m\n\u001b[0;32m   1990\u001b[0m \u001b[38;5;28;01mreturn\u001b[39;00m result\n",
      "File \u001b[1;32m~\\AppData\\Roaming\\Python\\Python312\\site-packages\\sqlalchemy\\engine\\base.py:2353\u001b[0m, in \u001b[0;36mConnection._handle_dbapi_exception\u001b[1;34m(self, e, statement, parameters, cursor, context, is_sub_exec)\u001b[0m\n\u001b[0;32m   2351\u001b[0m \u001b[38;5;28;01melif\u001b[39;00m should_wrap:\n\u001b[0;32m   2352\u001b[0m     \u001b[38;5;28;01massert\u001b[39;00m sqlalchemy_exception \u001b[38;5;129;01mis\u001b[39;00m \u001b[38;5;129;01mnot\u001b[39;00m \u001b[38;5;28;01mNone\u001b[39;00m\n\u001b[1;32m-> 2353\u001b[0m     \u001b[38;5;28;01mraise\u001b[39;00m sqlalchemy_exception\u001b[38;5;241m.\u001b[39mwith_traceback(exc_info[\u001b[38;5;241m2\u001b[39m]) \u001b[38;5;28;01mfrom\u001b[39;00m \u001b[38;5;21;01me\u001b[39;00m\n\u001b[0;32m   2354\u001b[0m \u001b[38;5;28;01melse\u001b[39;00m:\n\u001b[0;32m   2355\u001b[0m     \u001b[38;5;28;01massert\u001b[39;00m exc_info[\u001b[38;5;241m1\u001b[39m] \u001b[38;5;129;01mis\u001b[39;00m \u001b[38;5;129;01mnot\u001b[39;00m \u001b[38;5;28;01mNone\u001b[39;00m\n",
      "File \u001b[1;32m~\\AppData\\Roaming\\Python\\Python312\\site-packages\\sqlalchemy\\engine\\base.py:1967\u001b[0m, in \u001b[0;36mConnection._exec_single_context\u001b[1;34m(self, dialect, context, statement, parameters)\u001b[0m\n\u001b[0;32m   1965\u001b[0m                 \u001b[38;5;28;01mbreak\u001b[39;00m\n\u001b[0;32m   1966\u001b[0m     \u001b[38;5;28;01mif\u001b[39;00m \u001b[38;5;129;01mnot\u001b[39;00m evt_handled:\n\u001b[1;32m-> 1967\u001b[0m         \u001b[38;5;28;43mself\u001b[39;49m\u001b[38;5;241;43m.\u001b[39;49m\u001b[43mdialect\u001b[49m\u001b[38;5;241;43m.\u001b[39;49m\u001b[43mdo_execute\u001b[49m\u001b[43m(\u001b[49m\n\u001b[0;32m   1968\u001b[0m \u001b[43m            \u001b[49m\u001b[43mcursor\u001b[49m\u001b[43m,\u001b[49m\u001b[43m \u001b[49m\u001b[43mstr_statement\u001b[49m\u001b[43m,\u001b[49m\u001b[43m \u001b[49m\u001b[43meffective_parameters\u001b[49m\u001b[43m,\u001b[49m\u001b[43m \u001b[49m\u001b[43mcontext\u001b[49m\n\u001b[0;32m   1969\u001b[0m \u001b[43m        \u001b[49m\u001b[43m)\u001b[49m\n\u001b[0;32m   1971\u001b[0m \u001b[38;5;28;01mif\u001b[39;00m \u001b[38;5;28mself\u001b[39m\u001b[38;5;241m.\u001b[39m_has_events \u001b[38;5;129;01mor\u001b[39;00m \u001b[38;5;28mself\u001b[39m\u001b[38;5;241m.\u001b[39mengine\u001b[38;5;241m.\u001b[39m_has_events:\n\u001b[0;32m   1972\u001b[0m     \u001b[38;5;28mself\u001b[39m\u001b[38;5;241m.\u001b[39mdispatch\u001b[38;5;241m.\u001b[39mafter_cursor_execute(\n\u001b[0;32m   1973\u001b[0m         \u001b[38;5;28mself\u001b[39m,\n\u001b[0;32m   1974\u001b[0m         cursor,\n\u001b[1;32m   (...)\u001b[0m\n\u001b[0;32m   1978\u001b[0m         context\u001b[38;5;241m.\u001b[39mexecutemany,\n\u001b[0;32m   1979\u001b[0m     )\n",
      "File \u001b[1;32m~\\AppData\\Roaming\\Python\\Python312\\site-packages\\sqlalchemy\\engine\\default.py:924\u001b[0m, in \u001b[0;36mDefaultDialect.do_execute\u001b[1;34m(self, cursor, statement, parameters, context)\u001b[0m\n\u001b[0;32m    923\u001b[0m \u001b[38;5;28;01mdef\u001b[39;00m \u001b[38;5;21mdo_execute\u001b[39m(\u001b[38;5;28mself\u001b[39m, cursor, statement, parameters, context\u001b[38;5;241m=\u001b[39m\u001b[38;5;28;01mNone\u001b[39;00m):\n\u001b[1;32m--> 924\u001b[0m     \u001b[43mcursor\u001b[49m\u001b[38;5;241;43m.\u001b[39;49m\u001b[43mexecute\u001b[49m\u001b[43m(\u001b[49m\u001b[43mstatement\u001b[49m\u001b[43m,\u001b[49m\u001b[43m \u001b[49m\u001b[43mparameters\u001b[49m\u001b[43m)\u001b[49m\n",
      "\u001b[1;31mProgrammingError\u001b[0m: (pyodbc.ProgrammingError) ('42000', \"[42000] [Microsoft][ODBC Driver 17 for SQL Server][SQL Server]Could not drop object 'Inventory' because it is referenced by a FOREIGN KEY constraint. (3726) (SQLExecDirectW)\")\n[SQL: \nDROP TABLE [Inventory]]\n(Background on this error at: https://sqlalche.me/e/20/f405)"
     ]
    }
   ],
   "source": [
    "import pandas as pd\n",
    "from sqlalchemy import create_engine\n",
    "import urllib\n",
    "\n",
    "# Define tu servidor y base de datos\n",
    "server = 'localhost\\\\SQLEXPRESS'\n",
    "database = 'DrinksBasket'\n",
    "\n",
    "# Forma la cadena de conexión con urllib\n",
    "params = urllib.parse.quote_plus(\n",
    "    f\"DRIVER={{ODBC Driver 17 for SQL Server}};\"\n",
    "    f\"SERVER={server};\"\n",
    "    f\"DATABASE={database};\"\n",
    "    \"Trusted_Connection=yes;\"\n",
    ")\n",
    "\n",
    "# Crea el motor de conexión\n",
    "engine = create_engine(f\"mssql+pyodbc:///?odbc_connect={params}\")\n",
    "\n",
    "# Lista de archivos CSV y nombres de tablas\n",
    "csv_files = ['SalesDetail.csv', 'Sales.csv', 'Inventory.csv', 'Purchases.csv', 'InvoicePurchases.csv', 'Suppliers.csv']\n",
    "table_names = ['SalesDetail', 'Sales', 'Inventory', 'Purchases', 'InvoicePurchases', 'Suppliers']\n",
    "\n",
    "# Cargar cada archivo CSV en su respectiva tabla en SQL Server\n",
    "for csv_file, table_name in zip(csv_files, table_names):\n",
    "    df = pd.read_csv(csv_file)\n",
    "    df.to_sql(name=table_name, con=engine, if_exists='replace', index=False)\n",
    "\n",
    "# Verificación opcional: Mostrar las primeras filas de cada tabla cargada\n",
    "for table_name in table_names:\n",
    "    query = f\"SELECT TOP 5 * FROM {table_name}\"\n",
    "    with engine.connect() as connection:\n",
    "        result = connection.execute(query)\n",
    "        print(f\"Primeras filas de la tabla {table_name}:\")\n",
    "        for row in result:\n",
    "            print(row)\n"
   ]
  },
  {
   "cell_type": "code",
   "execution_count": null,
   "metadata": {},
   "outputs": [],
   "source": [
    "#Paso 4: Verificar la carga de datos\n",
    "#Para asegurarte de que los datos se hayan cargado correctamente, puedes hacer una consulta simple a la base de datos:\n",
    "# Consulta para verificar los datos\n",
    "query = f\"SELECT TOP 5 * FROM {table_name}\"\n",
    "with engine.connect() as connection:\n",
    "    result = connection.execute(query)\n",
    "    for row in result:\n",
    "        print(row)"
   ]
  },
  {
   "cell_type": "code",
   "execution_count": null,
   "metadata": {},
   "outputs": [],
   "source": [
    "#Paso 5: Automatizar la ingesta de nuevos datos\n",
    "#Para automatizar la ingesta de datos nuevos, podrías programar un script que se ejecute periódicamente. Aquí tienes un esquema básico de cómo podría verse tu script de automatización:\n",
    "import pandas as pd\n",
    "from sqlalchemy import create_engine\n",
    "import urllib\n",
    "# Reemplaza los valores con los de tu base de datos\n",
    "username = 'tu_usuario'\n",
    "password = 'tu_contraseña'\n",
    "server = 'tu_servidor'\n",
    "database = 'tu_base_de_datos'\n",
    "# Crea la cadena de conexión\n",
    "connection_string = f\"DRIVER={{ODBC Driver 17 for SQL Server}};SERVER={server};DATABASE={database};UID={username};PWD={password}\"\n",
    "params = urllib.parse.quote_plus(connection_string)\n",
    "# Crea el motor de conexión\n",
    "engine = create_engine(f\"mssql+pyodbc:///?odbc_connect={params}\")\n",
    "# Función para cargar nuevos datos\n",
    "def cargar_nuevos_datos():\n",
    "    # Aquí iría tu lógica para obtener los nuevos datos\n",
    "    nuevos_datos = pd.read_csv('ruta_a_nuevos_datos.csv')  # Ejemplo\n",
    "    # Cargar nuevos datos en la tabla SQL\n",
    "    nuevos_datos.to_sql(name='nombre_de_tu_tabla', con=engine, if_exists='append', index=False)\n",
    "# Programa el script para que se ejecute automáticamente\n",
    "if __name__ == '__main__':\n",
    "    cargar_nuevos_datos()"
   ]
  }
 ],
 "metadata": {
  "kernelspec": {
   "display_name": "Python 3",
   "language": "python",
   "name": "python3"
  },
  "language_info": {
   "codemirror_mode": {
    "name": "ipython",
    "version": 3
   },
   "file_extension": ".py",
   "mimetype": "text/x-python",
   "name": "python",
   "nbconvert_exporter": "python",
   "pygments_lexer": "ipython3",
   "version": "3.12.3"
  }
 },
 "nbformat": 4,
 "nbformat_minor": 2
}
